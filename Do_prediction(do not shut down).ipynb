{
 "cells": [
  {
   "cell_type": "code",
   "execution_count": null,
   "metadata": {
    "scrolled": true
   },
   "outputs": [],
   "source": [
    "from activity_recognition import do_recognition\n",
    "import schedule\n",
    "import time\n",
    "\n",
    "schedule.clear()\n",
    "schedule.every().day.at(\"19:00\").do(do_recognition)\n",
    "\n"
   ]
  },
  {
   "cell_type": "code",
   "execution_count": null,
   "metadata": {},
   "outputs": [],
   "source": [
    "while True:\n",
    "    try:\n",
    "        schedule.run_pending()\n",
    "        time.sleep(60)\n",
    "    except:\n",
    "        error = \"something happened\"\n",
    "        continue\n",
    "\n",
    "  "
   ]
  },
  {
   "cell_type": "code",
   "execution_count": null,
   "metadata": {},
   "outputs": [
    {
     "name": "stdout",
     "output_type": "stream",
     "text": [
      "READ DATA FRAMES SIZE : 1389056\n",
      "Watch  watch-sensor-356969030313411  is being processed\n"
     ]
    },
    {
     "name": "stderr",
     "output_type": "stream",
     "text": [
      "/anaconda/envs/py35/lib/python3.5/site-packages/dsmuc/custom/__init__.py:26: SettingWithCopyWarning: \n",
      "A value is trying to be set on a copy of a slice from a DataFrame.\n",
      "Try using .loc[row_indexer,col_indexer] = value instead\n",
      "\n",
      "See the caveats in the documentation: http://pandas.pydata.org/pandas-docs/stable/indexing.html#indexing-view-versus-copy\n",
      "  df['date'] = pd.to_datetime(df[unix_col],unit=unit)\n"
     ]
    },
    {
     "name": "stdout",
     "output_type": "stream",
     "text": [
      "Extracting interested sensor data...\n",
      "READ DATA FRAMES SIZE AFTER CLEANING : 143327\n",
      "doing time: 2018-07-08 16:00:00  -  2018-07-08 16:05:00\n",
      "doing time: 2018-07-08 16:05:00  -  2018-07-08 16:10:00\n",
      "doing time: 2018-07-08 16:10:00  -  2018-07-08 16:15:00\n",
      "doing time: 2018-07-08 16:15:00  -  2018-07-08 16:20:00\n",
      "doing time: 2018-07-08 16:20:00  -  2018-07-08 16:25:00\n",
      "doing time: 2018-07-08 16:25:00  -  2018-07-08 16:30:00\n",
      "doing time: 2018-07-08 16:30:00  -  2018-07-08 16:35:00\n",
      "doing time: 2018-07-08 16:35:00  -  2018-07-08 16:40:00\n",
      "doing time: 2018-07-08 16:40:00  -  2018-07-08 16:45:00\n",
      "doing time: 2018-07-08 16:45:00  -  2018-07-08 16:50:00\n",
      "doing time: 2018-07-08 16:50:00  -  2018-07-08 16:55:00\n",
      "doing time: 2018-07-08 16:55:00  -  2018-07-08 17:00:00\n",
      "doing time: 2018-07-08 17:00:00  -  2018-07-08 17:05:00\n",
      "doing time: 2018-07-08 17:05:00  -  2018-07-08 17:10:00\n",
      "doing time: 2018-07-08 17:10:00  -  2018-07-08 17:15:00\n",
      "doing time: 2018-07-08 17:15:00  -  2018-07-08 17:20:00\n",
      "doing time: 2018-07-08 17:20:00  -  2018-07-08 17:25:00\n",
      "doing time: 2018-07-08 17:25:00  -  2018-07-08 17:30:00\n",
      "doing time: 2018-07-08 17:30:00  -  2018-07-08 17:35:00\n",
      "doing time: 2018-07-08 17:35:00  -  2018-07-08 17:40:00\n",
      "doing time: 2018-07-08 17:40:00  -  2018-07-08 17:45:00\n",
      "doing time: 2018-07-08 17:45:00  -  2018-07-08 17:50:00\n",
      "doing time: 2018-07-08 17:50:00  -  2018-07-08 17:55:00\n",
      "doing time: 2018-07-08 17:55:00  -  2018-07-08 18:00:00\n",
      "doing time: 2018-07-08 18:00:00  -  2018-07-08 18:05:00\n",
      "doing time: 2018-07-08 18:05:00  -  2018-07-08 18:10:00\n",
      "doing time: 2018-07-08 18:10:00  -  2018-07-08 18:15:00\n",
      "doing time: 2018-07-08 18:15:00  -  2018-07-08 18:20:00\n",
      "doing time: 2018-07-08 18:20:00  -  2018-07-08 18:25:00\n",
      "doing time: 2018-07-08 18:25:00  -  2018-07-08 18:30:00\n",
      "doing time: 2018-07-08 18:30:00  -  2018-07-08 18:35:00\n",
      "doing time: 2018-07-08 18:35:00  -  2018-07-08 18:40:00\n",
      "doing time: 2018-07-08 18:40:00  -  2018-07-08 18:45:00\n",
      "doing time: 2018-07-08 18:45:00  -  2018-07-08 18:50:00\n"
     ]
    },
    {
     "name": "stderr",
     "output_type": "stream",
     "text": [
      "/anaconda/envs/py35/lib/python3.5/site-packages/dsmuc/features/__init__.py:166: RuntimeWarning: Mean of empty slice.\n",
      "  list_.append(np.diff(ind).mean())\n",
      "/anaconda/envs/py35/lib/python3.5/site-packages/numpy/core/_methods.py:80: RuntimeWarning: invalid value encountered in double_scalars\n",
      "  ret = ret.dtype.type(ret / rcount)\n"
     ]
    },
    {
     "name": "stdout",
     "output_type": "stream",
     "text": [
      "doing time: 2018-07-08 18:50:00  -  2018-07-08 18:55:00\n",
      "doing time: 2018-07-08 18:55:00  -  2018-07-08 19:00:00\n",
      "doing time: 2018-07-08 19:00:00  -  2018-07-08 19:05:00\n",
      "doing time: 2018-07-08 19:05:00  -  2018-07-08 19:10:00\n",
      "doing time: 2018-07-08 19:10:00  -  2018-07-08 19:15:00\n",
      "doing time: 2018-07-08 19:15:00  -  2018-07-08 19:20:00\n",
      "doing time: 2018-07-08 19:20:00  -  2018-07-08 19:25:00\n",
      "doing time: 2018-07-08 19:25:00  -  2018-07-08 19:30:00\n",
      "doing time: 2018-07-08 19:30:00  -  2018-07-08 19:35:00\n",
      "doing time: 2018-07-08 19:35:00  -  2018-07-08 19:40:00\n",
      "doing time: 2018-07-08 19:40:00  -  2018-07-08 19:45:00\n",
      "doing time: 2018-07-08 19:45:00  -  2018-07-08 19:50:00\n",
      "doing time: 2018-07-08 19:50:00  -  2018-07-08 19:55:00\n",
      "doing time: 2018-07-08 19:55:00  -  2018-07-08 20:00:00\n",
      "doing time: 2018-07-08 20:00:00  -  2018-07-08 20:05:00\n",
      "doing time: 2018-07-08 20:05:00  -  2018-07-08 20:10:00\n",
      "doing time: 2018-07-08 20:10:00  -  2018-07-08 20:15:00\n",
      "doing time: 2018-07-08 20:15:00  -  2018-07-08 20:20:00\n"
     ]
    }
   ],
   "source": [
    "do_recognition()"
   ]
  },
  {
   "cell_type": "code",
   "execution_count": null,
   "metadata": {},
   "outputs": [],
   "source": []
  }
 ],
 "metadata": {
  "anaconda-cloud": {},
  "kernelspec": {
   "display_name": "Python 3",
   "language": "python",
   "name": "python3"
  },
  "language_info": {
   "codemirror_mode": {
    "name": "ipython",
    "version": 3
   },
   "file_extension": ".py",
   "mimetype": "text/x-python",
   "name": "python",
   "nbconvert_exporter": "python",
   "pygments_lexer": "ipython3",
   "version": "3.5.4"
  }
 },
 "nbformat": 4,
 "nbformat_minor": 2
}
