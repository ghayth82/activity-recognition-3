{
 "cells": [
  {
   "cell_type": "code",
   "execution_count": 2,
   "metadata": {},
   "outputs": [],
   "source": [
    "%matplotlib inline\n",
    "import pandas as pd\n",
    "import matplotlib.pyplot as plt\n",
    "import numpy as np\n",
    "import datetime\n",
    "import os\n",
    "import glob\n",
    "import seaborn as sns\n",
    "sns.set(style=\"darkgrid\")\n",
    "import sys\n",
    "sys.path.append(\"../dsmuc/\")\n",
    "import dsmuc.io as io\n",
    "import dsmuc.preprocessing as pp\n",
    "import dsmuc.features as ff\n",
    "import dsmuc.custom as cs"
   ]
  },
  {
   "cell_type": "markdown",
   "metadata": {},
   "source": [
    "### Read raw data "
   ]
  },
  {
   "cell_type": "code",
   "execution_count": 3,
   "metadata": {
    "scrolled": true
   },
   "outputs": [
    {
     "name": "stdout",
     "output_type": "stream",
     "text": [
      "Reading each datasets...\n",
      "Reading the file : 26_no_label_L.csv\n",
      "Extracting interested sensor data...\n",
      "Reading the file : 25_no_label_L.csv\n",
      "Extracting interested sensor data...\n",
      "Reading the file : 24_no_label_L.csv\n",
      "Extracting interested sensor data...\n",
      "Reading the file : 23_no_label_L.csv\n",
      "Extracting interested sensor data...\n",
      "Reading the file : 22_no_label_L.csv\n",
      "Extracting interested sensor data...\n",
      "Reading the file : 20_no_label_L.csv\n",
      "Extracting interested sensor data...\n",
      "Reading the file : 19_no_label_L.csv\n",
      "Extracting interested sensor data...\n",
      "Reading the file : 21_no_label_L.csv\n",
      "Extracting interested sensor data...\n",
      "Reading the file : 18_no_label_L.csv\n",
      "Extracting interested sensor data...\n",
      "Reading the file : 15_no_label_L.csv\n",
      "Extracting interested sensor data...\n",
      "Reading the file : 14_no_label_L.csv\n",
      "Extracting interested sensor data...\n",
      "Reading the file : 11_no_label_L.csv\n",
      "Extracting interested sensor data...\n",
      "Reading the file : 16_no_label_L.csv\n",
      "Extracting interested sensor data...\n",
      "Reading the file : 17_no_label_L.csv\n",
      "Extracting interested sensor data...\n",
      "Reading the file : 13_no_label_L.csv\n",
      "Extracting interested sensor data...\n",
      "Reading the file : 1_labelled_L.csv\n",
      "Extracting interested sensor data...\n",
      "Reading the file : 2_labelled_L.csv\n",
      "Extracting interested sensor data...\n",
      "Reading the file : 4_labelled_L.csv\n",
      "Extracting interested sensor data...\n",
      "Reading the file : 10_labelled_L.csv\n",
      "Extracting interested sensor data...\n",
      "Reading the file : 5_labelled_L.csv\n",
      "Extracting interested sensor data...\n",
      "Reading the file : 3_labelled_L.csv\n",
      "Extracting interested sensor data...\n",
      "Reading the file : 6_labelled_L.csv\n",
      "Extracting interested sensor data...\n",
      "Reading the file : 8_labelled_L.csv\n",
      "Extracting interested sensor data...\n",
      "Reading the file : 7_labelled_L.csv\n",
      "Extracting interested sensor data...\n",
      "Reading the file : 9_labelled_L.csv\n",
      "Extracting interested sensor data...\n"
     ]
    }
   ],
   "source": [
    "'''\n",
    "Combine all Datasets collected using G9 and extract necessary Sensor data for \n",
    "processing later on it \n",
    "\n",
    "method to read output file: pd.read_csv(OUT_FOLDER + 'data.csv',index_col='date', parse_dates=True)\n",
    "'''\n",
    "DATA_SET_FOLDER = '/home/ahmet/notebooks/data/G9_data/Data_Sets/'\n",
    "OUT_FOLDER = '/home/ahmet/notebooks/data/G9_data/Raw/'\n",
    "output_file_name = 'combined_raw.csv'\n",
    "    \n",
    "\n",
    "if not os.path.exists(OUT_FOLDER):\n",
    "    os.mkdir(OUT_FOLDER)\n",
    "    print(OUT_FOLDER, \" is created\")\n",
    "\n",
    "data_set_folders  = next(os.walk(DATA_SET_FOLDER))[1]\n",
    "\n",
    "\n",
    "\n",
    "print('Reading each datasets...')\n",
    "big_list = []\n",
    "for data_set in data_set_folders:\n",
    "    child_folder = DATA_SET_FOLDER + data_set\n",
    "    for root,dirs,files in os.walk(child_folder):\n",
    "        for file in files:\n",
    "            if file.endswith(\".csv\") and file.split(\"_\")[0]!='12':\n",
    "                print(\"Reading the file :\", file)\n",
    "                subject_id = file.split(\"_\")[0]\n",
    "                df_data = io.read_g9(file_path=child_folder+'/'+ file,subject_id=subject_id)\n",
    "                big_list.append(df_data)\n",
    "        df_raw = pd.concat(big_list)\n",
    "\n",
    "df_raw.sort_index(ascending=True, inplace=True)"
   ]
  },
  {
   "cell_type": "code",
   "execution_count": 6,
   "metadata": {},
   "outputs": [],
   "source": [
    "df_raw.drop_duplicates(inplace=True) "
   ]
  },
  {
   "cell_type": "code",
   "execution_count": 13,
   "metadata": {},
   "outputs": [],
   "source": [
    "df_raw = df_raw[::2]"
   ]
  },
  {
   "cell_type": "code",
   "execution_count": 15,
   "metadata": {},
   "outputs": [
    {
     "name": "stdout",
     "output_type": "stream",
     "text": [
      "file saved as : /home/ahmet/notebooks/data/G9_data/Raw/combined_raw.csv\n"
     ]
    }
   ],
   "source": [
    "print(\"file saved as :\",OUT_FOLDER +output_file_name)\n",
    "df_raw.to_csv(OUT_FOLDER +output_file_name, index=True)"
   ]
  },
  {
   "cell_type": "markdown",
   "metadata": {},
   "source": [
    "### Label Data"
   ]
  },
  {
   "cell_type": "code",
   "execution_count": 16,
   "metadata": {
    "collapsed": true
   },
   "outputs": [],
   "source": [
    "def read_label_file(file_path = None):\n",
    "    xl = pd.ExcelFile(label_file_path)\n",
    "    df_label = xl.parse(\"Sheet1\")\n",
    "    df_label = df_label[['start_time', 'end_time','subject', 'label']]\n",
    "    df_label.columns = ['start_time', 'end_time','subject_id', 'label']\n",
    "    return df_label"
   ]
  },
  {
   "cell_type": "code",
   "execution_count": 17,
   "metadata": {
    "scrolled": true
   },
   "outputs": [
    {
     "name": "stdout",
     "output_type": "stream",
     "text": [
      "reading raw data ...\n",
      "reading label file in excel ...\n"
     ]
    }
   ],
   "source": [
    "raw_data_path = '/home/ahmet/notebooks/data/G9_data/Raw/combined_raw.csv'\n",
    "label_file_path = '/home/ahmet/notebooks/data/G9_data/Data_Sets/Routine_with_detail_timestamp.xlsx'\n",
    "out_file_path = '/home/ahmet/notebooks/data/G9_data/Raw/labeled.csv'\n",
    "print('reading raw data ...')\n",
    "df_raw = pd.read_csv(raw_data_path,index_col=0, parse_dates=True)\n",
    "print('reading label file in excel ...')\n",
    "df_label = read_label_file(label_file_path)\n",
    "\n",
    "df_label['start'] = pd.to_datetime(df_label['start_time'])  \n",
    "df_label['end'] = pd.to_datetime(df_label['end_time']) "
   ]
  },
  {
   "cell_type": "code",
   "execution_count": 18,
   "metadata": {},
   "outputs": [
    {
     "name": "stdout",
     "output_type": "stream",
     "text": [
      "labeling data...\n"
     ]
    },
    {
     "name": "stderr",
     "output_type": "stream",
     "text": [
      "../dsmuc/dsmuc/preprocessing/__init__.py:79: SettingWithCopyWarning: \n",
      "A value is trying to be set on a copy of a slice from a DataFrame.\n",
      "Try using .loc[row_indexer,col_indexer] = value instead\n",
      "\n",
      "See the caveats in the documentation: http://pandas.pydata.org/pandas-docs/stable/indexing.html#indexing-view-versus-copy\n",
      "  df_temp['label'] = int(df_label['label'][i])\n"
     ]
    },
    {
     "name": "stdout",
     "output_type": "stream",
     "text": [
      "saving labeled file to the path:/home/ahmet/notebooks/data/G9_data/Raw/labeled.csv...\n"
     ]
    }
   ],
   "source": [
    "print('labeling data...')\n",
    "df_labeled = pp.label_data(df_data=df_raw, df_label=df_label)\n",
    "print('saving labeled file to the path:'+out_file_path +'...')\n",
    "df_labeled.to_csv(out_file_path)"
   ]
  },
  {
   "cell_type": "code",
   "execution_count": 19,
   "metadata": {},
   "outputs": [
    {
     "data": {
      "text/html": [
       "<div>\n",
       "<style scoped>\n",
       "    .dataframe tbody tr th:only-of-type {\n",
       "        vertical-align: middle;\n",
       "    }\n",
       "\n",
       "    .dataframe tbody tr th {\n",
       "        vertical-align: top;\n",
       "    }\n",
       "\n",
       "    .dataframe thead th {\n",
       "        text-align: right;\n",
       "    }\n",
       "</style>\n",
       "<table border=\"1\" class=\"dataframe\">\n",
       "  <thead>\n",
       "    <tr style=\"text-align: right;\">\n",
       "      <th></th>\n",
       "      <th>accX</th>\n",
       "      <th>accY</th>\n",
       "      <th>accZ</th>\n",
       "      <th>gyroX</th>\n",
       "      <th>gyroY</th>\n",
       "      <th>gyroZ</th>\n",
       "      <th>subject_id</th>\n",
       "      <th>label</th>\n",
       "    </tr>\n",
       "    <tr>\n",
       "      <th>date</th>\n",
       "      <th></th>\n",
       "      <th></th>\n",
       "      <th></th>\n",
       "      <th></th>\n",
       "      <th></th>\n",
       "      <th></th>\n",
       "      <th></th>\n",
       "      <th></th>\n",
       "    </tr>\n",
       "  </thead>\n",
       "  <tbody>\n",
       "    <tr>\n",
       "      <th>2017-12-08 04:11:12.002</th>\n",
       "      <td>4.419696</td>\n",
       "      <td>-5.741296</td>\n",
       "      <td>6.071695</td>\n",
       "      <td>-0.004278</td>\n",
       "      <td>0.004910</td>\n",
       "      <td>0.015588</td>\n",
       "      <td>23</td>\n",
       "      <td>1</td>\n",
       "    </tr>\n",
       "    <tr>\n",
       "      <th>2017-12-08 04:11:12.013</th>\n",
       "      <td>4.496311</td>\n",
       "      <td>-5.817910</td>\n",
       "      <td>6.114791</td>\n",
       "      <td>-0.004278</td>\n",
       "      <td>0.009704</td>\n",
       "      <td>0.009729</td>\n",
       "      <td>23</td>\n",
       "      <td>1</td>\n",
       "    </tr>\n",
       "    <tr>\n",
       "      <th>2017-12-08 04:11:12.035</th>\n",
       "      <td>4.462792</td>\n",
       "      <td>-5.731719</td>\n",
       "      <td>6.100426</td>\n",
       "      <td>0.002113</td>\n",
       "      <td>0.013432</td>\n",
       "      <td>-0.000924</td>\n",
       "      <td>23</td>\n",
       "      <td>1</td>\n",
       "    </tr>\n",
       "    <tr>\n",
       "      <th>2017-12-08 04:11:12.064</th>\n",
       "      <td>4.525041</td>\n",
       "      <td>-5.702989</td>\n",
       "      <td>6.119579</td>\n",
       "      <td>0.003179</td>\n",
       "      <td>0.002780</td>\n",
       "      <td>-0.009446</td>\n",
       "      <td>23</td>\n",
       "      <td>1</td>\n",
       "    </tr>\n",
       "    <tr>\n",
       "      <th>2017-12-08 04:11:12.074</th>\n",
       "      <td>4.486734</td>\n",
       "      <td>-5.712565</td>\n",
       "      <td>6.138733</td>\n",
       "      <td>0.003711</td>\n",
       "      <td>0.006508</td>\n",
       "      <td>-0.013174</td>\n",
       "      <td>23</td>\n",
       "      <td>1</td>\n",
       "    </tr>\n",
       "  </tbody>\n",
       "</table>\n",
       "</div>"
      ],
      "text/plain": [
       "                             accX      accY      accZ     gyroX     gyroY  \\\n",
       "date                                                                        \n",
       "2017-12-08 04:11:12.002  4.419696 -5.741296  6.071695 -0.004278  0.004910   \n",
       "2017-12-08 04:11:12.013  4.496311 -5.817910  6.114791 -0.004278  0.009704   \n",
       "2017-12-08 04:11:12.035  4.462792 -5.731719  6.100426  0.002113  0.013432   \n",
       "2017-12-08 04:11:12.064  4.525041 -5.702989  6.119579  0.003179  0.002780   \n",
       "2017-12-08 04:11:12.074  4.486734 -5.712565  6.138733  0.003711  0.006508   \n",
       "\n",
       "                            gyroZ  subject_id label  \n",
       "date                                                 \n",
       "2017-12-08 04:11:12.002  0.015588          23     1  \n",
       "2017-12-08 04:11:12.013  0.009729          23     1  \n",
       "2017-12-08 04:11:12.035 -0.000924          23     1  \n",
       "2017-12-08 04:11:12.064 -0.009446          23     1  \n",
       "2017-12-08 04:11:12.074 -0.013174          23     1  "
      ]
     },
     "execution_count": 19,
     "metadata": {},
     "output_type": "execute_result"
    }
   ],
   "source": [
    "df_labeled.head()"
   ]
  },
  {
   "cell_type": "code",
   "execution_count": 20,
   "metadata": {},
   "outputs": [
    {
     "name": "stdout",
     "output_type": "stream",
     "text": [
      "saving labeled file to the path:/home/ahmet/notebooks/data/G9_data/Raw/labeled.csv\n"
     ]
    }
   ],
   "source": [
    "print('saving labeled file to the path:'+out_file_path )\n",
    "df_labeled.to_csv(out_file_path)"
   ]
  },
  {
   "cell_type": "markdown",
   "metadata": {},
   "source": [
    "### Extract Windows"
   ]
  },
  {
   "cell_type": "code",
   "execution_count": 21,
   "metadata": {
    "collapsed": true
   },
   "outputs": [],
   "source": [
    "file_path = \"/home/ahmet/notebooks/data/G9_data/Raw/labeled.csv\"\n",
    "saveto = \"/home/ahmet/notebooks/data/G9_data/Raw/snippets/\"\n",
    "label_dict = {1:'walking',\n",
    "             2:'walking upstairs',\n",
    "             3:'walking downstairs',\n",
    "             4:'sitting',\n",
    "             5:'standing',\n",
    "             6:'laying'}\n",
    "interested_cols = [ 'accX', 'accY', 'accZ', 'gyroX','gyroY', 'gyroZ']"
   ]
  },
  {
   "cell_type": "code",
   "execution_count": 22,
   "metadata": {
    "scrolled": false
   },
   "outputs": [
    {
     "name": "stdout",
     "output_type": "stream",
     "text": [
      "Creating output folders for each label\n",
      "/home/ahmet/notebooks/data/G9_data/Raw/snippets/walking  already exist\n",
      "/home/ahmet/notebooks/data/G9_data/Raw/snippets/walking upstairs  already exist\n",
      "/home/ahmet/notebooks/data/G9_data/Raw/snippets/walking downstairs  already exist\n",
      "/home/ahmet/notebooks/data/G9_data/Raw/snippets/sitting  already exist\n",
      "/home/ahmet/notebooks/data/G9_data/Raw/snippets/standing  already exist\n",
      "/home/ahmet/notebooks/data/G9_data/Raw/snippets/laying  already exist\n",
      "There are already folders specified.Are you sure to continue to extract segment? [Y/n] y\n",
      "Clearing the directory:  /home/ahmet/notebooks/data/G9_data/Raw/snippets/\n",
      "/home/ahmet/notebooks/data/G9_data/Raw/snippets/walking is created\n",
      "/home/ahmet/notebooks/data/G9_data/Raw/snippets/walking upstairs is created\n",
      "/home/ahmet/notebooks/data/G9_data/Raw/snippets/walking downstairs is created\n",
      "/home/ahmet/notebooks/data/G9_data/Raw/snippets/sitting is created\n",
      "/home/ahmet/notebooks/data/G9_data/Raw/snippets/standing is created\n",
      "/home/ahmet/notebooks/data/G9_data/Raw/snippets/laying is created\n",
      "Extracting windows\n",
      "subject:  1\n",
      "label:  walking\n",
      "label:  walking upstairs\n",
      "label:  walking downstairs\n",
      "label:  sitting\n",
      "label:  standing\n",
      "label:  laying\n",
      "subject:  3\n",
      "label:  walking\n",
      "label:  walking upstairs\n",
      "label:  walking downstairs\n",
      "label:  sitting\n",
      "label:  standing\n",
      "label:  laying\n",
      "subject:  4\n",
      "label:  walking\n",
      "label:  walking upstairs\n",
      "label:  walking downstairs\n",
      "label:  sitting\n",
      "label:  standing\n",
      "label:  laying\n",
      "subject:  5\n",
      "label:  walking\n",
      "label:  walking upstairs\n",
      "label:  walking downstairs\n",
      "label:  sitting\n",
      "label:  standing\n",
      "label:  laying\n",
      "subject:  6\n",
      "label:  walking\n",
      "label:  walking upstairs\n",
      "label:  walking downstairs\n",
      "label:  sitting\n",
      "label:  standing\n",
      "label:  laying\n",
      "subject:  7\n",
      "label:  walking\n",
      "label:  walking upstairs\n",
      "label:  walking downstairs\n",
      "label:  sitting\n",
      "label:  standing\n",
      "label:  laying\n",
      "subject:  8\n",
      "label:  walking\n",
      "label:  walking upstairs\n",
      "label:  walking downstairs\n",
      "label:  sitting\n",
      "label:  standing\n",
      "label:  laying\n",
      "subject:  9\n",
      "label:  walking\n",
      "label:  walking upstairs\n",
      "label:  walking downstairs\n",
      "label:  sitting\n",
      "label:  standing\n",
      "label:  laying\n",
      "subject:  10\n",
      "label:  walking\n",
      "label:  walking upstairs\n",
      "label:  walking downstairs\n",
      "label:  sitting\n",
      "label:  standing\n",
      "label:  laying\n",
      "subject:  11\n",
      "label:  walking\n",
      "label:  walking upstairs\n",
      "label:  walking downstairs\n",
      "label:  sitting\n",
      "label:  standing\n",
      "label:  laying\n",
      "subject:  13\n",
      "label:  walking\n",
      "label:  walking upstairs\n",
      "label:  walking downstairs\n",
      "label:  sitting\n",
      "label:  standing\n",
      "label:  laying\n",
      "subject:  14\n",
      "label:  walking\n",
      "label:  walking upstairs\n",
      "label:  walking downstairs\n",
      "label:  sitting\n",
      "label:  standing\n",
      "label:  laying\n",
      "subject:  15\n",
      "label:  walking\n",
      "label:  walking upstairs\n",
      "label:  walking downstairs\n",
      "label:  sitting\n",
      "label:  standing\n",
      "label:  laying\n",
      "subject:  16\n",
      "label:  walking\n",
      "label:  walking upstairs\n",
      "label:  walking downstairs\n",
      "label:  sitting\n",
      "label:  standing\n",
      "label:  laying\n",
      "subject:  17\n",
      "label:  walking\n",
      "label:  walking upstairs\n",
      "label:  walking downstairs\n",
      "label:  sitting\n",
      "label:  standing\n",
      "label:  laying\n",
      "subject:  18\n",
      "label:  walking\n",
      "label:  walking upstairs\n",
      "label:  walking downstairs\n",
      "label:  sitting\n",
      "label:  standing\n",
      "label:  laying\n",
      "subject:  19\n",
      "label:  walking\n",
      "label:  walking upstairs\n",
      "label:  walking downstairs\n",
      "label:  sitting\n",
      "label:  standing\n",
      "label:  laying\n",
      "subject:  20\n",
      "label:  walking\n",
      "label:  walking upstairs\n",
      "label:  walking downstairs\n",
      "label:  sitting\n",
      "label:  standing\n",
      "label:  laying\n",
      "subject:  21\n",
      "label:  walking\n",
      "label:  walking upstairs\n",
      "label:  walking downstairs\n",
      "label:  sitting\n",
      "label:  standing\n",
      "label:  laying\n",
      "subject:  22\n",
      "label:  walking\n",
      "label:  walking upstairs\n",
      "label:  walking downstairs\n",
      "label:  sitting\n",
      "label:  standing\n",
      "label:  laying\n",
      "subject:  23\n",
      "label:  walking\n",
      "label:  walking upstairs\n",
      "label:  walking downstairs\n",
      "label:  sitting\n",
      "label:  standing\n",
      "label:  laying\n",
      "subject:  24\n",
      "label:  walking\n",
      "label:  walking upstairs\n",
      "label:  walking downstairs\n",
      "label:  sitting\n",
      "label:  standing\n",
      "label:  laying\n",
      "subject:  25\n",
      "label:  walking\n",
      "label:  walking upstairs\n",
      "label:  walking downstairs\n",
      "label:  sitting\n",
      "label:  standing\n",
      "label:  laying\n",
      "subject:  26\n",
      "label:  walking\n",
      "label:  walking upstairs\n",
      "label:  walking downstairs\n",
      "label:  sitting\n",
      "label:  standing\n",
      "label:  laying\n"
     ]
    }
   ],
   "source": [
    "min_samples = 20\n",
    "window_size_seconds = 2\n",
    "window_slide_seconds = 1\n",
    "print('Creating output folders for each label')\n",
    "isSure = cs.create_label_folders(label_dict= label_dict, saveto = saveto)\n",
    "if not isSure:\n",
    "    if not cs.query_yes_no('There are already folders specified.Are you sure to continue to extract segment?'):\n",
    "        print('There are already folders specified.Are you sure to continue to extract segment?')\n",
    "    else:\n",
    "        import shutil\n",
    "        print('Clearing the directory: ', saveto)\n",
    "        shutil.rmtree(saveto)\n",
    "        cs.create_label_folders(label_dict= label_dict, saveto = saveto)\n",
    "\n",
    "window_size = datetime.timedelta(seconds=window_size_seconds)\n",
    "window_slide = datetime.timedelta(seconds=window_slide_seconds)\n",
    "df = pd.read_csv(file_path, index_col='date', parse_dates=True)\n",
    "df = df.sort_index(ascending = True)\n",
    "## Extract Segments\n",
    "\n",
    "subject_ids = np.unique(df['subject_id']).tolist()\n",
    "labels = list(label_dict.keys())\n",
    "\n",
    "print('Extracting windows')\n",
    "samples_count = []\n",
    "for s in subject_ids:\n",
    "    print('subject: ',s)\n",
    "    for l in labels:\n",
    "        print('label: ',label_dict[l])\n",
    "        df_temp = df[np.logical_and(df['subject_id']==s, df['label']==l)]\n",
    "        win_list = pp.ext_windows(df=df_temp,window_size_seconds=window_size_seconds, \\\n",
    "                           window_slide_seconds=window_slide_seconds)\n",
    "        win_list =[win for win in win_list if win.shape[0]>min_samples ]\n",
    "        \n",
    "        df_ = pd.DataFrame()\n",
    "        i = 0\n",
    "        index = str(s)+str(l)\n",
    "        for window in win_list:\n",
    "            window.to_csv(saveto+label_dict[l]+'/'+str(s)+\"_\"+str(i)+'.csv')\n",
    "            i += 1"
   ]
  },
  {
   "cell_type": "markdown",
   "metadata": {},
   "source": [
    "## Extract Features"
   ]
  },
  {
   "cell_type": "code",
   "execution_count": 23,
   "metadata": {
    "collapsed": true
   },
   "outputs": [],
   "source": [
    "raw_windows_path = \"/home/ahmet/notebooks/data/G9_data/Raw/snippets/\"\n",
    "processed_file_path = \"/home/ahmet/notebooks/data/G9_data/processed.csv\""
   ]
  },
  {
   "cell_type": "code",
   "execution_count": 24,
   "metadata": {},
   "outputs": [
    {
     "name": "stdout",
     "output_type": "stream",
     "text": [
      "Found 25027 windows\n"
     ]
    }
   ],
   "source": [
    "win_paths = glob.glob(raw_windows_path+'*/*.csv')\n",
    "print(\"Found {} windows\".format(len(win_paths)))"
   ]
  },
  {
   "cell_type": "code",
   "execution_count": 25,
   "metadata": {
    "collapsed": true
   },
   "outputs": [],
   "source": [
    "win_list = [pd.read_csv(win_paths[i], index_col='date', parse_dates=True) for i in range(len(win_paths))]"
   ]
  },
  {
   "cell_type": "code",
   "execution_count": 26,
   "metadata": {},
   "outputs": [
    {
     "data": {
      "text/plain": [
       "25027"
      ]
     },
     "execution_count": 26,
     "metadata": {},
     "output_type": "execute_result"
    }
   ],
   "source": [
    "len(win_list)"
   ]
  },
  {
   "cell_type": "code",
   "execution_count": 27,
   "metadata": {},
   "outputs": [
    {
     "name": "stderr",
     "output_type": "stream",
     "text": [
      "../dsmuc/dsmuc/features/__init__.py:163: RuntimeWarning: Mean of empty slice.\n",
      "  list_.append(np.diff(ind).mean())\n",
      "/anaconda/envs/py35/lib/python3.5/site-packages/numpy/core/_methods.py:80: RuntimeWarning: invalid value encountered in double_scalars\n",
      "  ret = ret.dtype.type(ret / rcount)\n"
     ]
    }
   ],
   "source": [
    "feature_list = ['aoa','ate','apf','rms','std','minimax','cor','mean','min','max']\n",
    "preserved_features = ['start','subject_id','label']\n",
    "df_final = pd.DataFrame()\n",
    "index = 0\n",
    "for window in win_list:\n",
    "    df_final = df_final.append(ff.extract_features(window, index=index, feature_list=feature_list ,\\\n",
    "    preserved_features=preserved_features))\n",
    "    index += 1\n",
    "    "
   ]
  },
  {
   "cell_type": "code",
   "execution_count": 28,
   "metadata": {},
   "outputs": [
    {
     "data": {
      "text/html": [
       "<div>\n",
       "<style scoped>\n",
       "    .dataframe tbody tr th:only-of-type {\n",
       "        vertical-align: middle;\n",
       "    }\n",
       "\n",
       "    .dataframe tbody tr th {\n",
       "        vertical-align: top;\n",
       "    }\n",
       "\n",
       "    .dataframe thead th {\n",
       "        text-align: right;\n",
       "    }\n",
       "</style>\n",
       "<table border=\"1\" class=\"dataframe\">\n",
       "  <thead>\n",
       "    <tr style=\"text-align: right;\">\n",
       "      <th></th>\n",
       "      <th>CorAccXAccY_corr</th>\n",
       "      <th>CorAccXAccZ_corr</th>\n",
       "      <th>CorAccYAccZ_corr</th>\n",
       "      <th>CorGyroXGyroY_corr</th>\n",
       "      <th>CorGyroXGyroZ_corr</th>\n",
       "      <th>CorGyroYGyroZ_corr</th>\n",
       "      <th>accX_aoa</th>\n",
       "      <th>accX_apf</th>\n",
       "      <th>accX_ate</th>\n",
       "      <th>accX_max</th>\n",
       "      <th>...</th>\n",
       "      <th>gyroZ_ate</th>\n",
       "      <th>gyroZ_max</th>\n",
       "      <th>gyroZ_mean</th>\n",
       "      <th>gyroZ_min</th>\n",
       "      <th>gyroZ_minmax</th>\n",
       "      <th>gyroZ_rms</th>\n",
       "      <th>gyroZ_std</th>\n",
       "      <th>label</th>\n",
       "      <th>start</th>\n",
       "      <th>subject_id</th>\n",
       "    </tr>\n",
       "  </thead>\n",
       "  <tbody>\n",
       "    <tr>\n",
       "      <th>0</th>\n",
       "      <td>-0.191494</td>\n",
       "      <td>-0.018550</td>\n",
       "      <td>-0.291556</td>\n",
       "      <td>0.727880</td>\n",
       "      <td>0.461031</td>\n",
       "      <td>0.569434</td>\n",
       "      <td>-6.158093</td>\n",
       "      <td>0.043011</td>\n",
       "      <td>24.333333</td>\n",
       "      <td>-6.009446</td>\n",
       "      <td>...</td>\n",
       "      <td>40.000000</td>\n",
       "      <td>0.017993</td>\n",
       "      <td>0.000428</td>\n",
       "      <td>-0.018226</td>\n",
       "      <td>0.036219</td>\n",
       "      <td>0.007781</td>\n",
       "      <td>0.007769</td>\n",
       "      <td>5.0</td>\n",
       "      <td>2018-01-16 06:30:12.029</td>\n",
       "      <td>15.0</td>\n",
       "    </tr>\n",
       "    <tr>\n",
       "      <th>1</th>\n",
       "      <td>0.157201</td>\n",
       "      <td>0.276847</td>\n",
       "      <td>0.112554</td>\n",
       "      <td>0.674492</td>\n",
       "      <td>-0.504778</td>\n",
       "      <td>-0.272900</td>\n",
       "      <td>-9.687722</td>\n",
       "      <td>0.040816</td>\n",
       "      <td>27.000000</td>\n",
       "      <td>-8.925584</td>\n",
       "      <td>...</td>\n",
       "      <td>NaN</td>\n",
       "      <td>0.390070</td>\n",
       "      <td>-0.025655</td>\n",
       "      <td>-0.391834</td>\n",
       "      <td>0.781904</td>\n",
       "      <td>0.198135</td>\n",
       "      <td>0.196467</td>\n",
       "      <td>5.0</td>\n",
       "      <td>2017-12-20 07:21:47.028</td>\n",
       "      <td>11.0</td>\n",
       "    </tr>\n",
       "    <tr>\n",
       "      <th>2</th>\n",
       "      <td>0.342479</td>\n",
       "      <td>-0.331996</td>\n",
       "      <td>-0.690158</td>\n",
       "      <td>-0.127805</td>\n",
       "      <td>0.323512</td>\n",
       "      <td>0.324708</td>\n",
       "      <td>-9.611954</td>\n",
       "      <td>0.040000</td>\n",
       "      <td>29.000000</td>\n",
       "      <td>-9.457097</td>\n",
       "      <td>...</td>\n",
       "      <td>29.333333</td>\n",
       "      <td>0.056933</td>\n",
       "      <td>0.000133</td>\n",
       "      <td>-0.028820</td>\n",
       "      <td>0.085754</td>\n",
       "      <td>0.013429</td>\n",
       "      <td>0.013428</td>\n",
       "      <td>5.0</td>\n",
       "      <td>2018-01-16 04:35:14.010</td>\n",
       "      <td>14.0</td>\n",
       "    </tr>\n",
       "    <tr>\n",
       "      <th>3</th>\n",
       "      <td>-0.204384</td>\n",
       "      <td>-0.193564</td>\n",
       "      <td>-0.034288</td>\n",
       "      <td>0.587818</td>\n",
       "      <td>-0.047086</td>\n",
       "      <td>-0.344811</td>\n",
       "      <td>-9.551749</td>\n",
       "      <td>0.038835</td>\n",
       "      <td>30.333333</td>\n",
       "      <td>-9.270349</td>\n",
       "      <td>...</td>\n",
       "      <td>37.500000</td>\n",
       "      <td>0.191847</td>\n",
       "      <td>-0.004833</td>\n",
       "      <td>-0.200170</td>\n",
       "      <td>0.392017</td>\n",
       "      <td>0.083018</td>\n",
       "      <td>0.082878</td>\n",
       "      <td>5.0</td>\n",
       "      <td>2017-12-08 09:29:15.016</td>\n",
       "      <td>1.0</td>\n",
       "    </tr>\n",
       "    <tr>\n",
       "      <th>4</th>\n",
       "      <td>-0.067963</td>\n",
       "      <td>0.216787</td>\n",
       "      <td>0.847867</td>\n",
       "      <td>0.622559</td>\n",
       "      <td>-0.474301</td>\n",
       "      <td>-0.378248</td>\n",
       "      <td>-5.000725</td>\n",
       "      <td>0.034091</td>\n",
       "      <td>23.500000</td>\n",
       "      <td>-4.831499</td>\n",
       "      <td>...</td>\n",
       "      <td>30.500000</td>\n",
       "      <td>0.057916</td>\n",
       "      <td>-0.001733</td>\n",
       "      <td>-0.048611</td>\n",
       "      <td>0.106526</td>\n",
       "      <td>0.018821</td>\n",
       "      <td>0.018741</td>\n",
       "      <td>5.0</td>\n",
       "      <td>2018-01-16 04:04:24.018</td>\n",
       "      <td>13.0</td>\n",
       "    </tr>\n",
       "  </tbody>\n",
       "</table>\n",
       "<p>5 rows × 63 columns</p>\n",
       "</div>"
      ],
      "text/plain": [
       "   CorAccXAccY_corr  CorAccXAccZ_corr  CorAccYAccZ_corr  CorGyroXGyroY_corr  \\\n",
       "0         -0.191494         -0.018550         -0.291556            0.727880   \n",
       "1          0.157201          0.276847          0.112554            0.674492   \n",
       "2          0.342479         -0.331996         -0.690158           -0.127805   \n",
       "3         -0.204384         -0.193564         -0.034288            0.587818   \n",
       "4         -0.067963          0.216787          0.847867            0.622559   \n",
       "\n",
       "   CorGyroXGyroZ_corr  CorGyroYGyroZ_corr  accX_aoa  accX_apf   accX_ate  \\\n",
       "0            0.461031            0.569434 -6.158093  0.043011  24.333333   \n",
       "1           -0.504778           -0.272900 -9.687722  0.040816  27.000000   \n",
       "2            0.323512            0.324708 -9.611954  0.040000  29.000000   \n",
       "3           -0.047086           -0.344811 -9.551749  0.038835  30.333333   \n",
       "4           -0.474301           -0.378248 -5.000725  0.034091  23.500000   \n",
       "\n",
       "   accX_max     ...      gyroZ_ate  gyroZ_max  gyroZ_mean  gyroZ_min  \\\n",
       "0 -6.009446     ...      40.000000   0.017993    0.000428  -0.018226   \n",
       "1 -8.925584     ...            NaN   0.390070   -0.025655  -0.391834   \n",
       "2 -9.457097     ...      29.333333   0.056933    0.000133  -0.028820   \n",
       "3 -9.270349     ...      37.500000   0.191847   -0.004833  -0.200170   \n",
       "4 -4.831499     ...      30.500000   0.057916   -0.001733  -0.048611   \n",
       "\n",
       "   gyroZ_minmax  gyroZ_rms  gyroZ_std  label                   start  \\\n",
       "0      0.036219   0.007781   0.007769    5.0 2018-01-16 06:30:12.029   \n",
       "1      0.781904   0.198135   0.196467    5.0 2017-12-20 07:21:47.028   \n",
       "2      0.085754   0.013429   0.013428    5.0 2018-01-16 04:35:14.010   \n",
       "3      0.392017   0.083018   0.082878    5.0 2017-12-08 09:29:15.016   \n",
       "4      0.106526   0.018821   0.018741    5.0 2018-01-16 04:04:24.018   \n",
       "\n",
       "   subject_id  \n",
       "0        15.0  \n",
       "1        11.0  \n",
       "2        14.0  \n",
       "3         1.0  \n",
       "4        13.0  \n",
       "\n",
       "[5 rows x 63 columns]"
      ]
     },
     "execution_count": 28,
     "metadata": {},
     "output_type": "execute_result"
    }
   ],
   "source": [
    "df_final.head()"
   ]
  },
  {
   "cell_type": "code",
   "execution_count": 29,
   "metadata": {},
   "outputs": [
    {
     "data": {
      "text/plain": [
       "(25027, 63)"
      ]
     },
     "execution_count": 29,
     "metadata": {},
     "output_type": "execute_result"
    }
   ],
   "source": [
    "df_final.shape"
   ]
  },
  {
   "cell_type": "code",
   "execution_count": 31,
   "metadata": {},
   "outputs": [
    {
     "name": "stdout",
     "output_type": "stream",
     "text": [
      "Saving processed file to the path: /home/ahmet/notebooks/data/G9_data/processed.csv\n"
     ]
    }
   ],
   "source": [
    "print('Saving processed file to the path:',processed_file_path)\n",
    "df_final.to_csv(processed_file_path, index=False)"
   ]
  },
  {
   "cell_type": "code",
   "execution_count": null,
   "metadata": {
    "collapsed": true
   },
   "outputs": [],
   "source": []
  }
 ],
 "metadata": {
  "kernelspec": {
   "display_name": "Python 3",
   "language": "python",
   "name": "python3"
  },
  "language_info": {
   "codemirror_mode": {
    "name": "ipython",
    "version": 3
   },
   "file_extension": ".py",
   "mimetype": "text/x-python",
   "name": "python",
   "nbconvert_exporter": "python",
   "pygments_lexer": "ipython3",
   "version": "3.5.2"
  }
 },
 "nbformat": 4,
 "nbformat_minor": 2
}
