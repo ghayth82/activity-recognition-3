{
 "cells": [
  {
   "cell_type": "markdown",
   "metadata": {},
   "source": [
    "#### Step 2.1 Statistical Features"
   ]
  },
  {
   "cell_type": "markdown",
   "metadata": {},
   "source": [
    "1. Mean\n",
    "2. Minimum\n",
    "3. Maximum\n",
    "4. Range\n",
    "5. Entropy\n",
    "6. Variance \n",
    "7. Kurtosis \n",
    "8. Skewness \n",
    "9. Quantiles \n",
    "10. Energy"
   ]
  },
  {
   "cell_type": "markdown",
   "metadata": {
    "collapsed": true
   },
   "source": [
    "# Guide functions for feature extraction"
   ]
  },
  {
   "cell_type": "code",
   "execution_count": 154,
   "metadata": {},
   "outputs": [
    {
     "name": "stderr",
     "output_type": "stream",
     "text": [
      "Updating HTML index of packages in '.Library'\n",
      "Making 'packages.html' ... done\n",
      "Updating HTML index of packages in '.Library'\n",
      "Making 'packages.html' ... done\n",
      "also installing the dependencies ‘leaps’, ‘bestglm’, ‘FitAR’\n",
      "\n",
      "Warning message in install.packages(\"FitARMA\"):\n",
      "“installation of package ‘leaps’ had non-zero exit status”Warning message in install.packages(\"FitARMA\"):\n",
      "“installation of package ‘bestglm’ had non-zero exit status”Warning message in install.packages(\"FitARMA\"):\n",
      "“installation of package ‘FitAR’ had non-zero exit status”Warning message in install.packages(\"FitARMA\"):\n",
      "“installation of package ‘FitARMA’ had non-zero exit status”Updating HTML index of packages in '.Library'\n",
      "Making 'packages.html' ... done\n"
     ]
    },
    {
     "ename": "ERROR",
     "evalue": "Error in library(\"FitARMA\"): there is no package called ‘FitARMA’\n",
     "output_type": "error",
     "traceback": [
      "Error in library(\"FitARMA\"): there is no package called ‘FitARMA’\nTraceback:\n",
      "1. library(\"FitARMA\")",
      "2. stop(txt, domain = NA)"
     ]
    }
   ],
   "source": [
    "#combining all functions\n",
    "\n",
    "#installing necessary packages\n",
    "install.packages(\"entropy\")\n",
    "install.packages(\"moments\")\n",
    "install.packages(\"FitARMA\")\n",
    "\n",
    "#loading necessary packages\n",
    "library(\"entropy\")\n",
    "library(\"moments\")\n",
    "library(\"FitARMA\")\n",
    "\n",
    "#computing mean\n",
    "#input: 1 column - output: 1 value\n",
    "\n",
    "\n",
    "compute.feature_mean = function (x) {\n",
    "    return(mean(x))\n",
    "}\n",
    "\n",
    "#computing min\n",
    "#input: 1 column - output: 1 value\n",
    "\n",
    "\n",
    "compute.feature_min = function (x) {\n",
    "    return(min(x))\n",
    "}\n",
    "\n",
    "#computing max\n",
    "#input: 1 column - output: 1 value\n",
    "\n",
    "\n",
    "compute.feature_max = function (x) {\n",
    "    return(max(x))\n",
    "}\n",
    "\n",
    "#computing range\n",
    "#input: 1 column - output: 1 value\n",
    "\n",
    "\n",
    "compute.feature_range = function (x) {\n",
    "    return(abs(max(x)-min(x)))\n",
    "}\n",
    "\n",
    "#computing entropy\n",
    "#input: 1 column - output: 1 value\n",
    "\n",
    "\n",
    "compute.feature_entropy = function (x) {\n",
    "    return(entropy(x))\n",
    "}\n",
    "\n",
    "#computing variance\n",
    "#input: 1 column - output: 1 value\n",
    "\n",
    "\n",
    "compute.feature_variance = function (x) {\n",
    "    return(var(x))\n",
    "}\n",
    "\n",
    "#computing standard deviation\n",
    "#input: 1 column - output: 1 value\n",
    "\n",
    "\n",
    "compute.feature_sd = function (x) {\n",
    "    return(sd(x))\n",
    "}\n",
    "\n",
    "\n",
    "#computing kurtosis\n",
    "#input: 1 column - output: 1 value\n",
    "\n",
    "\n",
    "compute.feature_kurtosis = function (x) {\n",
    "    return(kurtosis(x))\n",
    "}\n",
    "\n",
    "\n",
    "#computing skewness\n",
    "#input: 1 column - output: 1 value\n",
    "\n",
    "\n",
    "compute.feature_skewness = function (x) {\n",
    "    return(skewness(x))\n",
    "}\n",
    "\n",
    "\n",
    "#computing moment 1\n",
    "#input: 1 column - output: 1 value\n",
    "\n",
    "\n",
    "compute.feature_moment1 = function (x) {\n",
    "    return(moment(x, order = 1))\n",
    "}\n",
    "\n",
    "\n",
    "\n",
    "#computing moment 2\n",
    "#input: 1 column - output: 1 value\n",
    "\n",
    "\n",
    "compute.feature_moment2 = function (x) {\n",
    "    return(moment(x, order = 2))\n",
    "}\n",
    "\n",
    "\n",
    "#computing moment 3\n",
    "#input: 1 column - output: 1 value\n",
    "\n",
    "\n",
    "compute.feature_moment3 = function (x) {\n",
    "    return(moment(x, order = 3))\n",
    "}\n",
    "\n",
    "#computing all quantiles\n",
    "#input: 1 column - output: 5 values\n",
    "\n",
    "\n",
    "compute.feature_quantiles = function (x) {\n",
    "    return(quantile(x))\n",
    "}\n",
    "\n",
    "\n",
    "#computing quantiles: 25%\n",
    "#input: 1 column - output: 1 value\n",
    "\n",
    "\n",
    "compute.feature_quantile25 = function (x) {\n",
    "    return(quantile(x, names=FALSE)[2])\n",
    "}\n",
    "\n",
    "\n",
    "#computing quantiles: 50%\n",
    "#input: 1 column - output: 1 value\n",
    "\n",
    "\n",
    "compute.feature_quantile50 = function (x) {\n",
    "    return(quantile(x, names=FALSE)[3])\n",
    "}\n",
    "\n",
    "\n",
    "#computing quantiles: 75%\n",
    "#input: 1 column - output: 1 value\n",
    "\n",
    "\n",
    "compute.feature_quantile75 = function (x) {\n",
    "    return(quantile(x, names=FALSE)[4])\n",
    "}"
   ]
  },
  {
   "cell_type": "code",
   "execution_count": 138,
   "metadata": {},
   "outputs": [
    {
     "name": "stderr",
     "output_type": "stream",
     "text": [
      "Updating HTML index of packages in '.Library'\n",
      "Making 'packages.html' ... done\n",
      "Updating HTML index of packages in '.Library'\n",
      "Making 'packages.html' ... done\n",
      "Updating HTML index of packages in '.Library'\n",
      "Making 'packages.html' ... done\n",
      "also installing the dependencies ‘leaps’, ‘bestglm’, ‘FitAR’\n",
      "\n",
      "Warning message in install.packages(\"FitARMA\"):\n",
      "“installation of package ‘leaps’ had non-zero exit status”Warning message in install.packages(\"FitARMA\"):\n",
      "“installation of package ‘bestglm’ had non-zero exit status”Warning message in install.packages(\"FitARMA\"):\n",
      "“installation of package ‘FitAR’ had non-zero exit status”Warning message in install.packages(\"FitARMA\"):\n",
      "“installation of package ‘FitARMA’ had non-zero exit status”Updating HTML index of packages in '.Library'\n",
      "Making 'packages.html' ... done\n"
     ]
    }
   ],
   "source": [
    "#installing necessary packages\n",
    "install.packages(\"entropy\")\n",
    "install.packages(\"moments\")\n",
    "install.packages(\"FitARMA\")"
   ]
  },
  {
   "cell_type": "code",
   "execution_count": 140,
   "metadata": {
    "collapsed": true
   },
   "outputs": [],
   "source": [
    "#loading necessary packages\n",
    "library(\"entropy\")\n",
    "library(\"moments\")\n",
    "library(\"FitARMA\")"
   ]
  },
  {
   "cell_type": "code",
   "execution_count": 65,
   "metadata": {},
   "outputs": [
    {
     "data": {
      "text/html": [
       "-0.000957998516"
      ],
      "text/latex": [
       "-0.000957998516"
      ],
      "text/markdown": [
       "-0.000957998516"
      ],
      "text/plain": [
       "[1] -0.0009579985"
      ]
     },
     "metadata": {},
     "output_type": "display_data"
    }
   ],
   "source": [
    "#computing mean\n",
    "#input: 1 column - output: 1 value\n",
    "\n",
    "\n",
    "compute.feature_mean = function (x) {\n",
    "    return(mean(x))\n",
    "}\n",
    "\n",
    "\n",
    "#testing with sample data snippet\n",
    "compute.feature_mean(sdf_ACCX$acc_x)"
   ]
  },
  {
   "cell_type": "code",
   "execution_count": 67,
   "metadata": {},
   "outputs": [
    {
     "data": {
      "text/html": [
       "-0.218262"
      ],
      "text/latex": [
       "-0.218262"
      ],
      "text/markdown": [
       "-0.218262"
      ],
      "text/plain": [
       "[1] -0.218262"
      ]
     },
     "metadata": {},
     "output_type": "display_data"
    }
   ],
   "source": [
    "#computing min\n",
    "#input: 1 column - output: 1 value\n",
    "\n",
    "\n",
    "compute.feature_min = function (x) {\n",
    "    return(min(x))\n",
    "}\n",
    "\n",
    "\n",
    "#testing with sample data snippet\n",
    "compute.feature_min(sdf_ACCX$acc_x)"
   ]
  },
  {
   "cell_type": "code",
   "execution_count": 68,
   "metadata": {},
   "outputs": [
    {
     "data": {
      "text/html": [
       "0.322266"
      ],
      "text/latex": [
       "0.322266"
      ],
      "text/markdown": [
       "0.322266"
      ],
      "text/plain": [
       "[1] 0.322266"
      ]
     },
     "metadata": {},
     "output_type": "display_data"
    }
   ],
   "source": [
    "#computing max\n",
    "#input: 1 column - output: 1 value\n",
    "\n",
    "\n",
    "compute.feature_max = function (x) {\n",
    "    return(max(x))\n",
    "}\n",
    "\n",
    "#input: 1 column - output: 1 value\n",
    "\n",
    "#testing with sample data snippet\n",
    "compute.feature_max(sdf_ACCX$acc_x)"
   ]
  },
  {
   "cell_type": "code",
   "execution_count": 73,
   "metadata": {},
   "outputs": [
    {
     "data": {
      "text/html": [
       "0.540528"
      ],
      "text/latex": [
       "0.540528"
      ],
      "text/markdown": [
       "0.540528"
      ],
      "text/plain": [
       "[1] 0.540528"
      ]
     },
     "metadata": {},
     "output_type": "display_data"
    }
   ],
   "source": [
    "#computing range\n",
    "#input: 1 column - output: 1 value\n",
    "\n",
    "\n",
    "compute.feature_range = function (x) {\n",
    "    return(abs(max(x)-min(x)))\n",
    "}\n",
    "\n",
    "#input: 1 column - output: 1 value\n",
    "\n",
    "#testing with sample data snippet\n",
    "compute.feature_range(sdf_ACCX$acc_x)"
   ]
  },
  {
   "cell_type": "code",
   "execution_count": 98,
   "metadata": {},
   "outputs": [
    {
     "name": "stderr",
     "output_type": "stream",
     "text": [
      "Warning message in log(freqs):\n",
      "“NaNs produced”"
     ]
    },
    {
     "data": {
      "text/html": [
       "26.7288203127516"
      ],
      "text/latex": [
       "26.7288203127516"
      ],
      "text/markdown": [
       "26.7288203127516"
      ],
      "text/plain": [
       "[1] 26.72882"
      ]
     },
     "metadata": {},
     "output_type": "display_data"
    }
   ],
   "source": [
    "#computing entropy\n",
    "#input: 1 column - output: 1 value\n",
    "\n",
    "\n",
    "compute.feature_entropy = function (x) {\n",
    "    return(entropy(x))\n",
    "}\n",
    "\n",
    "#testing with sample data snippet\n",
    "compute.feature_entropy(sdf_ACCX$acc_x)"
   ]
  },
  {
   "cell_type": "code",
   "execution_count": 99,
   "metadata": {},
   "outputs": [
    {
     "data": {
      "text/html": [
       "0.00696184398691903"
      ],
      "text/latex": [
       "0.00696184398691903"
      ],
      "text/markdown": [
       "0.00696184398691903"
      ],
      "text/plain": [
       "[1] 0.006961844"
      ]
     },
     "metadata": {},
     "output_type": "display_data"
    }
   ],
   "source": [
    "#computing variance\n",
    "#input: 1 column - output: 1 value\n",
    "\n",
    "\n",
    "compute.feature_variance = function (x) {\n",
    "    return(var(x))\n",
    "}\n",
    "\n",
    "\n",
    "#testing with sample data snippet\n",
    "compute.feature_variance(sdf_ACCX$acc_x)"
   ]
  },
  {
   "cell_type": "code",
   "execution_count": 144,
   "metadata": {},
   "outputs": [
    {
     "data": {
      "text/html": [
       "0.0834376652772537"
      ],
      "text/latex": [
       "0.0834376652772537"
      ],
      "text/markdown": [
       "0.0834376652772537"
      ],
      "text/plain": [
       "[1] 0.08343767"
      ]
     },
     "metadata": {},
     "output_type": "display_data"
    }
   ],
   "source": [
    "#computing standard deviation\n",
    "#input: 1 column - output: 1 value\n",
    "\n",
    "\n",
    "compute.feature_sd = function (x) {\n",
    "    return(sd(x))\n",
    "}\n",
    "\n",
    "\n",
    "#testing with sample data snippet\n",
    "compute.feature_sd(sdf_ACCX$acc_x)"
   ]
  },
  {
   "cell_type": "code",
   "execution_count": 145,
   "metadata": {},
   "outputs": [
    {
     "data": {
      "text/html": [
       "4.38150922284165"
      ],
      "text/latex": [
       "4.38150922284165"
      ],
      "text/markdown": [
       "4.38150922284165"
      ],
      "text/plain": [
       "[1] 4.381509"
      ]
     },
     "metadata": {},
     "output_type": "display_data"
    }
   ],
   "source": [
    "#computing kurtosis\n",
    "#input: 1 column - output: 1 value\n",
    "\n",
    "\n",
    "compute.feature_kurtosis = function (x) {\n",
    "    return(kurtosis(x))\n",
    "}\n",
    "\n",
    "\n",
    "#testing with sample data snippet\n",
    "compute.feature_kurtosis(sdf_ACCX$acc_x)"
   ]
  },
  {
   "cell_type": "code",
   "execution_count": 146,
   "metadata": {},
   "outputs": [
    {
     "data": {
      "text/html": [
       "0.167241249709331"
      ],
      "text/latex": [
       "0.167241249709331"
      ],
      "text/markdown": [
       "0.167241249709331"
      ],
      "text/plain": [
       "[1] 0.1672412"
      ]
     },
     "metadata": {},
     "output_type": "display_data"
    }
   ],
   "source": [
    "#computing skewness\n",
    "#input: 1 column - output: 1 value\n",
    "\n",
    "\n",
    "compute.feature_skewness = function (x) {\n",
    "    return(skewness(x))\n",
    "}\n",
    "\n",
    "\n",
    "#testing with sample data snippet\n",
    "compute.feature_skewness(sdf_ACCX$acc_x)"
   ]
  },
  {
   "cell_type": "code",
   "execution_count": 147,
   "metadata": {},
   "outputs": [
    {
     "data": {
      "text/html": [
       "-0.000957998516"
      ],
      "text/latex": [
       "-0.000957998516"
      ],
      "text/markdown": [
       "-0.000957998516"
      ],
      "text/plain": [
       "[1] -0.0009579985"
      ]
     },
     "metadata": {},
     "output_type": "display_data"
    }
   ],
   "source": [
    "#computing moment 1\n",
    "#input: 1 column - output: 1 value\n",
    "\n",
    "\n",
    "compute.feature_moment1 = function (x) {\n",
    "    return(moment(x, order = 1))\n",
    "}\n",
    "\n",
    "\n",
    "#testing with sample data snippet\n",
    "compute.feature_moment1(sdf_ACCX$acc_x)"
   ]
  },
  {
   "cell_type": "code",
   "execution_count": 148,
   "metadata": {},
   "outputs": [
    {
     "data": {
      "text/html": [
       "0.00693491437212801"
      ],
      "text/latex": [
       "0.00693491437212801"
      ],
      "text/markdown": [
       "0.00693491437212801"
      ],
      "text/plain": [
       "[1] 0.006934914"
      ]
     },
     "metadata": {},
     "output_type": "display_data"
    }
   ],
   "source": [
    "#computing moment 2\n",
    "#input: 1 column - output: 1 value\n",
    "\n",
    "\n",
    "compute.feature_moment2 = function (x) {\n",
    "    return(moment(x, order = 2))\n",
    "}\n",
    "\n",
    "\n",
    "#testing with sample data snippet\n",
    "compute.feature_moment2(sdf_ACCX$acc_x)"
   ]
  },
  {
   "cell_type": "code",
   "execution_count": 149,
   "metadata": {},
   "outputs": [
    {
     "data": {
      "text/html": [
       "7.66356445951399e-05"
      ],
      "text/latex": [
       "7.66356445951399e-05"
      ],
      "text/markdown": [
       "7.66356445951399e-05"
      ],
      "text/plain": [
       "[1] 7.663564e-05"
      ]
     },
     "metadata": {},
     "output_type": "display_data"
    }
   ],
   "source": [
    "#computing moment 3\n",
    "#input: 1 column - output: 1 value\n",
    "\n",
    "\n",
    "compute.feature_moment3 = function (x) {\n",
    "    return(moment(x, order = 3))\n",
    "}\n",
    "\n",
    "\n",
    "#testing with sample data snippet\n",
    "compute.feature_moment3(sdf_ACCX$acc_x)"
   ]
  },
  {
   "cell_type": "code",
   "execution_count": 150,
   "metadata": {},
   "outputs": [
    {
     "data": {
      "text/html": [
       "<dl class=dl-horizontal>\n",
       "\t<dt>0%</dt>\n",
       "\t\t<dd>-0.218262</dd>\n",
       "\t<dt>25%</dt>\n",
       "\t\t<dd>-0.063720725</dd>\n",
       "\t<dt>50%</dt>\n",
       "\t\t<dd>0.02246095</dd>\n",
       "\t<dt>75%</dt>\n",
       "\t\t<dd>0.03826905</dd>\n",
       "\t<dt>100%</dt>\n",
       "\t\t<dd>0.322266</dd>\n",
       "</dl>\n"
      ],
      "text/latex": [
       "\\begin{description*}\n",
       "\\item[0\\textbackslash{}\\%] -0.218262\n",
       "\\item[25\\textbackslash{}\\%] -0.063720725\n",
       "\\item[50\\textbackslash{}\\%] 0.02246095\n",
       "\\item[75\\textbackslash{}\\%] 0.03826905\n",
       "\\item[100\\textbackslash{}\\%] 0.322266\n",
       "\\end{description*}\n"
      ],
      "text/markdown": [
       "0%\n",
       ":   -0.21826225%\n",
       ":   -0.06372072550%\n",
       ":   0.0224609575%\n",
       ":   0.03826905100%\n",
       ":   0.322266\n",
       "\n"
      ],
      "text/plain": [
       "         0%         25%         50%         75%        100% \n",
       "-0.21826200 -0.06372073  0.02246095  0.03826905  0.32226600 "
      ]
     },
     "metadata": {},
     "output_type": "display_data"
    }
   ],
   "source": [
    "#computing all quantiles\n",
    "#input: 1 column - output: 5 values\n",
    "\n",
    "\n",
    "compute.feature_quantiles = function (x) {\n",
    "    return(quantile(x))\n",
    "}\n",
    "\n",
    "\n",
    "#testing with sample data snippet\n",
    "compute.feature_quantiles(sdf_ACCX$acc_x)"
   ]
  },
  {
   "cell_type": "code",
   "execution_count": 151,
   "metadata": {},
   "outputs": [
    {
     "data": {
      "text/html": [
       "-0.063720725"
      ],
      "text/latex": [
       "-0.063720725"
      ],
      "text/markdown": [
       "-0.063720725"
      ],
      "text/plain": [
       "[1] -0.06372073"
      ]
     },
     "metadata": {},
     "output_type": "display_data"
    }
   ],
   "source": [
    "#computing quantiles: 25%\n",
    "#input: 1 column - output: 1 value\n",
    "\n",
    "\n",
    "compute.feature_quantile25 = function (x) {\n",
    "    return(quantile(x, names=FALSE)[2])\n",
    "}\n",
    "\n",
    "\n",
    "#testing with sample data snippet\n",
    "compute.feature_quantile25(sdf_ACCX$acc_x)"
   ]
  },
  {
   "cell_type": "code",
   "execution_count": 152,
   "metadata": {},
   "outputs": [
    {
     "data": {
      "text/html": [
       "0.02246095"
      ],
      "text/latex": [
       "0.02246095"
      ],
      "text/markdown": [
       "0.02246095"
      ],
      "text/plain": [
       "[1] 0.02246095"
      ]
     },
     "metadata": {},
     "output_type": "display_data"
    }
   ],
   "source": [
    "#computing quantiles: 50%\n",
    "#input: 1 column - output: 1 value\n",
    "\n",
    "\n",
    "compute.feature_quantile50 = function (x) {\n",
    "    return(quantile(x, names=FALSE)[3])\n",
    "}\n",
    "\n",
    "\n",
    "#testing with sample data snippet\n",
    "compute.feature_quantile50(sdf_ACCX$acc_x)"
   ]
  },
  {
   "cell_type": "code",
   "execution_count": 153,
   "metadata": {},
   "outputs": [
    {
     "data": {
      "text/html": [
       "0.03826905"
      ],
      "text/latex": [
       "0.03826905"
      ],
      "text/markdown": [
       "0.03826905"
      ],
      "text/plain": [
       "[1] 0.03826905"
      ]
     },
     "metadata": {},
     "output_type": "display_data"
    }
   ],
   "source": [
    "#computing quantiles: 75%\n",
    "#input: 1 column - output: 1 value\n",
    "\n",
    "\n",
    "compute.feature_quantile75 = function (x) {\n",
    "    return(quantile(x, names=FALSE)[4])\n",
    "}\n",
    "\n",
    "\n",
    "#testing with sample data snippet\n",
    "compute.feature_quantile75(sdf_ACCX$acc_x)"
   ]
  },
  {
   "cell_type": "code",
   "execution_count": null,
   "metadata": {
    "collapsed": true
   },
   "outputs": [],
   "source": []
  }
 ],
 "metadata": {
  "kernelspec": {
   "display_name": "R",
   "language": "R",
   "name": "ir"
  },
  "language_info": {
   "codemirror_mode": "r",
   "file_extension": ".r",
   "mimetype": "text/x-r-source",
   "name": "R",
   "pygments_lexer": "r",
   "version": "3.4.3"
  }
 },
 "nbformat": 4,
 "nbformat_minor": 2
}
