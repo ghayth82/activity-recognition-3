{
 "cells": [
  {
   "cell_type": "code",
   "execution_count": 88,
   "metadata": {},
   "outputs": [],
   "source": [
    "%matplotlib inline\n",
    "from sklearn.linear_model import LogisticRegression\n",
    "from sklearn import svm, metrics\n",
    "from sklearn.feature_selection import RFE\n",
    "from sklearn.metrics import confusion_matrix\n",
    "import itertools\n",
    "import pandas as pd\n",
    "import matplotlib.pyplot as plt\n",
    "import numpy as np\n",
    "import os\n",
    "import seaborn as sns\n",
    "import datetime\n",
    "import progressbar\n",
    "from time import sleep\n",
    "import scipy.signal as signal \n",
    "from collections import Counter\n",
    "sns.set(style=\"darkgrid\")\n",
    "from Build_LSTM import *"
   ]
  },
  {
   "cell_type": "code",
   "execution_count": 89,
   "metadata": {
    "collapsed": true
   },
   "outputs": [],
   "source": [
    "\n",
    "def get_class_weights(y):\n",
    "    counter = Counter(y)\n",
    "    majority = max(counter.values())\n",
    "    return  {cls: float(majority/count) for cls, count in counter.items()}"
   ]
  },
  {
   "cell_type": "code",
   "execution_count": 90,
   "metadata": {
    "collapsed": true
   },
   "outputs": [],
   "source": [
    "\n",
    "def plot_confusion_matrix(cm, classes,\n",
    "                          normalize=False,\n",
    "                          title='Confusion matrix',\n",
    "                          cmap=plt.cm.Blues):\n",
    "    \"\"\"\n",
    "    This function prints and plots the confusion matrix.\n",
    "    Normalization can be applied by setting `normalize=True`.\n",
    "    \"\"\"\n",
    "    if normalize:\n",
    "        cm = cm.astype('float') / cm.sum(axis=1)[:, np.newaxis]\n",
    "        print(\"Normalized confusion matrix\")\n",
    "    else:\n",
    "        print('Confusion matrix, without normalization')\n",
    "\n",
    "    print(cm)\n",
    "\n",
    "    plt.imshow(cm, interpolation='nearest', cmap=cmap)\n",
    "    plt.title(title)\n",
    "    plt.colorbar()\n",
    "    tick_marks = np.arange(len(classes))\n",
    "    plt.xticks(tick_marks, classes, rotation=60)\n",
    "    plt.yticks(tick_marks, classes)\n",
    "\n",
    "    fmt = '.2f' if normalize else 'd'\n",
    "    thresh = cm.max() / 2.\n",
    "    for i, j in itertools.product(range(cm.shape[0]), range(cm.shape[1])):\n",
    "        plt.text(j, i, format(cm[i, j], fmt),\n",
    "                 horizontalalignment=\"center\",\n",
    "                 color=\"white\" if cm[i, j] > thresh else \"black\")\n",
    "\n",
    "    plt.ylabel('True label')\n",
    "    plt.xlabel('Predicted label')"
   ]
  },
  {
   "cell_type": "code",
   "execution_count": 92,
   "metadata": {
    "collapsed": true
   },
   "outputs": [],
   "source": [
    "df = pd.read_csv(\"../../../../datadrive/data_PD/preprocessed_data.csv\", index_col=0)\n",
    "df.dropna(axis=0, how='any', inplace=True)"
   ]
  },
  {
   "cell_type": "code",
   "execution_count": 94,
   "metadata": {},
   "outputs": [
    {
     "data": {
      "text/html": [
       "<div>\n",
       "<style scoped>\n",
       "    .dataframe tbody tr th:only-of-type {\n",
       "        vertical-align: middle;\n",
       "    }\n",
       "\n",
       "    .dataframe tbody tr th {\n",
       "        vertical-align: top;\n",
       "    }\n",
       "\n",
       "    .dataframe thead th {\n",
       "        text-align: right;\n",
       "    }\n",
       "</style>\n",
       "<table border=\"1\" class=\"dataframe\">\n",
       "  <thead>\n",
       "    <tr style=\"text-align: right;\">\n",
       "      <th></th>\n",
       "      <th>AccX_aoa</th>\n",
       "      <th>AccX_apf</th>\n",
       "      <th>AccX_ate</th>\n",
       "      <th>AccX_minmax</th>\n",
       "      <th>AccX_rms</th>\n",
       "      <th>AccX_std</th>\n",
       "      <th>AccY_aoa</th>\n",
       "      <th>AccY_apf</th>\n",
       "      <th>AccY_ate</th>\n",
       "      <th>AccY_minmax</th>\n",
       "      <th>...</th>\n",
       "      <th>GyroY_minmax</th>\n",
       "      <th>GyroY_rms</th>\n",
       "      <th>GyroY_std</th>\n",
       "      <th>GyroZ_aoa</th>\n",
       "      <th>GyroZ_apf</th>\n",
       "      <th>GyroZ_ate</th>\n",
       "      <th>GyroZ_minmax</th>\n",
       "      <th>GyroZ_rms</th>\n",
       "      <th>GyroZ_std</th>\n",
       "      <th>label</th>\n",
       "    </tr>\n",
       "  </thead>\n",
       "  <tbody>\n",
       "    <tr>\n",
       "      <th>not_walking5824</th>\n",
       "      <td>-0.9980</td>\n",
       "      <td>0.0331</td>\n",
       "      <td>36.6667</td>\n",
       "      <td>0.0046</td>\n",
       "      <td>0.9980</td>\n",
       "      <td>0.0008</td>\n",
       "      <td>-0.0063</td>\n",
       "      <td>0.0331</td>\n",
       "      <td>30.0000</td>\n",
       "      <td>0.0037</td>\n",
       "      <td>...</td>\n",
       "      <td>0.1829</td>\n",
       "      <td>1.4952</td>\n",
       "      <td>0.0385</td>\n",
       "      <td>-0.7441</td>\n",
       "      <td>0.0413</td>\n",
       "      <td>26.0000</td>\n",
       "      <td>0.1829</td>\n",
       "      <td>0.7454</td>\n",
       "      <td>0.0451</td>\n",
       "      <td>0.0</td>\n",
       "    </tr>\n",
       "    <tr>\n",
       "      <th>not_walking4786</th>\n",
       "      <td>-0.0666</td>\n",
       "      <td>0.0403</td>\n",
       "      <td>27.7500</td>\n",
       "      <td>0.0701</td>\n",
       "      <td>0.0680</td>\n",
       "      <td>0.0134</td>\n",
       "      <td>-0.5317</td>\n",
       "      <td>0.0323</td>\n",
       "      <td>30.0000</td>\n",
       "      <td>0.0635</td>\n",
       "      <td>...</td>\n",
       "      <td>18.7805</td>\n",
       "      <td>4.3085</td>\n",
       "      <td>4.1354</td>\n",
       "      <td>-1.6719</td>\n",
       "      <td>0.0242</td>\n",
       "      <td>46.0000</td>\n",
       "      <td>22.2256</td>\n",
       "      <td>5.0862</td>\n",
       "      <td>4.8035</td>\n",
       "      <td>0.0</td>\n",
       "    </tr>\n",
       "    <tr>\n",
       "      <th>not_walking6716</th>\n",
       "      <td>-0.9981</td>\n",
       "      <td>0.0450</td>\n",
       "      <td>24.0000</td>\n",
       "      <td>0.0061</td>\n",
       "      <td>0.9981</td>\n",
       "      <td>0.0016</td>\n",
       "      <td>-0.0057</td>\n",
       "      <td>0.0360</td>\n",
       "      <td>28.3333</td>\n",
       "      <td>0.0039</td>\n",
       "      <td>...</td>\n",
       "      <td>0.2134</td>\n",
       "      <td>1.5331</td>\n",
       "      <td>0.0471</td>\n",
       "      <td>-0.7248</td>\n",
       "      <td>0.0450</td>\n",
       "      <td>25.2500</td>\n",
       "      <td>0.1829</td>\n",
       "      <td>0.7261</td>\n",
       "      <td>0.0427</td>\n",
       "      <td>0.0</td>\n",
       "    </tr>\n",
       "    <tr>\n",
       "      <th>not_walking38357</th>\n",
       "      <td>0.4415</td>\n",
       "      <td>0.0397</td>\n",
       "      <td>26.2500</td>\n",
       "      <td>0.0056</td>\n",
       "      <td>0.4415</td>\n",
       "      <td>0.0011</td>\n",
       "      <td>-0.4092</td>\n",
       "      <td>0.0317</td>\n",
       "      <td>35.6667</td>\n",
       "      <td>0.0151</td>\n",
       "      <td>...</td>\n",
       "      <td>0.4573</td>\n",
       "      <td>1.6463</td>\n",
       "      <td>0.0881</td>\n",
       "      <td>-0.6891</td>\n",
       "      <td>0.0159</td>\n",
       "      <td>33.0000</td>\n",
       "      <td>0.6707</td>\n",
       "      <td>0.7081</td>\n",
       "      <td>0.1631</td>\n",
       "      <td>0.0</td>\n",
       "    </tr>\n",
       "    <tr>\n",
       "      <th>not_walking24689</th>\n",
       "      <td>-0.6263</td>\n",
       "      <td>0.0400</td>\n",
       "      <td>29.0000</td>\n",
       "      <td>0.0339</td>\n",
       "      <td>0.6263</td>\n",
       "      <td>0.0060</td>\n",
       "      <td>0.4385</td>\n",
       "      <td>0.0320</td>\n",
       "      <td>33.6667</td>\n",
       "      <td>0.0264</td>\n",
       "      <td>...</td>\n",
       "      <td>4.6342</td>\n",
       "      <td>1.8556</td>\n",
       "      <td>1.0717</td>\n",
       "      <td>-0.6185</td>\n",
       "      <td>0.0320</td>\n",
       "      <td>30.3333</td>\n",
       "      <td>2.8049</td>\n",
       "      <td>0.8053</td>\n",
       "      <td>0.5156</td>\n",
       "      <td>0.0</td>\n",
       "    </tr>\n",
       "  </tbody>\n",
       "</table>\n",
       "<p>5 rows × 43 columns</p>\n",
       "</div>"
      ],
      "text/plain": [
       "                  AccX_aoa  AccX_apf  AccX_ate  AccX_minmax  AccX_rms  \\\n",
       "not_walking5824    -0.9980    0.0331   36.6667       0.0046    0.9980   \n",
       "not_walking4786    -0.0666    0.0403   27.7500       0.0701    0.0680   \n",
       "not_walking6716    -0.9981    0.0450   24.0000       0.0061    0.9981   \n",
       "not_walking38357    0.4415    0.0397   26.2500       0.0056    0.4415   \n",
       "not_walking24689   -0.6263    0.0400   29.0000       0.0339    0.6263   \n",
       "\n",
       "                  AccX_std  AccY_aoa  AccY_apf  AccY_ate  AccY_minmax  ...    \\\n",
       "not_walking5824     0.0008   -0.0063    0.0331   30.0000       0.0037  ...     \n",
       "not_walking4786     0.0134   -0.5317    0.0323   30.0000       0.0635  ...     \n",
       "not_walking6716     0.0016   -0.0057    0.0360   28.3333       0.0039  ...     \n",
       "not_walking38357    0.0011   -0.4092    0.0317   35.6667       0.0151  ...     \n",
       "not_walking24689    0.0060    0.4385    0.0320   33.6667       0.0264  ...     \n",
       "\n",
       "                  GyroY_minmax  GyroY_rms  GyroY_std  GyroZ_aoa  GyroZ_apf  \\\n",
       "not_walking5824         0.1829     1.4952     0.0385    -0.7441     0.0413   \n",
       "not_walking4786        18.7805     4.3085     4.1354    -1.6719     0.0242   \n",
       "not_walking6716         0.2134     1.5331     0.0471    -0.7248     0.0450   \n",
       "not_walking38357        0.4573     1.6463     0.0881    -0.6891     0.0159   \n",
       "not_walking24689        4.6342     1.8556     1.0717    -0.6185     0.0320   \n",
       "\n",
       "                  GyroZ_ate  GyroZ_minmax  GyroZ_rms  GyroZ_std  label  \n",
       "not_walking5824     26.0000        0.1829     0.7454     0.0451    0.0  \n",
       "not_walking4786     46.0000       22.2256     5.0862     4.8035    0.0  \n",
       "not_walking6716     25.2500        0.1829     0.7261     0.0427    0.0  \n",
       "not_walking38357    33.0000        0.6707     0.7081     0.1631    0.0  \n",
       "not_walking24689    30.3333        2.8049     0.8053     0.5156    0.0  \n",
       "\n",
       "[5 rows x 43 columns]"
      ]
     },
     "execution_count": 94,
     "metadata": {},
     "output_type": "execute_result"
    }
   ],
   "source": [
    "df.head()"
   ]
  },
  {
   "cell_type": "code",
   "execution_count": 96,
   "metadata": {},
   "outputs": [
    {
     "data": {
      "text/plain": [
       "Text(0,0.5,u'Label')"
      ]
     },
     "execution_count": 96,
     "metadata": {},
     "output_type": "execute_result"
    },
    {
     "data": {
      "image/png": "[encoded data removed]",
      "text/plain": [
       "<matplotlib.figure.Figure at 0x7f213b2cbe90>"
      ]
     },
     "metadata": {},
     "output_type": "display_data"
    }
   ],
   "source": [
    "sns.countplot(x=\"label\",data=df)\n",
    "plt.title(\"Label Distribution\")\n",
    "plt.xlabel(\"Count\")\n",
    "plt.ylabel(\"Label\")"
   ]
  },
  {
   "cell_type": "code",
   "execution_count": 100,
   "metadata": {},
   "outputs": [
    {
     "data": {
      "text/plain": [
       "(47347, 43)"
      ]
     },
     "execution_count": 100,
     "metadata": {},
     "output_type": "execute_result"
    }
   ],
   "source": [
    "df.shape"
   ]
  },
  {
   "cell_type": "code",
   "execution_count": 97,
   "metadata": {
    "collapsed": true
   },
   "outputs": [],
   "source": [
    "from sklearn.cross_validation import train_test_split, cross_val_score\n",
    "from sklearn.model_selection import KFold"
   ]
  },
  {
   "cell_type": "code",
   "execution_count": 98,
   "metadata": {
    "collapsed": true
   },
   "outputs": [],
   "source": [
    "X = df[df.columns[:-1]].values\n",
    "y = df[df.columns[-1]].values"
   ]
  },
  {
   "cell_type": "code",
   "execution_count": 99,
   "metadata": {},
   "outputs": [],
   "source": [
    "y_test_all = []\n",
    "y_pred_all = []\n",
    "kf = KFold(n_splits=10, shuffle=True)\n",
    "for train, test in kf.split(X):\n",
    "    \n",
    "    X_training = X[train]\n",
    "    X_test = X[test]\n",
    "    y_training = y[train]\n",
    "    y_test = y[test]\n",
    "    class_weight = get_class_weights(y_training)\n",
    "    \n",
    "    model = LogisticRegression(penalty='l2', class_weight=class_weight)\n",
    "    model.fit(X_training, y_training)\n",
    "    y_pred = model.predict(X_test)\n",
    "    \n",
    "    y_test_all.extend(list(y_test))\n",
    "    y_pred_all.extend(list(y_pred))\n",
    "    "
   ]
  },
  {
   "cell_type": "code",
   "execution_count": 101,
   "metadata": {},
   "outputs": [
    {
     "name": "stdout",
     "output_type": "stream",
     "text": [
      "Confusion matrix, without normalization\n",
      "[[25798 14957]\n",
      " [ 2077  4515]]\n",
      "Normalized confusion matrix\n",
      "[[0.63300209 0.36699791]\n",
      " [0.31507888 0.68492112]]\n"
     ]
    },
    {
     "data": {
      "image/png": "[encoded data removed]",
      "text/plain": [
       "<matplotlib.figure.Figure at 0x7f1fa7e7de10>"
      ]
     },
     "metadata": {},
     "output_type": "display_data"
    },
    {
     "data": {
      "image/png": "[encoded data removed]",
      "text/plain": [
       "<matplotlib.figure.Figure at 0x7f1efc72c250>"
      ]
     },
     "metadata": {},
     "output_type": "display_data"
    }
   ],
   "source": [
    "cnf_matrix = confusion_matrix(y_test_all, y_pred_all)\n",
    "# Plot non-normalized confusion matrix\n",
    "plt.figure()\n",
    "plot_confusion_matrix(cnf_matrix, classes=model.classes_,\n",
    "                      title='Confusion matrix, without normalization')\n",
    "\n",
    "# Plot normalized confusion matrix\n",
    "plt.figure()\n",
    "plot_confusion_matrix(cnf_matrix, classes=model.classes_, normalize=True,\n",
    "                      title='Normalized confusion matrix')\n",
    "# plt.savefig(save_with_name+'.png')\n",
    "plt.show()"
   ]
  },
  {
   "cell_type": "code",
   "execution_count": 102,
   "metadata": {},
   "outputs": [
    {
     "name": "stdout",
     "output_type": "stream",
     "text": [
      "             precision    recall  f1-score   support\n",
      "\n",
      "        0.0       0.93      0.63      0.75     40755\n",
      "        1.0       0.23      0.68      0.35      6592\n",
      "\n",
      "avg / total       0.83      0.64      0.70     47347\n",
      "\n"
     ]
    }
   ],
   "source": [
    "from sklearn.metrics import classification_report\n",
    "print(classification_report(y_test_all, y_pred_all))"
   ]
  },
  {
   "cell_type": "code",
   "execution_count": null,
   "metadata": {
    "collapsed": true
   },
   "outputs": [],
   "source": []
  },
  {
   "cell_type": "code",
   "execution_count": null,
   "metadata": {
    "collapsed": true
   },
   "outputs": [],
   "source": []
  }
 ],
 "metadata": {
  "kernelspec": {
   "display_name": "Python [conda root]",
   "language": "python",
   "name": "conda-root-py"
  },
  "language_info": {
   "codemirror_mode": {
    "name": "ipython",
    "version": 2
   },
   "file_extension": ".py",
   "mimetype": "text/x-python",
   "name": "python",
   "nbconvert_exporter": "python",
   "pygments_lexer": "ipython2",
   "version": "2.7.11"
  }
 },
 "nbformat": 4,
 "nbformat_minor": 2
}
