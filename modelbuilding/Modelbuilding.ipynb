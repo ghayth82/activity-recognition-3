{
 "cells": [
  {
   "cell_type": "code",
   "execution_count": 1,
   "metadata": {},
   "outputs": [
    {
     "name": "stderr",
     "output_type": "stream",
     "text": [
      "/anaconda/envs/py35/lib/python3.5/site-packages/h5py/__init__.py:36: FutureWarning: Conversion of the second argument of issubdtype from `float` to `np.floating` is deprecated. In future, it will be treated as `np.float64 == np.dtype(float).type`.\n",
      "  from ._conv import register_converters as _register_converters\n",
      "Using TensorFlow backend.\n"
     ]
    }
   ],
   "source": [
    "%matplotlib inline\n",
    "from sklearn.linear_model import LogisticRegression\n",
    "from sklearn.ensemble import RandomForestClassifier\n",
    "from sklearn import svm, metrics\n",
    "from sklearn.feature_selection import RFE\n",
    "from sklearn.metrics import confusion_matrix\n",
    "from sklearn.utils import shuffle\n",
    "import itertools\n",
    "import pandas as pd\n",
    "import matplotlib.pyplot as plt\n",
    "import numpy as np\n",
    "from numpy import *\n",
    "import os\n",
    "import seaborn as sns\n",
    "import datetime\n",
    "from time import sleep\n",
    "import scipy.signal as signal \n",
    "import sys\n",
    "sys.path.append('../../dsmuc/')\n",
    "from dsmuc.custom import detect_peaks\n",
    "from collections import Counter\n",
    "sns.set(style=\"darkgrid\")\n",
    "from models import RNN_classifier,KerasClassifier\n"
   ]
  },
  {
   "cell_type": "code",
   "execution_count": 2,
   "metadata": {},
   "outputs": [],
   "source": [
    "def get_class_weights(y):\n",
    "    y = np.asarray(y)\n",
    "    from sklearn.utils import class_weight\n",
    "    class_weight = class_weight.compute_class_weight('balanced'\n",
    "                                               ,np.unique(y.reshape(y.shape[0],))\n",
    "                                               ,y.reshape(y.shape[0],))\n",
    "    return  {cls: float(weight) for cls,weight in zip (np.unique(y.reshape(y.shape[0],)),class_weight)}\n"
   ]
  },
  {
   "cell_type": "code",
   "execution_count": 3,
   "metadata": {},
   "outputs": [],
   "source": [
    "def auc_roc_plot(y_test, y_score, classes  = 'all'):\n",
    "    from sklearn.metrics import roc_curve, auc\n",
    "    if classes is None:\n",
    "        classes = list(range(y_test.shape[1]))\n",
    "    # Compute ROC curve and ROC area for each class\n",
    "    fpr = dict()\n",
    "    tpr = dict()\n",
    "    roc_auc = dict()\n",
    "    n_classes = len(classes)\n",
    "    for i in range(n_classes):\n",
    "        fpr[i], tpr[i], _ = roc_curve(y_test[:, i],y_score[:, i])\n",
    "        roc_auc[i] = auc(fpr[i], tpr[i])\n",
    "\n",
    "    # Compute micro-average ROC curve and ROC area\n",
    "    fpr[\"micro\"], tpr[\"micro\"], _ = roc_curve(y_test.ravel(), y_score.ravel())\n",
    "    roc_auc[\"micro\"] = auc(fpr[\"micro\"], tpr[\"micro\"])\n",
    "    \n",
    "    \n",
    "    \n",
    "\n",
    "    # First aggregate all false positive rates\n",
    "    all_fpr = np.unique(np.concatenate([fpr[i] for i in range(n_classes)]))\n",
    "\n",
    "    # Then interpolate all ROC curves at this points\n",
    "    mean_tpr = np.zeros_like(all_fpr)\n",
    "    for i in range(n_classes):\n",
    "        mean_tpr += np.interp(all_fpr, fpr[i], tpr[i])\n",
    "\n",
    "    # Finally average it and compute AUC\n",
    "    mean_tpr /= n_classes\n",
    "\n",
    "    fpr[\"macro\"] = all_fpr\n",
    "    tpr[\"macro\"] = mean_tpr\n",
    "    roc_auc[\"macro\"] = auc(fpr[\"macro\"], tpr[\"macro\"])\n",
    "    \n",
    "    # Plot all ROC curves\n",
    "    plt.figure()\n",
    "    plt.plot(fpr[\"micro\"], tpr[\"micro\"],\n",
    "             label='micro-average ROC curve (area = {0:0.2f})'\n",
    "                   ''.format(roc_auc[\"micro\"]),\n",
    "             color='deeppink', linestyle=':', linewidth=4)\n",
    "\n",
    "    plt.plot(fpr[\"macro\"], tpr[\"macro\"],\n",
    "             label='macro-average ROC curve (area = {0:0.2f})'\n",
    "                   ''.format(roc_auc[\"macro\"]),\n",
    "             color='navy', linestyle=':', linewidth=4)\n",
    "\n",
    "    colors = itertools.cycle(['aqua', 'darkorange', 'cornflowerblue'])\n",
    "    for i, color in zip(classes, colors):\n",
    "        plt.plot(fpr[i], tpr[i], color=color, lw=2,\n",
    "                 label='ROC curve of class {0} (area = {1:0.2f})'\n",
    "                 ''.format(i, roc_auc[i]))\n",
    "\n",
    "    plt.plot([0, 1], [0, 1], 'k--', lw=2)\n",
    "    plt.xlim([0.0, 1.0])\n",
    "    plt.ylim([0.0, 1.05])\n",
    "    plt.xlabel('False Positive Rate')\n",
    "    plt.ylabel('True Positive Rate')\n",
    "    plt.title('Some extension of Receiver operating characteristic to multi-class')\n",
    "    plt.legend(loc=\"lower right\")\n",
    "    plt.show()\n",
    "    "
   ]
  },
  {
   "cell_type": "code",
   "execution_count": 4,
   "metadata": {},
   "outputs": [],
   "source": [
    "def plot_cm(cm, classes, normalize = True):\n",
    "    import seaborn as sns\n",
    "    if normalize:\n",
    "        cm = cm.astype('float') / cm.sum(axis=1)[:, np.newaxis]\n",
    "        print(\"Normalized confusion matrix\")\n",
    "    else:\n",
    "        print('Confusion matrix, without normalization')\n",
    "\n",
    "    ax= plt.subplot()\n",
    "    sns.heatmap(cm, annot=True, ax = ax, cmap=\"Blues\"); #annot=True to annotate cells\n",
    "\n",
    "    # labels, title and ticks\n",
    "    ax.set_xlabel('Predicted labels');ax.set_ylabel('True labels'); \n",
    "    ax.set_title('Confusion Matrix'); \n",
    "    ax.xaxis.set_ticklabels(classes); ax.yaxis.set_ticklabels(classes[::-1]);\n",
    "    plt.xticks(rotation='vertical')\n",
    "    plt.yticks(rotation='horizontal')\n",
    "    plt.show()"
   ]
  },
  {
   "cell_type": "code",
   "execution_count": 11,
   "metadata": {},
   "outputs": [],
   "source": [
    "df = pd.read_csv(\"/home/ahmet/notebooks/data/G9_data/processed.csv\")\n",
    "df.dropna(axis=0, how='any', inplace=True)"
   ]
  },
  {
   "cell_type": "code",
   "execution_count": 12,
   "metadata": {
    "scrolled": true
   },
   "outputs": [
    {
     "data": {
      "text/html": [
       "<div>\n",
       "<style scoped>\n",
       "    .dataframe tbody tr th:only-of-type {\n",
       "        vertical-align: middle;\n",
       "    }\n",
       "\n",
       "    .dataframe tbody tr th {\n",
       "        vertical-align: top;\n",
       "    }\n",
       "\n",
       "    .dataframe thead th {\n",
       "        text-align: right;\n",
       "    }\n",
       "</style>\n",
       "<table border=\"1\" class=\"dataframe\">\n",
       "  <thead>\n",
       "    <tr style=\"text-align: right;\">\n",
       "      <th></th>\n",
       "      <th>CorAccXAccY_corr</th>\n",
       "      <th>CorAccXAccZ_corr</th>\n",
       "      <th>CorAccYAccZ_corr</th>\n",
       "      <th>CorGyroXGyroY_corr</th>\n",
       "      <th>CorGyroXGyroZ_corr</th>\n",
       "      <th>CorGyroYGyroZ_corr</th>\n",
       "      <th>accX_aoa</th>\n",
       "      <th>accX_apf</th>\n",
       "      <th>accX_ate</th>\n",
       "      <th>accX_max</th>\n",
       "      <th>...</th>\n",
       "      <th>gyroZ_ate</th>\n",
       "      <th>gyroZ_max</th>\n",
       "      <th>gyroZ_mean</th>\n",
       "      <th>gyroZ_min</th>\n",
       "      <th>gyroZ_minmax</th>\n",
       "      <th>gyroZ_rms</th>\n",
       "      <th>gyroZ_std</th>\n",
       "      <th>label</th>\n",
       "      <th>start</th>\n",
       "      <th>subject_id</th>\n",
       "    </tr>\n",
       "  </thead>\n",
       "  <tbody>\n",
       "    <tr>\n",
       "      <th>0</th>\n",
       "      <td>-0.191494</td>\n",
       "      <td>-0.018550</td>\n",
       "      <td>-0.291556</td>\n",
       "      <td>0.727880</td>\n",
       "      <td>0.461031</td>\n",
       "      <td>0.569434</td>\n",
       "      <td>-6.158093</td>\n",
       "      <td>0.043011</td>\n",
       "      <td>24.333333</td>\n",
       "      <td>-6.009446</td>\n",
       "      <td>...</td>\n",
       "      <td>40.000000</td>\n",
       "      <td>0.017993</td>\n",
       "      <td>0.000428</td>\n",
       "      <td>-0.018226</td>\n",
       "      <td>0.036219</td>\n",
       "      <td>0.007781</td>\n",
       "      <td>0.007769</td>\n",
       "      <td>5.0</td>\n",
       "      <td>2018-01-16 06:30:12.029</td>\n",
       "      <td>15.0</td>\n",
       "    </tr>\n",
       "    <tr>\n",
       "      <th>2</th>\n",
       "      <td>0.346551</td>\n",
       "      <td>-0.330945</td>\n",
       "      <td>-0.692002</td>\n",
       "      <td>-0.124647</td>\n",
       "      <td>0.323075</td>\n",
       "      <td>0.331159</td>\n",
       "      <td>-9.611379</td>\n",
       "      <td>0.040000</td>\n",
       "      <td>29.000000</td>\n",
       "      <td>-9.457097</td>\n",
       "      <td>...</td>\n",
       "      <td>24.333333</td>\n",
       "      <td>0.056933</td>\n",
       "      <td>0.000213</td>\n",
       "      <td>-0.028820</td>\n",
       "      <td>0.085754</td>\n",
       "      <td>0.013421</td>\n",
       "      <td>0.013419</td>\n",
       "      <td>5.0</td>\n",
       "      <td>2018-01-16 04:35:14.010</td>\n",
       "      <td>14.0</td>\n",
       "    </tr>\n",
       "    <tr>\n",
       "      <th>4</th>\n",
       "      <td>-0.163335</td>\n",
       "      <td>-0.209158</td>\n",
       "      <td>-0.039511</td>\n",
       "      <td>0.581457</td>\n",
       "      <td>-0.036526</td>\n",
       "      <td>-0.345909</td>\n",
       "      <td>-9.551191</td>\n",
       "      <td>0.038835</td>\n",
       "      <td>30.333333</td>\n",
       "      <td>-9.270349</td>\n",
       "      <td>...</td>\n",
       "      <td>37.500000</td>\n",
       "      <td>0.191847</td>\n",
       "      <td>-0.004006</td>\n",
       "      <td>-0.200170</td>\n",
       "      <td>0.392017</td>\n",
       "      <td>0.081773</td>\n",
       "      <td>0.081675</td>\n",
       "      <td>5.0</td>\n",
       "      <td>2017-12-08 09:29:15.016</td>\n",
       "      <td>1.0</td>\n",
       "    </tr>\n",
       "    <tr>\n",
       "      <th>5</th>\n",
       "      <td>-0.067963</td>\n",
       "      <td>0.216787</td>\n",
       "      <td>0.847867</td>\n",
       "      <td>0.622559</td>\n",
       "      <td>-0.474301</td>\n",
       "      <td>-0.378248</td>\n",
       "      <td>-5.000725</td>\n",
       "      <td>0.034091</td>\n",
       "      <td>23.500000</td>\n",
       "      <td>-4.831499</td>\n",
       "      <td>...</td>\n",
       "      <td>30.500000</td>\n",
       "      <td>0.057916</td>\n",
       "      <td>-0.001733</td>\n",
       "      <td>-0.048611</td>\n",
       "      <td>0.106526</td>\n",
       "      <td>0.018821</td>\n",
       "      <td>0.018741</td>\n",
       "      <td>5.0</td>\n",
       "      <td>2018-01-16 04:04:24.018</td>\n",
       "      <td>13.0</td>\n",
       "    </tr>\n",
       "    <tr>\n",
       "      <th>7</th>\n",
       "      <td>0.425971</td>\n",
       "      <td>0.060016</td>\n",
       "      <td>-0.080594</td>\n",
       "      <td>0.250882</td>\n",
       "      <td>0.395483</td>\n",
       "      <td>0.499603</td>\n",
       "      <td>-9.692078</td>\n",
       "      <td>0.031250</td>\n",
       "      <td>33.000000</td>\n",
       "      <td>-8.920795</td>\n",
       "      <td>...</td>\n",
       "      <td>32.000000</td>\n",
       "      <td>0.530685</td>\n",
       "      <td>0.010730</td>\n",
       "      <td>-0.344430</td>\n",
       "      <td>0.875115</td>\n",
       "      <td>0.205208</td>\n",
       "      <td>0.204927</td>\n",
       "      <td>5.0</td>\n",
       "      <td>2017-12-20 07:21:44.015</td>\n",
       "      <td>11.0</td>\n",
       "    </tr>\n",
       "  </tbody>\n",
       "</table>\n",
       "<p>5 rows × 63 columns</p>\n",
       "</div>"
      ],
      "text/plain": [
       "   CorAccXAccY_corr  CorAccXAccZ_corr  CorAccYAccZ_corr  CorGyroXGyroY_corr  \\\n",
       "0         -0.191494         -0.018550         -0.291556            0.727880   \n",
       "2          0.346551         -0.330945         -0.692002           -0.124647   \n",
       "4         -0.163335         -0.209158         -0.039511            0.581457   \n",
       "5         -0.067963          0.216787          0.847867            0.622559   \n",
       "7          0.425971          0.060016         -0.080594            0.250882   \n",
       "\n",
       "   CorGyroXGyroZ_corr  CorGyroYGyroZ_corr  accX_aoa  accX_apf   accX_ate  \\\n",
       "0            0.461031            0.569434 -6.158093  0.043011  24.333333   \n",
       "2            0.323075            0.331159 -9.611379  0.040000  29.000000   \n",
       "4           -0.036526           -0.345909 -9.551191  0.038835  30.333333   \n",
       "5           -0.474301           -0.378248 -5.000725  0.034091  23.500000   \n",
       "7            0.395483            0.499603 -9.692078  0.031250  33.000000   \n",
       "\n",
       "   accX_max     ...      gyroZ_ate  gyroZ_max  gyroZ_mean  gyroZ_min  \\\n",
       "0 -6.009446     ...      40.000000   0.017993    0.000428  -0.018226   \n",
       "2 -9.457097     ...      24.333333   0.056933    0.000213  -0.028820   \n",
       "4 -9.270349     ...      37.500000   0.191847   -0.004006  -0.200170   \n",
       "5 -4.831499     ...      30.500000   0.057916   -0.001733  -0.048611   \n",
       "7 -8.920795     ...      32.000000   0.530685    0.010730  -0.344430   \n",
       "\n",
       "   gyroZ_minmax  gyroZ_rms  gyroZ_std  label                    start  \\\n",
       "0      0.036219   0.007781   0.007769    5.0  2018-01-16 06:30:12.029   \n",
       "2      0.085754   0.013421   0.013419    5.0  2018-01-16 04:35:14.010   \n",
       "4      0.392017   0.081773   0.081675    5.0  2017-12-08 09:29:15.016   \n",
       "5      0.106526   0.018821   0.018741    5.0  2018-01-16 04:04:24.018   \n",
       "7      0.875115   0.205208   0.204927    5.0  2017-12-20 07:21:44.015   \n",
       "\n",
       "   subject_id  \n",
       "0        15.0  \n",
       "2        14.0  \n",
       "4         1.0  \n",
       "5        13.0  \n",
       "7        11.0  \n",
       "\n",
       "[5 rows x 63 columns]"
      ]
     },
     "execution_count": 12,
     "metadata": {},
     "output_type": "execute_result"
    }
   ],
   "source": [
    "df.head()"
   ]
  },
  {
   "cell_type": "code",
   "execution_count": 13,
   "metadata": {},
   "outputs": [
    {
     "data": {
      "text/plain": [
       "Text(0,0.5,'Label')"
      ]
     },
     "execution_count": 13,
     "metadata": {},
     "output_type": "execute_result"
    },
    {
     "data": {
      "image/png": "[encoded data removed]",
      "text/plain": [
       "<matplotlib.figure.Figure at 0x7f8386e15d68>"
      ]
     },
     "metadata": {},
     "output_type": "display_data"
    }
   ],
   "source": [
    "sns.countplot(x=\"label\",data=df)\n",
    "plt.title(\"Label Distribution\")\n",
    "plt.xlabel(\"Count\")\n",
    "plt.ylabel(\"Label\")"
   ]
  },
  {
   "cell_type": "code",
   "execution_count": 14,
   "metadata": {},
   "outputs": [
    {
     "data": {
      "text/plain": [
       "Index(['CorAccXAccY_corr', 'CorAccXAccZ_corr', 'CorAccYAccZ_corr',\n",
       "       'CorGyroXGyroY_corr', 'CorGyroXGyroZ_corr', 'CorGyroYGyroZ_corr',\n",
       "       'accX_aoa', 'accX_apf', 'accX_ate', 'accX_max', 'accX_mean', 'accX_min',\n",
       "       'accX_minmax', 'accX_rms', 'accX_std', 'accY_aoa', 'accY_apf',\n",
       "       'accY_ate', 'accY_max', 'accY_mean', 'accY_min', 'accY_minmax',\n",
       "       'accY_rms', 'accY_std', 'accZ_aoa', 'accZ_apf', 'accZ_ate', 'accZ_max',\n",
       "       'accZ_mean', 'accZ_min', 'accZ_minmax', 'accZ_rms', 'accZ_std',\n",
       "       'gyroX_aoa', 'gyroX_apf', 'gyroX_ate', 'gyroX_max', 'gyroX_mean',\n",
       "       'gyroX_min', 'gyroX_minmax', 'gyroX_rms', 'gyroX_std', 'gyroY_aoa',\n",
       "       'gyroY_apf', 'gyroY_ate', 'gyroY_max', 'gyroY_mean', 'gyroY_min',\n",
       "       'gyroY_minmax', 'gyroY_rms', 'gyroY_std', 'gyroZ_aoa', 'gyroZ_apf',\n",
       "       'gyroZ_ate', 'gyroZ_max', 'gyroZ_mean', 'gyroZ_min', 'gyroZ_minmax',\n",
       "       'gyroZ_rms', 'gyroZ_std'],\n",
       "      dtype='object')"
      ]
     },
     "execution_count": 14,
     "metadata": {},
     "output_type": "execute_result"
    }
   ],
   "source": [
    "df.columns[:-3]"
   ]
  },
  {
   "cell_type": "code",
   "execution_count": 18,
   "metadata": {
    "scrolled": false
   },
   "outputs": [
    {
     "name": "stdout",
     "output_type": "stream",
     "text": [
      "==================\n",
      "Model tested on subjects with no :  [  1. 118.]\n",
      "Test set and training set proportion :  0.044482137911935754\n",
      "Build model...\n"
     ]
    },
    {
     "ename": "ValueError",
     "evalue": "The shape of the input to \"Flatten\" is not fully defined (got (None, 64). Make sure to pass a complete \"input_shape\" or \"batch_input_shape\" argument to the first layer in your model.",
     "output_type": "error",
     "traceback": [
      "\u001b[0;31m---------------------------------------------------------------------------\u001b[0m",
      "\u001b[0;31mValueError\u001b[0m                                Traceback (most recent call last)",
      "\u001b[0;32m<ipython-input-18-a8dd75154a3c>\u001b[0m in \u001b[0;36m<module>\u001b[0;34m()\u001b[0m\n\u001b[1;32m     43\u001b[0m             \u001b[0mmodel\u001b[0m \u001b[0;34m=\u001b[0m \u001b[0mRandomForestClassifier\u001b[0m\u001b[0;34m(\u001b[0m\u001b[0mmax_depth\u001b[0m\u001b[0;34m=\u001b[0m\u001b[0;36m10\u001b[0m\u001b[0;34m,\u001b[0m \u001b[0mn_estimators\u001b[0m\u001b[0;34m=\u001b[0m\u001b[0;36m20\u001b[0m\u001b[0;34m,\u001b[0m \u001b[0mclass_weight\u001b[0m\u001b[0;34m=\u001b[0m\u001b[0mclass_weight\u001b[0m\u001b[0;34m)\u001b[0m\u001b[0;34m\u001b[0m\u001b[0m\n\u001b[1;32m     44\u001b[0m         \u001b[0;32melif\u001b[0m \u001b[0mselected_model\u001b[0m \u001b[0;34m==\u001b[0m\u001b[0;34m'CNN'\u001b[0m\u001b[0;34m:\u001b[0m\u001b[0;34m\u001b[0m\u001b[0m\n\u001b[0;32m---> 45\u001b[0;31m             \u001b[0mmodel\u001b[0m \u001b[0;34m=\u001b[0m \u001b[0mKerasClassifier\u001b[0m\u001b[0;34m(\u001b[0m\u001b[0mbatch_size\u001b[0m\u001b[0;34m=\u001b[0m\u001b[0;36m100\u001b[0m\u001b[0;34m,\u001b[0m \u001b[0mn_classes\u001b[0m\u001b[0;34m=\u001b[0m\u001b[0;36m6\u001b[0m\u001b[0;34m,\u001b[0m\u001b[0mmodel\u001b[0m \u001b[0;34m=\u001b[0m \u001b[0;34m'CNN'\u001b[0m\u001b[0;34m,\u001b[0m \u001b[0mn_epoch\u001b[0m\u001b[0;34m=\u001b[0m\u001b[0;36m50\u001b[0m\u001b[0;34m)\u001b[0m\u001b[0;34m\u001b[0m\u001b[0m\n\u001b[0m\u001b[1;32m     46\u001b[0m         \u001b[0mmodel\u001b[0m\u001b[0;34m.\u001b[0m\u001b[0mfit\u001b[0m\u001b[0;34m(\u001b[0m\u001b[0mX_training\u001b[0m\u001b[0;34m,\u001b[0m \u001b[0my_training\u001b[0m\u001b[0;34m)\u001b[0m\u001b[0;34m\u001b[0m\u001b[0m\n\u001b[1;32m     47\u001b[0m         \u001b[0my_pred\u001b[0m \u001b[0;34m=\u001b[0m \u001b[0mmodel\u001b[0m\u001b[0;34m.\u001b[0m\u001b[0mpredict\u001b[0m\u001b[0;34m(\u001b[0m\u001b[0mX_test\u001b[0m\u001b[0;34m)\u001b[0m\u001b[0;34m\u001b[0m\u001b[0m\n",
      "\u001b[0;32m~/notebooks/activity-recognition/modelbuilding/models.py\u001b[0m in \u001b[0;36m__init__\u001b[0;34m(self, batch_size, n_classes, model, n_epoch)\u001b[0m\n\u001b[1;32m    365\u001b[0m             \u001b[0mself\u001b[0m\u001b[0;34m.\u001b[0m\u001b[0mmodel\u001b[0m \u001b[0;34m=\u001b[0m \u001b[0mself\u001b[0m\u001b[0;34m.\u001b[0m\u001b[0m_MLP\u001b[0m\u001b[0;34m(\u001b[0m\u001b[0;34m)\u001b[0m\u001b[0;34m\u001b[0m\u001b[0m\n\u001b[1;32m    366\u001b[0m         \u001b[0;32melif\u001b[0m \u001b[0mmodel\u001b[0m \u001b[0;34m==\u001b[0m\u001b[0;34m'CNN'\u001b[0m\u001b[0;34m:\u001b[0m\u001b[0;34m\u001b[0m\u001b[0m\n\u001b[0;32m--> 367\u001b[0;31m             \u001b[0mself\u001b[0m\u001b[0;34m.\u001b[0m\u001b[0mmodel\u001b[0m \u001b[0;34m=\u001b[0m \u001b[0mself\u001b[0m\u001b[0;34m.\u001b[0m\u001b[0m_CNN\u001b[0m\u001b[0;34m(\u001b[0m\u001b[0;34m)\u001b[0m\u001b[0;34m\u001b[0m\u001b[0m\n\u001b[0m\u001b[1;32m    368\u001b[0m \u001b[0;34m\u001b[0m\u001b[0m\n\u001b[1;32m    369\u001b[0m \u001b[0;34m\u001b[0m\u001b[0m\n",
      "\u001b[0;32m~/notebooks/activity-recognition/modelbuilding/models.py\u001b[0m in \u001b[0;36m_CNN\u001b[0;34m(self)\u001b[0m\n\u001b[1;32m    425\u001b[0m                          strides=1))\n\u001b[1;32m    426\u001b[0m         \u001b[0mmodel\u001b[0m\u001b[0;34m.\u001b[0m\u001b[0madd\u001b[0m\u001b[0;34m(\u001b[0m\u001b[0mMaxPooling1D\u001b[0m\u001b[0;34m(\u001b[0m\u001b[0;36m6\u001b[0m\u001b[0;34m)\u001b[0m\u001b[0;34m)\u001b[0m\u001b[0;34m\u001b[0m\u001b[0m\n\u001b[0;32m--> 427\u001b[0;31m         \u001b[0mmodel\u001b[0m\u001b[0;34m.\u001b[0m\u001b[0madd\u001b[0m\u001b[0;34m(\u001b[0m\u001b[0mFlatten\u001b[0m\u001b[0;34m(\u001b[0m\u001b[0;34m)\u001b[0m\u001b[0;34m)\u001b[0m\u001b[0;34m\u001b[0m\u001b[0m\n\u001b[0m\u001b[1;32m    428\u001b[0m         \u001b[0mmodel\u001b[0m\u001b[0;34m.\u001b[0m\u001b[0madd\u001b[0m\u001b[0;34m(\u001b[0m\u001b[0mDense\u001b[0m\u001b[0;34m(\u001b[0m\u001b[0;36m64\u001b[0m\u001b[0;34m)\u001b[0m\u001b[0;34m)\u001b[0m\u001b[0;34m\u001b[0m\u001b[0m\n\u001b[1;32m    429\u001b[0m         \u001b[0mmodel\u001b[0m\u001b[0;34m.\u001b[0m\u001b[0madd\u001b[0m\u001b[0;34m(\u001b[0m\u001b[0mDense\u001b[0m\u001b[0;34m(\u001b[0m\u001b[0;36m32\u001b[0m\u001b[0;34m)\u001b[0m\u001b[0;34m)\u001b[0m\u001b[0;34m\u001b[0m\u001b[0m\n",
      "\u001b[0;32m/anaconda/envs/py35/lib/python3.5/site-packages/keras/engine/sequential.py\u001b[0m in \u001b[0;36madd\u001b[0;34m(self, layer)\u001b[0m\n\u001b[1;32m    185\u001b[0m                 \u001b[0mself\u001b[0m\u001b[0;34m.\u001b[0m\u001b[0minputs\u001b[0m \u001b[0;34m=\u001b[0m \u001b[0mnetwork\u001b[0m\u001b[0;34m.\u001b[0m\u001b[0mget_source_inputs\u001b[0m\u001b[0;34m(\u001b[0m\u001b[0mself\u001b[0m\u001b[0;34m.\u001b[0m\u001b[0moutputs\u001b[0m\u001b[0;34m[\u001b[0m\u001b[0;36m0\u001b[0m\u001b[0;34m]\u001b[0m\u001b[0;34m)\u001b[0m\u001b[0;34m\u001b[0m\u001b[0m\n\u001b[1;32m    186\u001b[0m         \u001b[0;32melif\u001b[0m \u001b[0mself\u001b[0m\u001b[0;34m.\u001b[0m\u001b[0moutputs\u001b[0m\u001b[0;34m:\u001b[0m\u001b[0;34m\u001b[0m\u001b[0m\n\u001b[0;32m--> 187\u001b[0;31m             \u001b[0moutput_tensor\u001b[0m \u001b[0;34m=\u001b[0m \u001b[0mlayer\u001b[0m\u001b[0;34m(\u001b[0m\u001b[0mself\u001b[0m\u001b[0;34m.\u001b[0m\u001b[0moutputs\u001b[0m\u001b[0;34m[\u001b[0m\u001b[0;36m0\u001b[0m\u001b[0;34m]\u001b[0m\u001b[0;34m)\u001b[0m\u001b[0;34m\u001b[0m\u001b[0m\n\u001b[0m\u001b[1;32m    188\u001b[0m             \u001b[0;32mif\u001b[0m \u001b[0misinstance\u001b[0m\u001b[0;34m(\u001b[0m\u001b[0moutput_tensor\u001b[0m\u001b[0;34m,\u001b[0m \u001b[0mlist\u001b[0m\u001b[0;34m)\u001b[0m\u001b[0;34m:\u001b[0m\u001b[0;34m\u001b[0m\u001b[0m\n\u001b[1;32m    189\u001b[0m                 raise TypeError('All layers in a Sequential model '\n",
      "\u001b[0;32m/anaconda/envs/py35/lib/python3.5/site-packages/keras/engine/base_layer.py\u001b[0m in \u001b[0;36m__call__\u001b[0;34m(self, inputs, **kwargs)\u001b[0m\n\u001b[1;32m    478\u001b[0m             if all([s is not None\n\u001b[1;32m    479\u001b[0m                     for s in to_list(input_shape)]):\n\u001b[0;32m--> 480\u001b[0;31m                 \u001b[0moutput_shape\u001b[0m \u001b[0;34m=\u001b[0m \u001b[0mself\u001b[0m\u001b[0;34m.\u001b[0m\u001b[0mcompute_output_shape\u001b[0m\u001b[0;34m(\u001b[0m\u001b[0minput_shape\u001b[0m\u001b[0;34m)\u001b[0m\u001b[0;34m\u001b[0m\u001b[0m\n\u001b[0m\u001b[1;32m    481\u001b[0m             \u001b[0;32melse\u001b[0m\u001b[0;34m:\u001b[0m\u001b[0;34m\u001b[0m\u001b[0m\n\u001b[1;32m    482\u001b[0m                 \u001b[0;32mif\u001b[0m \u001b[0misinstance\u001b[0m\u001b[0;34m(\u001b[0m\u001b[0minput_shape\u001b[0m\u001b[0;34m,\u001b[0m \u001b[0mlist\u001b[0m\u001b[0;34m)\u001b[0m\u001b[0;34m:\u001b[0m\u001b[0;34m\u001b[0m\u001b[0m\n",
      "\u001b[0;32m/anaconda/envs/py35/lib/python3.5/site-packages/keras/layers/core.py\u001b[0m in \u001b[0;36mcompute_output_shape\u001b[0;34m(self, input_shape)\u001b[0m\n\u001b[1;32m    505\u001b[0m             raise ValueError('The shape of the input to \"Flatten\" '\n\u001b[1;32m    506\u001b[0m                              \u001b[0;34m'is not fully defined '\u001b[0m\u001b[0;34m\u001b[0m\u001b[0m\n\u001b[0;32m--> 507\u001b[0;31m                              \u001b[0;34m'(got '\u001b[0m \u001b[0;34m+\u001b[0m \u001b[0mstr\u001b[0m\u001b[0;34m(\u001b[0m\u001b[0minput_shape\u001b[0m\u001b[0;34m[\u001b[0m\u001b[0;36m1\u001b[0m\u001b[0;34m:\u001b[0m\u001b[0;34m]\u001b[0m\u001b[0;34m)\u001b[0m \u001b[0;34m+\u001b[0m \u001b[0;34m'. '\u001b[0m\u001b[0;34m\u001b[0m\u001b[0m\n\u001b[0m\u001b[1;32m    508\u001b[0m                              \u001b[0;34m'Make sure to pass a complete \"input_shape\" '\u001b[0m\u001b[0;34m\u001b[0m\u001b[0m\n\u001b[1;32m    509\u001b[0m                              \u001b[0;34m'or \"batch_input_shape\" argument to the first '\u001b[0m\u001b[0;34m\u001b[0m\u001b[0m\n",
      "\u001b[0;31mValueError\u001b[0m: The shape of the input to \"Flatten\" is not fully defined (got (None, 64). Make sure to pass a complete \"input_shape\" or \"batch_input_shape\" argument to the first layer in your model."
     ]
    }
   ],
   "source": [
    "\n",
    "#LOO-Validation on each subject\n",
    "subject_list = np.unique(df['subject_id'])\n",
    "y_test_all = []\n",
    "y_pred_all = []\n",
    "y_score_all = []\n",
    "np.random.seed(44)\n",
    "iterations = np.array(list(itertools.combinations(subject_list, 2)))\n",
    "\n",
    "it_index = np.random.choice(iterations.shape[0], replace=False,size=2)\n",
    "\n",
    "selected_model = 'CNN'\n",
    "for i in it_index: # two combination of tested subjects\n",
    "    \n",
    "    subject = iterations[i]\n",
    "    print(\"==================\")\n",
    "    print('Model tested on subjects with no : ', subject)\n",
    "    df_training = df[np.logical_and(df['subject_id']!=subject[0],df['subject_id']!=subject[1] )]\n",
    "    df_test = df[np.logical_or(df['subject_id']==subject[0], df['subject_id']==subject[1] )]\n",
    "    print(\"Test set and training set proportion : \",float(df_test.shape[0])/df_training.shape[0] )\n",
    "    X_test = df_test[df_test.columns[:-3]].values\n",
    "    y_test = df_test['label'].values - 1 \n",
    "    X_training = df_training[df_training.columns[:-3]].values\n",
    "    y_training = df_training['label'].values - 1 \n",
    "#     X_training, y_training = shuffle(X_training, y_training, random_state=44)\n",
    "\n",
    "    # Calculate class weight\n",
    "    class_weight = get_class_weights(y_training)\n",
    "\n",
    "    if selected_model == \"RNN\":\n",
    "        model = RNN_classifier(batch_size=3000, n_classes=6, training_iters=300,n_cells=2)\n",
    "        X_test, y_test = model.transform_dataset(X_test, y_test)\n",
    "        X_training, y_training = model.transform_dataset(X_training, y_training)\n",
    "        model.fit(X_training=X_training, y_training= y_training, X_val=X_test, y_val=y_test, verbose=1, transform_data=False)\n",
    "        y_pred = model.predict(X_test, transform_data=False)\n",
    "        y_score = model.predict_proba(X_test, transform_data=False)\n",
    "    else:\n",
    "        if selected_model == \"LogReg\":\n",
    "            model = LogisticRegression(class_weight = class_weight)\n",
    "        elif selected_model == \"SVM\":\n",
    "            model = svm.SVC( class_weight = class_weight, probability=True)\n",
    "        elif selected_model == 'RForest':\n",
    "            model = RandomForestClassifier(max_depth=10, n_estimators=20, class_weight=class_weight)\n",
    "        elif selected_model =='CNN':\n",
    "            model = KerasClassifier(batch_size=100, n_classes=6,model = 'CNN', n_epoch=50)\n",
    "        model.fit(X_training, y_training)\n",
    "        y_pred = model.predict(X_test)\n",
    "        y_score = model.predict_proba(X_test)\n",
    "        \n",
    "    y_score_all.extend(y_score)\n",
    "    y_test_all.extend(list(y_test))\n",
    "    y_pred_all.extend(list(np.argmax(pd.rolling_mean(y_score, 50,min_periods=1), axis=1)))\n",
    "    plt.figure()\n",
    "    plt.plot(pd.rolling_mean( y_score, 50,min_periods=1), \"-\")\n",
    "    plt.xlim([0, 1.5*len(y_score)])\n",
    "    plt.legend(['walking',\n",
    "            'walking upstairs',\n",
    "            'walking downstairs',\n",
    "            'sitting',\n",
    "            'standing',\n",
    "            'laying'], loc='upper_left')\n",
    "    a = np.asarray(y_test).astype(np.int)\n",
    "    y_ticks = np.asarray(['walking',\n",
    "            'walking upstairs',\n",
    "            'walking downstairs',\n",
    "            'sitting',\n",
    "            'standing',\n",
    "            'laying'])[a-1]\n",
    "    plt.plot(y_ticks)\n",
    "    plt.xlim([0, 1.5*len(y_score)])\n",
    "    plt.savefig('Figures/'+str(subject[0])+'_'+str(subject[1])+'.png')"
   ]
  },
  {
   "cell_type": "code",
   "execution_count": 16,
   "metadata": {},
   "outputs": [
    {
     "data": {
      "text/plain": [
       "(28888, 60)"
      ]
     },
     "execution_count": 16,
     "metadata": {},
     "output_type": "execute_result"
    }
   ],
   "source": [
    "X_training.shape"
   ]
  },
  {
   "cell_type": "code",
   "execution_count": 14,
   "metadata": {},
   "outputs": [
    {
     "name": "stdout",
     "output_type": "stream",
     "text": [
      "Confusion matrix, without normalization\n"
     ]
    },
    {
     "data": {
      "image/png": "[encoded data removed]",
      "text/plain": [
       "<matplotlib.figure.Figure at 0x7fdf65b392e8>"
      ]
     },
     "metadata": {},
     "output_type": "display_data"
    },
    {
     "name": "stdout",
     "output_type": "stream",
     "text": [
      "Normalized confusion matrix\n"
     ]
    },
    {
     "data": {
      "image/png": "[encoded data removed]",
      "text/plain": [
       "<matplotlib.figure.Figure at 0x7fdee46faba8>"
      ]
     },
     "metadata": {},
     "output_type": "display_data"
    }
   ],
   "source": [
    "label_dict = {1:'walking',\n",
    "             2:'walking_upstairs',\n",
    "             3:'walking_downstairs',\n",
    "             4:'sitting',\n",
    "             5:'standing',\n",
    "             6:'laying'}\n",
    "class_names = list(label_dict.values())\n",
    "\n",
    "\n",
    "cnf_matrix = confusion_matrix(y_test_all, y_pred_all)\n",
    "np.set_printoptions(precision=2)\n",
    "\n",
    "# Plot non-normalized confusion matrix\n",
    "plt.figure()\n",
    "plot_cm(cnf_matrix, class_names, normalize=False)\n",
    "\n",
    "# Plot normalized confusion matrix\n",
    "plt.figure()\n",
    "plot_cm(cnf_matrix, class_names, normalize=True)\n",
    "# plt.savefig(save_with_name+'.png')\n",
    "plt.show()"
   ]
  },
  {
   "cell_type": "code",
   "execution_count": 15,
   "metadata": {},
   "outputs": [
    {
     "name": "stdout",
     "output_type": "stream",
     "text": [
      "Overall accuracy of the Model 0.6597609561752988\n"
     ]
    }
   ],
   "source": [
    "true_pos = np.diag(cnf_matrix).sum()\n",
    "accuracy = true_pos/float(cnf_matrix.sum())\n",
    "print('Overall accuracy of the Model', accuracy)"
   ]
  },
  {
   "cell_type": "code",
   "execution_count": 16,
   "metadata": {},
   "outputs": [
    {
     "name": "stdout",
     "output_type": "stream",
     "text": [
      "                    precision    recall  f1-score   support\n",
      "\n",
      "           walking       0.75      0.45      0.56       286\n",
      "  walking_upstairs       0.49      0.81      0.61       407\n",
      "walking_downstairs       0.86      0.40      0.54       399\n",
      "           sitting       0.65      1.00      0.78       702\n",
      "          standing       0.85      1.00      0.92       338\n",
      "            laying       0.00      0.00      0.00       378\n",
      "\n",
      "       avg / total       0.60      0.66      0.59      2510\n",
      "\n"
     ]
    },
    {
     "name": "stderr",
     "output_type": "stream",
     "text": [
      "/anaconda/envs/py35/lib/python3.5/site-packages/sklearn/metrics/classification.py:1135: UndefinedMetricWarning: Precision and F-score are ill-defined and being set to 0.0 in labels with no predicted samples.\n",
      "  'precision', 'predicted', average, warn_for)\n"
     ]
    }
   ],
   "source": [
    "from sklearn.metrics import classification_report\n",
    "print(classification_report(y_test_all, y_pred_all,target_names=class_names))"
   ]
  },
  {
   "cell_type": "code",
   "execution_count": 17,
   "metadata": {},
   "outputs": [],
   "source": [
    "def one_hot(y_):\n",
    "    # Function to encode output labels from number indexes \n",
    "    # e.g.: [[5], [0], [3]] --> [[0, 0, 0, 0, 0, 1], [1, 0, 0, 0, 0, 0], [0, 0, 0, 1, 0, 0]]\n",
    "    \n",
    "    y_ = y_.reshape(len(y_))\n",
    "    n_values = 6\n",
    "    return np.eye(n_values)[np.array(y_, dtype=np.int32)]  # Returns FLOATS"
   ]
  },
  {
   "cell_type": "code",
   "execution_count": 18,
   "metadata": {},
   "outputs": [
    {
     "data": {
      "image/png": "[encoded data removed]",
      "text/plain": [
       "<matplotlib.figure.Figure at 0x7fdee466a1d0>"
      ]
     },
     "metadata": {},
     "output_type": "display_data"
    }
   ],
   "source": [
    "auc_roc_plot(one_hot(np.array(y_test_all)), np.array(y_score_all), None)"
   ]
  },
  {
   "cell_type": "markdown",
   "metadata": {},
   "source": [
    "## Statistical Testing of the classifiers"
   ]
  },
  {
   "cell_type": "code",
   "execution_count": null,
   "metadata": {
    "collapsed": true
   },
   "outputs": [],
   "source": [
    "from scipy.stats import ttest_rel"
   ]
  },
  {
   "cell_type": "code",
   "execution_count": null,
   "metadata": {
    "collapsed": true
   },
   "outputs": [],
   "source": [
    "asd = classification_report(y_test_all, y_pred_all,target_names=class_names)"
   ]
  },
  {
   "cell_type": "code",
   "execution_count": null,
   "metadata": {
    "collapsed": true
   },
   "outputs": [],
   "source": [
    "from sklearn.metrics import precision_recall_fscore_support"
   ]
  },
  {
   "cell_type": "code",
   "execution_count": null,
   "metadata": {
    "collapsed": true
   },
   "outputs": [],
   "source": [
    "log_first = [0.71, 0.31, 0.64, 0.87, 0.79, 0.66]\n",
    "svm = [0.64, 0.34, 0.66, 0.89, 0.73, 0.61]\n",
    "log_with_l1 = [0.62, 0.50, 0.68, 0.80, 0.70, 0.69]\n",
    "LSTM = [0.72, 0.64, 0.83, 0.91, 0.82, 0.75]"
   ]
  },
  {
   "cell_type": "code",
   "execution_count": null,
   "metadata": {
    "collapsed": true
   },
   "outputs": [],
   "source": [
    "from __future__ import print_function\n",
    "print(\"LSTM and logistic regression\",ttest_rel( LSTM, log_first))\n",
    "print(\"SVM and logistic regression\",ttest_rel( svm, log_first))\n",
    "print(\"LSTM and SVM regression\",ttest_rel( LSTM, svm))\n",
    "print(\"Regularized logistic regression and logistic regression\",ttest_rel( log_with_l1, log_first))\n",
    "print(\"SVM and regularized logistic regression \",ttest_rel( svm, log_with_l1))\n",
    "print(\"LSTM and  regularized logistic regression \",ttest_rel( LSTM, log_with_l1))"
   ]
  },
  {
   "cell_type": "code",
   "execution_count": null,
   "metadata": {
    "collapsed": true
   },
   "outputs": [],
   "source": []
  }
 ],
 "metadata": {
  "kernelspec": {
   "display_name": "Python 3",
   "language": "python",
   "name": "python3"
  },
  "language_info": {
   "codemirror_mode": {
    "name": "ipython",
    "version": 3
   },
   "file_extension": ".py",
   "mimetype": "text/x-python",
   "name": "python",
   "nbconvert_exporter": "python",
   "pygments_lexer": "ipython3",
   "version": "3.5.4"
  }
 },
 "nbformat": 4,
 "nbformat_minor": 2
}
