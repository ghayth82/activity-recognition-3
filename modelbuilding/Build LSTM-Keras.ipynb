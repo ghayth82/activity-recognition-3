{
 "cells": [
  {
   "cell_type": "code",
   "execution_count": 1,
   "metadata": {},
   "outputs": [
    {
     "name": "stderr",
     "output_type": "stream",
     "text": [
      "/anaconda/envs/py35/lib/python3.5/site-packages/h5py/__init__.py:36: FutureWarning: Conversion of the second argument of issubdtype from `float` to `np.floating` is deprecated. In future, it will be treated as `np.float64 == np.dtype(float).type`.\n",
      "  from ._conv import register_converters as _register_converters\n",
      "Using TensorFlow backend.\n"
     ]
    }
   ],
   "source": [
    "# All Includes\n",
    "\n",
    "import numpy as np\n",
    "import matplotlib\n",
    "import matplotlib.pyplot as plt\n",
    "import tensorflow as tf  # Version 1.0.0 (some previous versions are used in past commits)\n",
    "from sklearn import metrics ,preprocessing\n",
    "import pandas as pd\n",
    "import itertools\n",
    "import os\n",
    "from sklearn.metrics import confusion_matrix\n",
    "\n",
    "\n",
    "import math\n",
    "import keras\n",
    "from keras.models import Sequential\n",
    "from keras.layers import Dense, Dropout, Activation,Flatten\n",
    "from keras.layers import LSTM\n",
    "from sklearn.preprocessing import MinMaxScaler\n",
    "from keras.preprocessing import sequence\n",
    "from sklearn.metrics import mean_squared_error\n",
    "from keras.callbacks import Callback\n",
    "from keras.layers import Conv1D, MaxPooling1D"
   ]
  },
  {
   "cell_type": "code",
   "execution_count": 2,
   "metadata": {
    "collapsed": true
   },
   "outputs": [],
   "source": [
    "# Useful Constants\n",
    "\n",
    "# Those are separate normalised input features for the neural network\n",
    "INPUT_SIGNAL_TYPES = [\n",
    "    'AccX',\n",
    "    'AccY', \n",
    "    'AccZ', \n",
    "    'GyroX',\n",
    "    'GyroY', \n",
    "    'GyroZ'\n",
    "]\n",
    "\n",
    "# Output classes to learn how to classify\n",
    "LABELS = ['walking',\n",
    "        'walking upstairs',\n",
    "        'walking downstairs',\n",
    "        'sitting',\n",
    "        'standing',\n",
    "        'laying']\n",
    "RAW_DATA_PATH = \"../G9_data/snippets/\"\n",
    "SUBJECT_LIST = [  1,   3,   4,   5,   6,   7,   8,   9,  10,  11,  13,\n",
    "        14,  15,  16,  17,  18,  19,  20,  21,  22,  23,  24,\n",
    "        25,  26]\n",
    "seed = 7\n",
    "np.random.seed(seed)"
   ]
  },
  {
   "cell_type": "markdown",
   "metadata": {},
   "source": [
    "## Utility functions for training:\n"
   ]
  },
  {
   "cell_type": "code",
   "execution_count": 12,
   "metadata": {
    "collapsed": true
   },
   "outputs": [],
   "source": [
    "\n",
    "\n",
    "def extract_batch_size(_train, step, batch_size):\n",
    "    # Function to fetch a \"batch_size\" amount of data from \"(X|y)_train\" data. \n",
    "    \n",
    "    shape = list(_train.shape)\n",
    "    shape[0] = batch_size\n",
    "    batch_s = np.empty(shape)\n",
    "\n",
    "    for i in range(batch_size):\n",
    "        # Loop index\n",
    "        index = ((step-1)*batch_size + i) % len(_train)\n",
    "        batch_s[i] = _train[index] \n",
    "\n",
    "    return batch_s\n",
    "\n",
    "\n",
    "def one_hot(y_):\n",
    "    # Function to encode output labels from number indexes \n",
    "    # e.g.: [[5], [0], [3]] --> [[0, 0, 0, 0, 0, 1], [1, 0, 0, 0, 0, 0], [0, 0, 0, 1, 0, 0]]\n",
    "    \n",
    "    y_ = y_.reshape(len(y_))\n",
    "    n_values = 6\n",
    "    return np.eye(n_values)[np.array(y_, dtype=np.int32)]  # Returns FLOATS\n",
    "class TestCallback(Callback):\n",
    "    def __init__(self, test_data):\n",
    "        self.test_data = test_data\n",
    "\n",
    "    def on_epoch_end(self, epoch, logs={}):\n",
    "        x, y = self.test_data\n",
    "        loss, acc = self.model.evaluate(x, y, verbose=0)\n",
    "        print('\\nTesting loss: {}, acc: {}\\n'.format(loss, acc))"
   ]
  },
  {
   "cell_type": "code",
   "execution_count": 4,
   "metadata": {
    "collapsed": true
   },
   "outputs": [],
   "source": [
    "def load_data(Snippet_paths):\n",
    "    X_signals = []\n",
    "    y_signals = []\n",
    "    usecols = INPUT_SIGNAL_TYPES + ['label']\n",
    "    for snippet_path in Snippet_paths:\n",
    "        df = pd.read_csv(snippet_path, usecols=usecols)\n",
    "        y_signals.append(np.array(df['label'][0].reshape(1), dtype=np.int32))\n",
    "        df = df[INPUT_SIGNAL_TYPES]\n",
    "        c = df.values#.reshape(df.shape[0], df.shape[1])\n",
    "        X_signals.append(c)\n",
    "        \n",
    "    return np.asarray(X_signals), np.asarray(y_signals)\n",
    "\n",
    "\n",
    "\n",
    "\n"
   ]
  },
  {
   "cell_type": "code",
   "execution_count": 5,
   "metadata": {
    "collapsed": true
   },
   "outputs": [],
   "source": [
    "subject_no = 17\n",
    "Snippet_paths_train =[]\n",
    "Snippet_paths_test =[]\n",
    "for fol in LABELS:\n",
    "    folder = RAW_DATA_PATH+'/'+fol+'/'  # folder = RAW_DATA_PATH+'/'+fol+'/'\n",
    "    for root,dirs,files in os.walk(folder):\n",
    "        for file_ in files:\n",
    "            if file_.endswith(\".csv\"):\n",
    "                if int(file_.split(\"_\")[0]) != subject_no:\n",
    "                    Snippet_paths_train.append(folder+file_)\n",
    "                elif int(file_.split(\"_\")[0]) == subject_no:\n",
    "                    Snippet_paths_test.append(folder+file_)"
   ]
  },
  {
   "cell_type": "code",
   "execution_count": 6,
   "metadata": {
    "collapsed": true
   },
   "outputs": [],
   "source": [
    "X_train,y_train = load_data(Snippet_paths_train)\n",
    "\n",
    "X_test,y_test = load_data(Snippet_paths_test)\n",
    "\n",
    "y_test = y_test - 1\n",
    "y_train = y_train - 1"
   ]
  },
  {
   "cell_type": "code",
   "execution_count": 8,
   "metadata": {},
   "outputs": [
    {
     "data": {
      "text/plain": [
       "(23989, 128, 6)"
      ]
     },
     "execution_count": 8,
     "metadata": {},
     "output_type": "execute_result"
    }
   ],
   "source": [
    "X_train_padded.shape"
   ]
  },
  {
   "cell_type": "code",
   "execution_count": 12,
   "metadata": {
    "collapsed": true
   },
   "outputs": [],
   "source": [
    "X_train_padded = keras.preprocessing.sequence.pad_sequences(X_train, maxlen=128, dtype='float64',\n",
    "    padding='pre', truncating='pre', value=0.)\n",
    "X_test_padded = keras.preprocessing.sequence.pad_sequences(X_test, maxlen=128, dtype='float64',\n",
    "    padding='pre', truncating='pre', value=0.)"
   ]
  },
  {
   "cell_type": "code",
   "execution_count": 12,
   "metadata": {
    "collapsed": true
   },
   "outputs": [],
   "source": [
    "# Scaling\n",
    "X_train_2d = X_train_padded.transpose(2,0,1).reshape(6,-1).transpose()\n",
    "X_test_2d = X_test_padded.transpose(2,0,1).reshape(6,-1).transpose()\n",
    "# normalize the dataset\n",
    "scaler = MinMaxScaler(feature_range=(0, 1))\n",
    "scaler = scaler.fit(X_train_2d)\n",
    "X_train_scaled =  np.array([scaler.transform(X_train_padded[i,:,:]) for i in range(X_train_padded.shape[0])])\n",
    "X_test_scaled  =  np.array([scaler.transform(X_test_padded[i,:,:]) for i in range(X_test_padded.shape[0])])"
   ]
  },
  {
   "cell_type": "code",
   "execution_count": 9,
   "metadata": {
    "collapsed": true
   },
   "outputs": [],
   "source": [
    "X_loaded = np.load(\"../X.npy\")\n",
    "y_loaded = np.load(\"../y.npy\")"
   ]
  },
  {
   "cell_type": "code",
   "execution_count": 13,
   "metadata": {
    "collapsed": true
   },
   "outputs": [],
   "source": [
    "# Scaling\n",
    "scaler = preprocessing.StandardScaler(copy=True, with_mean=True, with_std=True).fit(X_train_2d)\n",
    "X_train_scaled =  np.array([scaler.transform(X_train_padded[i,:,:]) for i in range(X_train_padded.shape[0])])\n",
    "X_test_scaled  =  np.array([scaler.transform(X_test_padded[i,:,:]) for i in range(X_test_padded.shape[0])])\n"
   ]
  },
  {
   "cell_type": "code",
   "execution_count": 14,
   "metadata": {
    "collapsed": true
   },
   "outputs": [],
   "source": [
    "X_train_used = np.concatenate([X_train_scaled, X_loaded])\n",
    "y_train_used = np.concatenate([y_train, y_loaded])\n",
    "X_test_used = X_test_scaled"
   ]
  },
  {
   "cell_type": "code",
   "execution_count": 13,
   "metadata": {
    "collapsed": true
   },
   "outputs": [],
   "source": [
    "X_train_used = X_train_padded[:,:,0]\n",
    "X_test_used = X_test_padded[:,:,0]"
   ]
  },
  {
   "cell_type": "code",
   "execution_count": 14,
   "metadata": {},
   "outputs": [
    {
     "data": {
      "text/plain": [
       "((23989, 128), (23989, 1), (1039, 128), (1039, 1))"
      ]
     },
     "execution_count": 14,
     "metadata": {},
     "output_type": "execute_result"
    }
   ],
   "source": [
    "X_train_used.shape, y_train.shape, X_test_used.shape, y_test.shape"
   ]
  },
  {
   "cell_type": "code",
   "execution_count": 15,
   "metadata": {},
   "outputs": [
    {
     "data": {
      "text/plain": [
       "(array([0, 1, 2, 3, 4, 5], dtype=int32), array([145,  75,  72, 374, 183, 190]))"
      ]
     },
     "execution_count": 15,
     "metadata": {},
     "output_type": "execute_result"
    }
   ],
   "source": [
    "np.unique(y_test, return_counts=True)"
   ]
  },
  {
   "cell_type": "markdown",
   "metadata": {},
   "source": [
    "## Additionnal Parameters:\n",
    "\n",
    "Here are some core parameter definitions for the training. \n",
    "\n",
    "The whole neural network's structure could be summarised by enumerating those parameters and the fact an LSTM is used. "
   ]
  },
  {
   "cell_type": "code",
   "execution_count": 7,
   "metadata": {},
   "outputs": [
    {
     "name": "stdout",
     "output_type": "stream",
     "text": [
      "Some useful info to get an insight on dataset's shape and normalisation:\n",
      "(X test shape, y test shape, every X's mean, every X's standard deviation)\n",
      "(100, 128, 1) (100, 1) 0.49970266846807626 0.2907379356536168\n",
      "The dataset is therefore properly normalised, as expected, but not yet one-hot encoded.\n"
     ]
    }
   ],
   "source": [
    "# Input Data \n",
    "\n",
    "training_data_count = len(X_train_used)  # 7352 training series (with 50% overlap between each serie)\n",
    "test_data_count = len(X_test_used)  # 2947 testing series\n",
    " \n",
    "timesteps = len(X_train_used[0]) # 128 timesteps per series\n",
    "# input_dim = len(X_train_used[0][0]) # 6 input parameters per timestep\n",
    "\n",
    "# LSTM Neural Network's internal structure\n",
    "\n",
    "n_hidden = 32 # Hidden layer num of features\n",
    "n_classes = 6 # Total classes (should go up, or should go down)\n",
    "\n",
    "\n",
    "# Training \n",
    "\n",
    "learning_rate = 0.0025\n",
    "lambda_loss_amount = 0.0015\n",
    "training_iters = training_data_count * 300\n",
    "# Loop 300 times on the dataset\n",
    "batch_size = 1500\n",
    "display_iter = 30000  # To show test set accuracy during training\n",
    "\n",
    "\n",
    "# Some debugging info\n",
    "\n",
    "print(\"Some useful info to get an insight on dataset's shape and normalisation:\")\n",
    "print(\"(X test shape, y test shape, every X's mean, every X's standard deviation)\")\n",
    "print(X_test_used.shape, y_test.shape, np.mean(X_test_used), np.std(X_test_used))\n",
    "print(\"The dataset is therefore properly normalised, as expected, but not yet one-hot encoded.\")"
   ]
  },
  {
   "cell_type": "code",
   "execution_count": 29,
   "metadata": {
    "collapsed": true
   },
   "outputs": [
    {
     "name": "stdout",
     "output_type": "stream",
     "text": [
      "Train on 34288 samples, validate on 1039 samples\n",
      "Epoch 1/100\n",
      "34288/34288 [==============================] - 11s 329us/step - loss: 1.6838 - acc: 0.3148 - val_loss: 1.4304 - val_acc: 0.5650\n",
      "Epoch 2/100\n",
      "34288/34288 [==============================] - 10s 302us/step - loss: 1.4581 - acc: 0.3835 - val_loss: 1.2749 - val_acc: 0.5833\n",
      "Epoch 3/100\n",
      "34288/34288 [==============================] - 11s 313us/step - loss: 1.3544 - acc: 0.4122 - val_loss: 1.1961 - val_acc: 0.6439\n",
      "Epoch 4/100\n",
      "34288/34288 [==============================] - 11s 313us/step - loss: 1.3128 - acc: 0.4317 - val_loss: 1.1721 - val_acc: 0.6343\n",
      "Epoch 5/100\n",
      "34288/34288 [==============================] - 10s 303us/step - loss: 1.2743 - acc: 0.4591 - val_loss: 1.1293 - val_acc: 0.6574\n",
      "Epoch 6/100\n",
      "34288/34288 [==============================] - 11s 308us/step - loss: 1.2482 - acc: 0.4791 - val_loss: 1.0784 - val_acc: 0.6882\n",
      "Epoch 7/100\n",
      "34288/34288 [==============================] - 11s 307us/step - loss: 1.2232 - acc: 0.4957 - val_loss: 1.0171 - val_acc: 0.7517\n",
      "Epoch 8/100\n",
      "34288/34288 [==============================] - 11s 312us/step - loss: 1.1942 - acc: 0.5125 - val_loss: 1.0002 - val_acc: 0.7613\n",
      "Epoch 9/100\n",
      "34288/34288 [==============================] - 11s 318us/step - loss: 1.1662 - acc: 0.5313 - val_loss: 0.9327 - val_acc: 0.7575\n",
      "Epoch 10/100\n",
      "34288/34288 [==============================] - 10s 299us/step - loss: 1.1386 - acc: 0.5448 - val_loss: 0.9372 - val_acc: 0.7507\n",
      "Epoch 11/100\n",
      "34288/34288 [==============================] - 10s 304us/step - loss: 1.1108 - acc: 0.5504 - val_loss: 0.8755 - val_acc: 0.7469\n",
      "Epoch 12/100\n",
      "34288/34288 [==============================] - 11s 322us/step - loss: 1.0789 - acc: 0.5643 - val_loss: 0.8322 - val_acc: 0.7440\n",
      "Epoch 13/100\n",
      "34288/34288 [==============================] - 11s 318us/step - loss: 1.0438 - acc: 0.5839 - val_loss: 0.8246 - val_acc: 0.7430\n",
      "Epoch 14/100\n",
      "34288/34288 [==============================] - 11s 307us/step - loss: 1.0245 - acc: 0.5958 - val_loss: 0.7813 - val_acc: 0.7546\n",
      "Epoch 15/100\n",
      "34288/34288 [==============================] - 10s 300us/step - loss: 0.9910 - acc: 0.6129 - val_loss: 0.7840 - val_acc: 0.6583\n",
      "Epoch 16/100\n",
      "34288/34288 [==============================] - 10s 302us/step - loss: 0.9702 - acc: 0.6254 - val_loss: 0.7291 - val_acc: 0.7680\n",
      "Epoch 17/100\n",
      "34288/34288 [==============================] - 11s 310us/step - loss: 0.9433 - acc: 0.6298 - val_loss: 0.7254 - val_acc: 0.7632\n",
      "Epoch 18/100\n",
      "34288/34288 [==============================] - 11s 313us/step - loss: 0.9367 - acc: 0.6348 - val_loss: 0.7329 - val_acc: 0.6939\n",
      "Epoch 19/100\n",
      "34288/34288 [==============================] - 10s 299us/step - loss: 0.9148 - acc: 0.6407 - val_loss: 0.6886 - val_acc: 0.7594\n",
      "Epoch 20/100\n",
      "34288/34288 [==============================] - 10s 306us/step - loss: 0.9137 - acc: 0.6431 - val_loss: 0.6574 - val_acc: 0.7757\n",
      "Epoch 21/100\n",
      "34288/34288 [==============================] - 10s 299us/step - loss: 0.8998 - acc: 0.6427 - val_loss: 0.7026 - val_acc: 0.7180\n",
      "Epoch 22/100\n",
      "34288/34288 [==============================] - 11s 313us/step - loss: 0.8956 - acc: 0.6443 - val_loss: 0.8161 - val_acc: 0.7007\n",
      "Epoch 23/100\n",
      "34288/34288 [==============================] - 10s 300us/step - loss: 0.8921 - acc: 0.6424 - val_loss: 0.6883 - val_acc: 0.7594\n",
      "Epoch 24/100\n",
      "34288/34288 [==============================] - 10s 293us/step - loss: 0.8758 - acc: 0.6494 - val_loss: 0.6380 - val_acc: 0.7700\n",
      "Epoch 25/100\n",
      "34288/34288 [==============================] - 11s 308us/step - loss: 0.8645 - acc: 0.6515 - val_loss: 0.6876 - val_acc: 0.7767\n",
      "Epoch 26/100\n",
      "34288/34288 [==============================] - 11s 308us/step - loss: 0.8643 - acc: 0.6457 - val_loss: 0.6825 - val_acc: 0.7555\n",
      "Epoch 27/100\n",
      "34288/34288 [==============================] - 10s 306us/step - loss: 0.8525 - acc: 0.6509 - val_loss: 0.6440 - val_acc: 0.7642\n",
      "Epoch 28/100\n",
      "34288/34288 [==============================] - 11s 321us/step - loss: 0.8444 - acc: 0.6528 - val_loss: 0.8400 - val_acc: 0.6920\n",
      "Epoch 29/100\n",
      "34288/34288 [==============================] - 11s 307us/step - loss: 0.8388 - acc: 0.6559 - val_loss: 0.6430 - val_acc: 0.7652\n",
      "Epoch 30/100\n",
      "34288/34288 [==============================] - 11s 307us/step - loss: 0.8251 - acc: 0.6557 - val_loss: 0.6409 - val_acc: 0.7594\n",
      "Epoch 31/100\n",
      "34288/34288 [==============================] - 10s 301us/step - loss: 0.8247 - acc: 0.6524 - val_loss: 0.6238 - val_acc: 0.7642\n",
      "Epoch 32/100\n",
      "34288/34288 [==============================] - 11s 307us/step - loss: 0.8145 - acc: 0.6569 - val_loss: 0.6243 - val_acc: 0.7738\n",
      "Epoch 33/100\n",
      "34288/34288 [==============================] - 11s 309us/step - loss: 0.8209 - acc: 0.6556 - val_loss: 0.6310 - val_acc: 0.7671\n",
      "Epoch 34/100\n",
      "34288/34288 [==============================] - 11s 307us/step - loss: 0.8125 - acc: 0.6581 - val_loss: 0.6522 - val_acc: 0.7526\n",
      "Epoch 35/100\n",
      "34288/34288 [==============================] - 10s 304us/step - loss: 0.8123 - acc: 0.6510 - val_loss: 0.6605 - val_acc: 0.7324\n",
      "Epoch 36/100\n",
      "34288/34288 [==============================] - 11s 314us/step - loss: 0.8036 - acc: 0.6549 - val_loss: 0.6440 - val_acc: 0.7700\n",
      "Epoch 37/100\n",
      "34288/34288 [==============================] - 11s 310us/step - loss: 0.7959 - acc: 0.6579 - val_loss: 0.6098 - val_acc: 0.7854\n",
      "Epoch 38/100\n",
      "34288/34288 [==============================] - 10s 304us/step - loss: 0.7946 - acc: 0.6573 - val_loss: 0.6228 - val_acc: 0.7844\n",
      "Epoch 39/100\n",
      "34288/34288 [==============================] - 11s 310us/step - loss: 0.7906 - acc: 0.6586 - val_loss: 0.6130 - val_acc: 0.7844\n",
      "Epoch 40/100\n",
      "34288/34288 [==============================] - 11s 315us/step - loss: 0.7839 - acc: 0.6627 - val_loss: 0.6085 - val_acc: 0.7834\n",
      "Epoch 41/100\n",
      "34288/34288 [==============================] - 10s 300us/step - loss: 0.7803 - acc: 0.6619 - val_loss: 0.6490 - val_acc: 0.7218\n",
      "Epoch 42/100\n",
      "34288/34288 [==============================] - 10s 292us/step - loss: 0.7829 - acc: 0.6624 - val_loss: 0.6160 - val_acc: 0.7863\n",
      "Epoch 43/100\n",
      "34288/34288 [==============================] - 11s 309us/step - loss: 0.7718 - acc: 0.6638 - val_loss: 0.5932 - val_acc: 0.7844\n",
      "Epoch 44/100\n",
      "34288/34288 [==============================] - 10s 300us/step - loss: 0.7750 - acc: 0.6630 - val_loss: 0.6748 - val_acc: 0.7401\n",
      "Epoch 45/100\n",
      "34288/34288 [==============================] - 11s 308us/step - loss: 0.7733 - acc: 0.6650 - val_loss: 0.5986 - val_acc: 0.7786\n",
      "Epoch 46/100\n",
      "34288/34288 [==============================] - 10s 302us/step - loss: 0.7750 - acc: 0.6652 - val_loss: 0.6142 - val_acc: 0.7777\n",
      "Epoch 47/100\n",
      "34288/34288 [==============================] - 11s 317us/step - loss: 0.7671 - acc: 0.6668 - val_loss: 0.6269 - val_acc: 0.7806\n",
      "Epoch 48/100\n",
      "34288/34288 [==============================] - 11s 313us/step - loss: 0.7669 - acc: 0.6689 - val_loss: 0.6056 - val_acc: 0.7796\n",
      "Epoch 49/100\n",
      "34288/34288 [==============================] - 11s 309us/step - loss: 0.7548 - acc: 0.6709 - val_loss: 0.6055 - val_acc: 0.7719\n",
      "Epoch 50/100\n",
      "34288/34288 [==============================] - 11s 312us/step - loss: 0.7781 - acc: 0.6658 - val_loss: 0.5866 - val_acc: 0.7729\n",
      "Epoch 51/100\n",
      "34288/34288 [==============================] - 10s 305us/step - loss: 0.7546 - acc: 0.6736 - val_loss: 0.6569 - val_acc: 0.6843\n",
      "Epoch 52/100\n",
      "34288/34288 [==============================] - 10s 304us/step - loss: 0.7552 - acc: 0.6727 - val_loss: 0.6230 - val_acc: 0.7757\n",
      "Epoch 53/100\n",
      "34288/34288 [==============================] - 10s 303us/step - loss: 0.7538 - acc: 0.6728 - val_loss: 0.6235 - val_acc: 0.7603\n",
      "Epoch 54/100\n",
      "34288/34288 [==============================] - 10s 299us/step - loss: 0.7461 - acc: 0.6742 - val_loss: 0.6046 - val_acc: 0.7854\n",
      "Epoch 55/100\n",
      "34288/34288 [==============================] - 11s 315us/step - loss: 0.7526 - acc: 0.6706 - val_loss: 0.5872 - val_acc: 0.7883\n",
      "Epoch 56/100\n",
      "34288/34288 [==============================] - 11s 321us/step - loss: 0.7558 - acc: 0.6683 - val_loss: 0.6138 - val_acc: 0.7613\n",
      "Epoch 57/100\n",
      "34288/34288 [==============================] - 10s 303us/step - loss: 0.7444 - acc: 0.6761 - val_loss: 0.6366 - val_acc: 0.7517\n",
      "Epoch 58/100\n",
      "34288/34288 [==============================] - 10s 305us/step - loss: 0.7419 - acc: 0.6803 - val_loss: 0.6397 - val_acc: 0.7421\n"
     ]
    },
    {
     "name": "stdout",
     "output_type": "stream",
     "text": [
      "Epoch 59/100\n",
      "34288/34288 [==============================] - 10s 302us/step - loss: 0.7452 - acc: 0.6767 - val_loss: 0.5893 - val_acc: 0.7469\n",
      "Epoch 60/100\n",
      "34288/34288 [==============================] - 11s 317us/step - loss: 0.7395 - acc: 0.6809 - val_loss: 0.5873 - val_acc: 0.7536\n",
      "Epoch 61/100\n",
      "34288/34288 [==============================] - 11s 306us/step - loss: 0.7424 - acc: 0.6798 - val_loss: 0.6113 - val_acc: 0.7517\n",
      "Epoch 62/100\n",
      "34288/34288 [==============================] - 10s 301us/step - loss: 0.7302 - acc: 0.6830 - val_loss: 0.6739 - val_acc: 0.6853\n",
      "Epoch 63/100\n",
      "34288/34288 [==============================] - 10s 306us/step - loss: 0.7334 - acc: 0.6873 - val_loss: 0.6701 - val_acc: 0.7113\n",
      "Epoch 64/100\n",
      "34288/34288 [==============================] - 11s 308us/step - loss: 0.7311 - acc: 0.6840 - val_loss: 0.6293 - val_acc: 0.7526\n",
      "Epoch 65/100\n",
      "34288/34288 [==============================] - 11s 310us/step - loss: 0.7226 - acc: 0.6880 - val_loss: 0.6431 - val_acc: 0.7392\n",
      "Epoch 66/100\n",
      "34288/34288 [==============================] - 11s 309us/step - loss: 0.7270 - acc: 0.6920 - val_loss: 0.6927 - val_acc: 0.7045\n",
      "Epoch 67/100\n",
      "34288/34288 [==============================] - 10s 304us/step - loss: 0.7251 - acc: 0.6912 - val_loss: 0.6127 - val_acc: 0.7517\n",
      "Epoch 68/100\n",
      "34288/34288 [==============================] - 10s 298us/step - loss: 0.7198 - acc: 0.6900 - val_loss: 0.7041 - val_acc: 0.7016\n",
      "Epoch 69/100\n",
      "34288/34288 [==============================] - 11s 306us/step - loss: 0.7201 - acc: 0.6934 - val_loss: 0.6491 - val_acc: 0.7334\n",
      "Epoch 70/100\n",
      "34288/34288 [==============================] - 11s 311us/step - loss: 0.7171 - acc: 0.6930 - val_loss: 1.0038 - val_acc: 0.6526\n",
      "Epoch 71/100\n",
      "34288/34288 [==============================] - 10s 305us/step - loss: 0.7135 - acc: 0.6959 - val_loss: 0.7820 - val_acc: 0.6930\n",
      "Epoch 72/100\n",
      "34288/34288 [==============================] - 10s 299us/step - loss: 0.7158 - acc: 0.6997 - val_loss: 0.6484 - val_acc: 0.7440\n",
      "Epoch 73/100\n",
      "34288/34288 [==============================] - 11s 307us/step - loss: 0.7080 - acc: 0.7010 - val_loss: 0.7326 - val_acc: 0.6843\n",
      "Epoch 74/100\n",
      "34288/34288 [==============================] - 11s 312us/step - loss: 0.7116 - acc: 0.7021 - val_loss: 0.8296 - val_acc: 0.6785\n",
      "Epoch 75/100\n",
      "34288/34288 [==============================] - 10s 299us/step - loss: 0.7042 - acc: 0.7042 - val_loss: 0.7675 - val_acc: 0.6795\n",
      "Epoch 76/100\n",
      "34288/34288 [==============================] - 11s 314us/step - loss: 0.7054 - acc: 0.7046 - val_loss: 0.7338 - val_acc: 0.7007\n",
      "Epoch 77/100\n",
      "34288/34288 [==============================] - 11s 315us/step - loss: 0.7041 - acc: 0.7067 - val_loss: 0.6350 - val_acc: 0.7401\n",
      "Epoch 78/100\n",
      "34288/34288 [==============================] - 11s 308us/step - loss: 0.6975 - acc: 0.7103 - val_loss: 0.7544 - val_acc: 0.6872\n",
      "Epoch 79/100\n",
      "34288/34288 [==============================] - 10s 303us/step - loss: 0.6992 - acc: 0.7091 - val_loss: 0.7795 - val_acc: 0.6795\n",
      "Epoch 80/100\n",
      "34288/34288 [==============================] - 11s 306us/step - loss: 0.6938 - acc: 0.7150 - val_loss: 0.7457 - val_acc: 0.6795\n",
      "Epoch 81/100\n",
      "34288/34288 [==============================] - 11s 309us/step - loss: 0.6948 - acc: 0.7140 - val_loss: 0.6646 - val_acc: 0.7305\n",
      "Epoch 82/100\n",
      "34288/34288 [==============================] - 10s 305us/step - loss: 0.6881 - acc: 0.7180 - val_loss: 0.8027 - val_acc: 0.6814\n",
      "Epoch 83/100\n",
      "34288/34288 [==============================] - 11s 314us/step - loss: 0.6814 - acc: 0.7199 - val_loss: 0.8323 - val_acc: 0.6814\n",
      "Epoch 84/100\n",
      "34288/34288 [==============================] - 10s 298us/step - loss: 0.6822 - acc: 0.7202 - val_loss: 0.6096 - val_acc: 0.7632\n",
      "Epoch 85/100\n",
      "34288/34288 [==============================] - 10s 300us/step - loss: 0.6850 - acc: 0.7209 - val_loss: 0.7678 - val_acc: 0.6833\n",
      "Epoch 86/100\n",
      "34288/34288 [==============================] - 10s 300us/step - loss: 0.6846 - acc: 0.7225 - val_loss: 0.7245 - val_acc: 0.7074\n",
      "Epoch 87/100\n",
      "34288/34288 [==============================] - 11s 307us/step - loss: 0.6855 - acc: 0.7209 - val_loss: 0.7425 - val_acc: 0.6920\n",
      "Epoch 88/100\n",
      "34288/34288 [==============================] - 10s 304us/step - loss: 0.6844 - acc: 0.7196 - val_loss: 0.6851 - val_acc: 0.7247\n",
      "Epoch 89/100\n",
      "34288/34288 [==============================] - 10s 300us/step - loss: 0.6915 - acc: 0.7212 - val_loss: 0.7826 - val_acc: 0.6795\n",
      "Epoch 90/100\n",
      "34288/34288 [==============================] - 11s 309us/step - loss: 0.6789 - acc: 0.7224 - val_loss: 0.6793 - val_acc: 0.7238\n",
      "Epoch 91/100\n",
      "34288/34288 [==============================] - 10s 294us/step - loss: 0.6699 - acc: 0.7333 - val_loss: 0.6901 - val_acc: 0.7180\n",
      "Epoch 92/100\n",
      "34288/34288 [==============================] - 10s 301us/step - loss: 0.6630 - acc: 0.7334 - val_loss: 0.6746 - val_acc: 0.7276\n",
      "Epoch 93/100\n",
      "34288/34288 [==============================] - 10s 303us/step - loss: 0.6686 - acc: 0.7318 - val_loss: 0.6245 - val_acc: 0.7594\n",
      "Epoch 94/100\n",
      "34288/34288 [==============================] - 10s 304us/step - loss: 0.6651 - acc: 0.7315 - val_loss: 0.6832 - val_acc: 0.7401\n",
      "Epoch 95/100\n",
      "34288/34288 [==============================] - 10s 303us/step - loss: 0.6506 - acc: 0.7397 - val_loss: 0.7820 - val_acc: 0.7055\n",
      "Epoch 96/100\n",
      "34288/34288 [==============================] - 10s 300us/step - loss: 0.6607 - acc: 0.7350 - val_loss: 0.7475 - val_acc: 0.7007\n",
      "Epoch 97/100\n",
      "34288/34288 [==============================] - 11s 315us/step - loss: 0.6531 - acc: 0.7385 - val_loss: 0.7265 - val_acc: 0.7026\n",
      "Epoch 98/100\n",
      "34288/34288 [==============================] - 11s 318us/step - loss: 0.6627 - acc: 0.7391 - val_loss: 0.7073 - val_acc: 0.7170\n",
      "Epoch 99/100\n",
      "34288/34288 [==============================] - 11s 307us/step - loss: 0.6474 - acc: 0.7442 - val_loss: 0.6798 - val_acc: 0.7170\n",
      "Epoch 100/100\n",
      "34288/34288 [==============================] - 11s 321us/step - loss: 0.6485 - acc: 0.7434 - val_loss: 0.6556 - val_acc: 0.7652\n",
      "[[ 68  13  21  30  12   1]\n",
      " [ 41  24   8   0   2   0]\n",
      " [ 24  19  19   6   1   3]\n",
      " [  1   0   3 340   6  24]\n",
      " [  7   0   2   9 163   2]\n",
      " [  1   0   0   8   0 181]]\n"
     ]
    }
   ],
   "source": [
    "\n",
    "\n",
    "model = Sequential()\n",
    "model.add(LSTM(32, return_sequences=True, input_shape=(timesteps, input_dim)))\n",
    "model.add(LSTM(32))\n",
    "model.add(Dropout(0.7))\n",
    "model.add(Dense(n_classes, activation='sigmoid'))\n",
    "\n",
    "model.compile(loss='categorical_crossentropy',\n",
    "              optimizer='rmsprop',\n",
    "              metrics=['accuracy'])\n",
    "\n",
    "history =model.fit(X_train_used,\n",
    "          one_hot(y_train_used),\n",
    "          batch_size=batch_size,\n",
    "          validation_data=(X_test_used, one_hot(y_test)),\n",
    "          epochs=100)\n",
    "\n",
    "\n",
    "# Evaluate\n",
    "predictions = model.predict(X_test_used).argmax(1)\n",
    "\n",
    "from sklearn.metrics import confusion_matrix\n",
    "print(confusion_matrix(y_test, predictions))\n"
   ]
  },
  {
   "cell_type": "code",
   "execution_count": 17,
   "metadata": {
    "collapsed": true
   },
   "outputs": [],
   "source": [
    "X_train_used = X_train_used.reshape(X_train_used.shape[0],X_train_used.shape[1],1 )\n",
    "X_test_used = X_test_used.reshape(X_test_used.shape[0],X_test_used.shape[1],1 )"
   ]
  },
  {
   "cell_type": "code",
   "execution_count": 8,
   "metadata": {},
   "outputs": [
    {
     "data": {
      "text/plain": [
       "128"
      ]
     },
     "execution_count": 8,
     "metadata": {},
     "output_type": "execute_result"
    }
   ],
   "source": [
    "timesteps"
   ]
  },
  {
   "cell_type": "code",
   "execution_count": 20,
   "metadata": {},
   "outputs": [
    {
     "name": "stdout",
     "output_type": "stream",
     "text": [
      "(X train shape, y train shape,X test shape, y test shape)\n",
      "(10000, 128, 1) (10000, 1) (100, 128, 1) (100, 1)\n"
     ]
    }
   ],
   "source": [
    "X_train_used = np.random.random((10000,128,1))\n",
    "y_train = np.random.randint(low = 0,high=5, size=(10000, 1))\n",
    "X_test_used = np.random.random((100,128,1))\n",
    "y_test =  np.random.randint(low = 0,high=5, size=(100, 1))\n",
    "print(\"(X train shape, y train shape,X test shape, y test shape)\")\n",
    "print(X_train_used.shape, y_train.shape,X_test_used.shape, y_test.shape)"
   ]
  },
  {
   "cell_type": "code",
   "execution_count": 22,
   "metadata": {
    "collapsed": true
   },
   "outputs": [],
   "source": [
    "np.save('X_train.npy', X_train_used)\n",
    "np.save('y_train.npy', y_train)"
   ]
  },
  {
   "cell_type": "code",
   "execution_count": 23,
   "metadata": {},
   "outputs": [],
   "source": [
    "model = Sequential()\n",
    "model.add(Conv1D(64,\n",
    "                 5,\n",
    "                 input_shape=(timesteps,1),\n",
    "                 padding='valid',\n",
    "                 activation='relu',\n",
    "                 strides=1))\n",
    "model.add(MaxPooling1D(pool_size=3))\n",
    "model.add(Conv1D(128,\n",
    "                 3,\n",
    "                 input_shape=(timesteps,1),\n",
    "                 padding='valid',\n",
    "                 activation='relu',\n",
    "                 strides=1))\n",
    "model.add(MaxPooling1D(pool_size=3))\n",
    "model.add(LSTM(32, return_sequences=True))\n",
    "model.add(LSTM(32))\n",
    "model.add(Dense(n_classes, activation='sigmoid'))"
   ]
  },
  {
   "cell_type": "code",
   "execution_count": 24,
   "metadata": {},
   "outputs": [
    {
     "name": "stdout",
     "output_type": "stream",
     "text": [
      "_________________________________________________________________\n",
      "Layer (type)                 Output Shape              Param #   \n",
      "=================================================================\n",
      "conv1d_3 (Conv1D)            (None, 124, 64)           384       \n",
      "_________________________________________________________________\n",
      "max_pooling1d_3 (MaxPooling1 (None, 41, 64)            0         \n",
      "_________________________________________________________________\n",
      "conv1d_4 (Conv1D)            (None, 39, 128)           24704     \n",
      "_________________________________________________________________\n",
      "max_pooling1d_4 (MaxPooling1 (None, 13, 128)           0         \n",
      "_________________________________________________________________\n",
      "lstm_3 (LSTM)                (None, 13, 32)            20608     \n",
      "_________________________________________________________________\n",
      "lstm_4 (LSTM)                (None, 32)                8320      \n",
      "_________________________________________________________________\n",
      "dense_2 (Dense)              (None, 6)                 198       \n",
      "=================================================================\n",
      "Total params: 54,214\n",
      "Trainable params: 54,214\n",
      "Non-trainable params: 0\n",
      "_________________________________________________________________\n"
     ]
    }
   ],
   "source": [
    "model.summary()"
   ]
  },
  {
   "cell_type": "code",
   "execution_count": 25,
   "metadata": {},
   "outputs": [
    {
     "name": "stdout",
     "output_type": "stream",
     "text": [
      "Train on 10000 samples, validate on 100 samples\n",
      "Epoch 1/100\n",
      "10000/10000 [==============================] - 1s 131us/step - loss: 1.7201 - acc: 0.2000 - val_loss: 1.6310 - val_acc: 0.2500\n",
      "Epoch 2/100\n",
      "10000/10000 [==============================] - 0s 44us/step - loss: 1.6253 - acc: 0.1945 - val_loss: 1.6158 - val_acc: 0.2500\n",
      "Epoch 3/100\n",
      "10000/10000 [==============================] - 0s 46us/step - loss: 1.6168 - acc: 0.1907 - val_loss: 1.6199 - val_acc: 0.1900\n",
      "Epoch 4/100\n",
      "10000/10000 [==============================] - 0s 46us/step - loss: 1.6141 - acc: 0.1971 - val_loss: 1.6117 - val_acc: 0.1900\n",
      "Epoch 5/100\n",
      "10000/10000 [==============================] - 0s 49us/step - loss: 1.6127 - acc: 0.2031 - val_loss: 1.6188 - val_acc: 0.1800\n",
      "Epoch 6/100\n",
      "10000/10000 [==============================] - 0s 46us/step - loss: 1.6122 - acc: 0.1943 - val_loss: 1.6115 - val_acc: 0.1900\n",
      "Epoch 7/100\n",
      "10000/10000 [==============================] - 0s 44us/step - loss: 1.6119 - acc: 0.1943 - val_loss: 1.6125 - val_acc: 0.1900\n",
      "Epoch 8/100\n",
      "10000/10000 [==============================] - 0s 45us/step - loss: 1.6110 - acc: 0.2030 - val_loss: 1.6075 - val_acc: 0.2500\n",
      "Epoch 9/100\n",
      "10000/10000 [==============================] - 0s 44us/step - loss: 1.6114 - acc: 0.1969 - val_loss: 1.6089 - val_acc: 0.1900\n",
      "Epoch 10/100\n",
      "10000/10000 [==============================] - 0s 44us/step - loss: 1.6108 - acc: 0.1958 - val_loss: 1.6125 - val_acc: 0.1900\n",
      "Epoch 11/100\n",
      "10000/10000 [==============================] - 0s 43us/step - loss: 1.6108 - acc: 0.1904 - val_loss: 1.6118 - val_acc: 0.1900\n",
      "Epoch 12/100\n",
      "10000/10000 [==============================] - 0s 44us/step - loss: 1.6107 - acc: 0.1942 - val_loss: 1.6110 - val_acc: 0.1800\n",
      "Epoch 13/100\n",
      "10000/10000 [==============================] - 0s 45us/step - loss: 1.6103 - acc: 0.1948 - val_loss: 1.6070 - val_acc: 0.2500\n",
      "Epoch 14/100\n",
      "10000/10000 [==============================] - 0s 43us/step - loss: 1.6101 - acc: 0.2042 - val_loss: 1.6126 - val_acc: 0.1700\n",
      "Epoch 15/100\n",
      "10000/10000 [==============================] - 0s 44us/step - loss: 1.6101 - acc: 0.1998 - val_loss: 1.6095 - val_acc: 0.1900\n",
      "Epoch 16/100\n",
      "10000/10000 [==============================] - 0s 45us/step - loss: 1.6105 - acc: 0.2000 - val_loss: 1.6104 - val_acc: 0.1900\n",
      "Epoch 17/100\n",
      "10000/10000 [==============================] - 0s 44us/step - loss: 1.6101 - acc: 0.2024 - val_loss: 1.6127 - val_acc: 0.1800\n",
      "Epoch 18/100\n",
      "10000/10000 [==============================] - 0s 48us/step - loss: 1.6102 - acc: 0.1891 - val_loss: 1.6108 - val_acc: 0.1900\n",
      "Epoch 19/100\n",
      "10000/10000 [==============================] - 0s 50us/step - loss: 1.6101 - acc: 0.2023 - val_loss: 1.6096 - val_acc: 0.2700\n",
      "Epoch 20/100\n",
      "10000/10000 [==============================] - 1s 51us/step - loss: 1.6099 - acc: 0.1984 - val_loss: 1.6113 - val_acc: 0.1900\n",
      "Epoch 21/100\n",
      "10000/10000 [==============================] - 0s 45us/step - loss: 1.6099 - acc: 0.1989 - val_loss: 1.6102 - val_acc: 0.2100\n",
      "Epoch 22/100\n",
      "10000/10000 [==============================] - 0s 43us/step - loss: 1.6099 - acc: 0.1959 - val_loss: 1.6077 - val_acc: 0.1900\n",
      "Epoch 23/100\n",
      "10000/10000 [==============================] - 0s 43us/step - loss: 1.6100 - acc: 0.1964 - val_loss: 1.6086 - val_acc: 0.1700\n",
      "Epoch 24/100\n",
      "10000/10000 [==============================] - 0s 42us/step - loss: 1.6100 - acc: 0.1973 - val_loss: 1.6131 - val_acc: 0.1800\n",
      "Epoch 25/100\n",
      "10000/10000 [==============================] - 0s 43us/step - loss: 1.6100 - acc: 0.1911 - val_loss: 1.6108 - val_acc: 0.1900\n",
      "Epoch 26/100\n",
      "10000/10000 [==============================] - 0s 44us/step - loss: 1.6099 - acc: 0.2016 - val_loss: 1.6106 - val_acc: 0.1900\n",
      "Epoch 27/100\n",
      "10000/10000 [==============================] - 0s 46us/step - loss: 1.6097 - acc: 0.2014 - val_loss: 1.6105 - val_acc: 0.1800\n",
      "Epoch 28/100\n",
      "10000/10000 [==============================] - 0s 44us/step - loss: 1.6098 - acc: 0.2006 - val_loss: 1.6123 - val_acc: 0.1600\n",
      "Epoch 29/100\n",
      "10000/10000 [==============================] - 0s 45us/step - loss: 1.6100 - acc: 0.1974 - val_loss: 1.6111 - val_acc: 0.1900\n",
      "Epoch 30/100\n",
      "10000/10000 [==============================] - 0s 44us/step - loss: 1.6099 - acc: 0.2005 - val_loss: 1.6123 - val_acc: 0.1800\n",
      "Epoch 31/100\n",
      "10000/10000 [==============================] - 0s 45us/step - loss: 1.6098 - acc: 0.1994 - val_loss: 1.6105 - val_acc: 0.2300\n",
      "Epoch 32/100\n",
      "10000/10000 [==============================] - 0s 45us/step - loss: 1.6096 - acc: 0.2031 - val_loss: 1.6101 - val_acc: 0.1900\n",
      "Epoch 33/100\n",
      "10000/10000 [==============================] - 0s 47us/step - loss: 1.6097 - acc: 0.1984 - val_loss: 1.6104 - val_acc: 0.1900\n",
      "Epoch 34/100\n",
      "10000/10000 [==============================] - 1s 51us/step - loss: 1.6098 - acc: 0.2080 - val_loss: 1.6112 - val_acc: 0.2000\n",
      "Epoch 35/100\n",
      "10000/10000 [==============================] - 0s 49us/step - loss: 1.6096 - acc: 0.2015 - val_loss: 1.6102 - val_acc: 0.1900\n",
      "Epoch 36/100\n",
      "10000/10000 [==============================] - 0s 43us/step - loss: 1.6099 - acc: 0.1928 - val_loss: 1.6097 - val_acc: 0.1900\n",
      "Epoch 37/100\n",
      "10000/10000 [==============================] - 0s 43us/step - loss: 1.6098 - acc: 0.1984 - val_loss: 1.6082 - val_acc: 0.2300\n",
      "Epoch 38/100\n",
      "10000/10000 [==============================] - 0s 43us/step - loss: 1.6096 - acc: 0.2030 - val_loss: 1.6098 - val_acc: 0.1900\n",
      "Epoch 39/100\n",
      "10000/10000 [==============================] - 0s 43us/step - loss: 1.6097 - acc: 0.2020 - val_loss: 1.6126 - val_acc: 0.1800\n",
      "Epoch 40/100\n",
      "10000/10000 [==============================] - 0s 44us/step - loss: 1.6098 - acc: 0.2012 - val_loss: 1.6090 - val_acc: 0.1700\n",
      "Epoch 41/100\n",
      "10000/10000 [==============================] - 0s 43us/step - loss: 1.6094 - acc: 0.2050 - val_loss: 1.6106 - val_acc: 0.1800\n",
      "Epoch 42/100\n",
      "10000/10000 [==============================] - 0s 44us/step - loss: 1.6098 - acc: 0.1932 - val_loss: 1.6135 - val_acc: 0.1800\n",
      "Epoch 43/100\n",
      "10000/10000 [==============================] - 0s 46us/step - loss: 1.6096 - acc: 0.1982 - val_loss: 1.6093 - val_acc: 0.2300\n",
      "Epoch 44/100\n",
      "10000/10000 [==============================] - 0s 45us/step - loss: 1.6097 - acc: 0.1984 - val_loss: 1.6083 - val_acc: 0.2100\n",
      "Epoch 45/100\n",
      "10000/10000 [==============================] - 0s 45us/step - loss: 1.6097 - acc: 0.2000 - val_loss: 1.6097 - val_acc: 0.1900\n",
      "Epoch 46/100\n",
      "10000/10000 [==============================] - 0s 45us/step - loss: 1.6098 - acc: 0.2015 - val_loss: 1.6099 - val_acc: 0.1700\n",
      "Epoch 47/100\n",
      "10000/10000 [==============================] - 0s 44us/step - loss: 1.6095 - acc: 0.2027 - val_loss: 1.6083 - val_acc: 0.2400\n",
      "Epoch 48/100\n",
      "10000/10000 [==============================] - 0s 48us/step - loss: 1.6098 - acc: 0.2005 - val_loss: 1.6089 - val_acc: 0.2100\n",
      "Epoch 49/100\n",
      "10000/10000 [==============================] - 1s 51us/step - loss: 1.6097 - acc: 0.1980 - val_loss: 1.6109 - val_acc: 0.1900\n",
      "Epoch 50/100\n",
      "10000/10000 [==============================] - 0s 47us/step - loss: 1.6095 - acc: 0.2075 - val_loss: 1.6111 - val_acc: 0.1900\n",
      "Epoch 51/100\n",
      "10000/10000 [==============================] - 0s 43us/step - loss: 1.6096 - acc: 0.2023 - val_loss: 1.6104 - val_acc: 0.1700\n",
      "Epoch 52/100\n",
      "10000/10000 [==============================] - 0s 44us/step - loss: 1.6094 - acc: 0.2018 - val_loss: 1.6081 - val_acc: 0.2500\n",
      "Epoch 53/100\n",
      "10000/10000 [==============================] - 0s 44us/step - loss: 1.6096 - acc: 0.1998 - val_loss: 1.6102 - val_acc: 0.1500\n",
      "Epoch 54/100\n",
      "10000/10000 [==============================] - 0s 44us/step - loss: 1.6095 - acc: 0.2078 - val_loss: 1.6084 - val_acc: 0.2500\n",
      "Epoch 55/100\n",
      "10000/10000 [==============================] - 0s 44us/step - loss: 1.6094 - acc: 0.2028 - val_loss: 1.6101 - val_acc: 0.1900\n",
      "Epoch 56/100\n",
      "10000/10000 [==============================] - 0s 44us/step - loss: 1.6095 - acc: 0.2054 - val_loss: 1.6106 - val_acc: 0.1900\n",
      "Epoch 57/100\n",
      "10000/10000 [==============================] - 0s 44us/step - loss: 1.6094 - acc: 0.2089 - val_loss: 1.6083 - val_acc: 0.2400\n",
      "Epoch 58/100\n",
      "10000/10000 [==============================] - 0s 44us/step - loss: 1.6093 - acc: 0.2042 - val_loss: 1.6121 - val_acc: 0.2000\n",
      "Epoch 59/100\n",
      "10000/10000 [==============================] - 0s 44us/step - loss: 1.6094 - acc: 0.2101 - val_loss: 1.6113 - val_acc: 0.1900\n",
      "Epoch 60/100\n",
      "10000/10000 [==============================] - 0s 42us/step - loss: 1.6093 - acc: 0.2057 - val_loss: 1.6101 - val_acc: 0.1900\n",
      "Epoch 61/100\n",
      "10000/10000 [==============================] - 0s 42us/step - loss: 1.6096 - acc: 0.1939 - val_loss: 1.6110 - val_acc: 0.1700\n",
      "Epoch 62/100\n",
      "10000/10000 [==============================] - 0s 44us/step - loss: 1.6093 - acc: 0.2093 - val_loss: 1.6104 - val_acc: 0.1700\n",
      "Epoch 63/100\n",
      "10000/10000 [==============================] - 0s 46us/step - loss: 1.6092 - acc: 0.2084 - val_loss: 1.6089 - val_acc: 0.2200\n",
      "Epoch 64/100\n",
      "10000/10000 [==============================] - 0s 49us/step - loss: 1.6094 - acc: 0.2034 - val_loss: 1.6107 - val_acc: 0.1800\n",
      "Epoch 65/100\n",
      "10000/10000 [==============================] - 0s 47us/step - loss: 1.6091 - acc: 0.2050 - val_loss: 1.6087 - val_acc: 0.2500\n",
      "Epoch 66/100\n",
      "10000/10000 [==============================] - 0s 44us/step - loss: 1.6091 - acc: 0.2051 - val_loss: 1.6121 - val_acc: 0.1400\n",
      "Epoch 67/100\n",
      "10000/10000 [==============================] - 0s 43us/step - loss: 1.6091 - acc: 0.2084 - val_loss: 1.6111 - val_acc: 0.1800\n",
      "Epoch 68/100\n",
      "10000/10000 [==============================] - 0s 44us/step - loss: 1.6092 - acc: 0.2058 - val_loss: 1.6102 - val_acc: 0.1800\n",
      "Epoch 69/100\n",
      "10000/10000 [==============================] - 0s 42us/step - loss: 1.6092 - acc: 0.2112 - val_loss: 1.6104 - val_acc: 0.1700\n",
      "Epoch 70/100\n",
      "10000/10000 [==============================] - 0s 43us/step - loss: 1.6093 - acc: 0.2047 - val_loss: 1.6099 - val_acc: 0.1800\n",
      "Epoch 71/100\n",
      "10000/10000 [==============================] - 0s 45us/step - loss: 1.6090 - acc: 0.2097 - val_loss: 1.6098 - val_acc: 0.1700\n",
      "Epoch 72/100\n",
      "10000/10000 [==============================] - 0s 44us/step - loss: 1.6088 - acc: 0.2115 - val_loss: 1.6114 - val_acc: 0.1600\n",
      "Epoch 73/100\n",
      "10000/10000 [==============================] - 0s 43us/step - loss: 1.6088 - acc: 0.2122 - val_loss: 1.6130 - val_acc: 0.1900\n",
      "Epoch 74/100\n",
      "10000/10000 [==============================] - 0s 44us/step - loss: 1.6091 - acc: 0.2059 - val_loss: 1.6105 - val_acc: 0.2100\n",
      "Epoch 75/100\n",
      "10000/10000 [==============================] - 0s 46us/step - loss: 1.6088 - acc: 0.2051 - val_loss: 1.6106 - val_acc: 0.1700\n",
      "Epoch 76/100\n",
      "10000/10000 [==============================] - 0s 42us/step - loss: 1.6088 - acc: 0.2126 - val_loss: 1.6093 - val_acc: 0.2200\n",
      "Epoch 77/100\n",
      "10000/10000 [==============================] - 0s 44us/step - loss: 1.6087 - acc: 0.2086 - val_loss: 1.6133 - val_acc: 0.1700\n",
      "Epoch 78/100\n",
      "10000/10000 [==============================] - 0s 48us/step - loss: 1.6088 - acc: 0.2108 - val_loss: 1.6092 - val_acc: 0.1900\n",
      "Epoch 79/100\n",
      "10000/10000 [==============================] - 1s 54us/step - loss: 1.6086 - acc: 0.2074 - val_loss: 1.6128 - val_acc: 0.1700\n",
      "Epoch 80/100\n",
      "10000/10000 [==============================] - 0s 47us/step - loss: 1.6087 - acc: 0.2098 - val_loss: 1.6092 - val_acc: 0.2600\n",
      "Epoch 81/100\n",
      "10000/10000 [==============================] - 0s 42us/step - loss: 1.6085 - acc: 0.2100 - val_loss: 1.6128 - val_acc: 0.1700\n",
      "Epoch 82/100\n",
      "10000/10000 [==============================] - 0s 43us/step - loss: 1.6086 - acc: 0.2110 - val_loss: 1.6120 - val_acc: 0.1800\n",
      "Epoch 83/100\n",
      "10000/10000 [==============================] - 0s 44us/step - loss: 1.6085 - acc: 0.2117 - val_loss: 1.6133 - val_acc: 0.1500\n",
      "Epoch 84/100\n",
      "10000/10000 [==============================] - 0s 44us/step - loss: 1.6084 - acc: 0.2194 - val_loss: 1.6138 - val_acc: 0.1800\n",
      "Epoch 85/100\n",
      "10000/10000 [==============================] - 0s 44us/step - loss: 1.6083 - acc: 0.2110 - val_loss: 1.6102 - val_acc: 0.2300\n",
      "Epoch 86/100\n",
      "10000/10000 [==============================] - 0s 43us/step - loss: 1.6081 - acc: 0.2132 - val_loss: 1.6100 - val_acc: 0.2000\n",
      "Epoch 87/100\n",
      "10000/10000 [==============================] - 0s 44us/step - loss: 1.6083 - acc: 0.2218 - val_loss: 1.6141 - val_acc: 0.1900\n",
      "Epoch 88/100\n",
      "10000/10000 [==============================] - 0s 43us/step - loss: 1.6080 - acc: 0.2181 - val_loss: 1.6132 - val_acc: 0.1900\n",
      "Epoch 89/100\n",
      "10000/10000 [==============================] - 0s 44us/step - loss: 1.6078 - acc: 0.2212 - val_loss: 1.6156 - val_acc: 0.1700\n",
      "Epoch 90/100\n",
      "10000/10000 [==============================] - 0s 44us/step - loss: 1.6079 - acc: 0.2144 - val_loss: 1.6144 - val_acc: 0.1500\n",
      "Epoch 91/100\n",
      "10000/10000 [==============================] - 0s 44us/step - loss: 1.6076 - acc: 0.2173 - val_loss: 1.6098 - val_acc: 0.2400\n",
      "Epoch 92/100\n",
      "10000/10000 [==============================] - 0s 45us/step - loss: 1.6078 - acc: 0.2176 - val_loss: 1.6137 - val_acc: 0.2000\n",
      "Epoch 93/100\n",
      "10000/10000 [==============================] - 0s 47us/step - loss: 1.6074 - acc: 0.2215 - val_loss: 1.6110 - val_acc: 0.1400\n",
      "Epoch 94/100\n",
      "10000/10000 [==============================] - 1s 51us/step - loss: 1.6075 - acc: 0.2220 - val_loss: 1.6114 - val_acc: 0.1900\n",
      "Epoch 95/100\n",
      "10000/10000 [==============================] - 0s 48us/step - loss: 1.6074 - acc: 0.2209 - val_loss: 1.6161 - val_acc: 0.1600\n",
      "Epoch 96/100\n",
      "10000/10000 [==============================] - 0s 43us/step - loss: 1.6069 - acc: 0.2156 - val_loss: 1.6083 - val_acc: 0.2400\n",
      "Epoch 97/100\n",
      "10000/10000 [==============================] - 0s 44us/step - loss: 1.6073 - acc: 0.2198 - val_loss: 1.6176 - val_acc: 0.1900\n",
      "Epoch 98/100\n",
      "10000/10000 [==============================] - 0s 43us/step - loss: 1.6068 - acc: 0.2269 - val_loss: 1.6140 - val_acc: 0.1500\n",
      "Epoch 99/100\n",
      "10000/10000 [==============================] - 0s 45us/step - loss: 1.6073 - acc: 0.2221 - val_loss: 1.6172 - val_acc: 0.1600\n",
      "Epoch 100/100\n",
      "10000/10000 [==============================] - 0s 44us/step - loss: 1.6072 - acc: 0.2211 - val_loss: 1.6171 - val_acc: 0.1600\n",
      "[[ 0  6  3  4  5]\n",
      " [ 0  5  0  5 11]\n",
      " [ 0  5  2  3  7]\n",
      " [ 0  9  6  2  8]\n",
      " [ 0  7  2  3  7]]\n"
     ]
    }
   ],
   "source": [
    "model.compile(loss='categorical_crossentropy',\n",
    "              optimizer='rmsprop',\n",
    "              metrics=['accuracy'])\n",
    "\n",
    "history =model.fit(X_train_used,\n",
    "          one_hot(y_train),\n",
    "          batch_size=batch_size,\n",
    "          validation_data=(X_test_used, one_hot(y_test)),\n",
    "          epochs=100)\n",
    "\n",
    "\n",
    "# Evaluate\n",
    "predictions = model.predict(X_test_used).argmax(1)\n",
    "\n",
    "from sklearn.metrics import confusion_matrix\n",
    "print(confusion_matrix(y_test, predictions))"
   ]
  },
  {
   "cell_type": "code",
   "execution_count": 25,
   "metadata": {},
   "outputs": [
    {
     "name": "stdout",
     "output_type": "stream",
     "text": [
      "Saved model to disk\n"
     ]
    }
   ],
   "source": [
    "# serialize model to JSON\n",
    "model_json = model.to_json()\n",
    "with open(\"model.json\", \"w\") as json_file:\n",
    "    json_file.write(model_json)\n",
    "# serialize weights to HDF5\n",
    "model.save_weights(\"model.h5\")\n",
    "print(\"Saved model to disk\")"
   ]
  },
  {
   "cell_type": "code",
   "execution_count": 31,
   "metadata": {},
   "outputs": [
    {
     "data": {
      "text/plain": [
       "[<tf.Variable 'conv1d_2/kernel:0' shape=(5, 1, 64) dtype=float32_ref>,\n",
       " <tf.Variable 'conv1d_2/bias:0' shape=(64,) dtype=float32_ref>,\n",
       " <tf.Variable 'conv1d_3/kernel:0' shape=(3, 64, 128) dtype=float32_ref>,\n",
       " <tf.Variable 'conv1d_3/bias:0' shape=(128,) dtype=float32_ref>,\n",
       " <tf.Variable 'lstm_2/kernel:0' shape=(128, 128) dtype=float32_ref>,\n",
       " <tf.Variable 'lstm_2/recurrent_kernel:0' shape=(32, 128) dtype=float32_ref>,\n",
       " <tf.Variable 'lstm_2/bias:0' shape=(128,) dtype=float32_ref>,\n",
       " <tf.Variable 'lstm_3/kernel:0' shape=(32, 128) dtype=float32_ref>,\n",
       " <tf.Variable 'lstm_3/recurrent_kernel:0' shape=(32, 128) dtype=float32_ref>,\n",
       " <tf.Variable 'lstm_3/bias:0' shape=(128,) dtype=float32_ref>,\n",
       " <tf.Variable 'dense_2/kernel:0' shape=(32, 6) dtype=float32_ref>,\n",
       " <tf.Variable 'dense_2/bias:0' shape=(6,) dtype=float32_ref>]"
      ]
     },
     "execution_count": 31,
     "metadata": {},
     "output_type": "execute_result"
    }
   ],
   "source": [
    "model.weights"
   ]
  },
  {
   "cell_type": "code",
   "execution_count": 24,
   "metadata": {},
   "outputs": [
    {
     "name": "stdout",
     "output_type": "stream",
     "text": [
      "dict_keys(['val_loss', 'loss', 'val_acc', 'acc'])\n"
     ]
    },
    {
     "data": {
      "image/png": "[encoded data removed]",
      "text/plain": [
       "<matplotlib.figure.Figure at 0x7fd8c7c30ba8>"
      ]
     },
     "metadata": {},
     "output_type": "display_data"
    },
    {
     "data": {
      "image/png": "[encoded data removed]",
      "text/plain": [
       "<matplotlib.figure.Figure at 0x7fd8c6066940>"
      ]
     },
     "metadata": {},
     "output_type": "display_data"
    }
   ],
   "source": [
    "print(history.history.keys())\n",
    "# summarize history for accuracy\n",
    "plt.plot(history.history['acc'])\n",
    "plt.plot(history.history['val_acc'])\n",
    "plt.title('model accuracy')\n",
    "plt.ylabel('accuracy')\n",
    "plt.xlabel('epoch')\n",
    "plt.legend(['train', 'test'], loc='upper left')\n",
    "plt.show()\n",
    "# summarize history for loss\n",
    "plt.plot(history.history['loss'])\n",
    "plt.plot(history.history['val_loss'])\n",
    "plt.title('model loss')\n",
    "plt.ylabel('loss')\n",
    "plt.xlabel('epoch')\n",
    "plt.legend(['train', 'test'], loc='upper left')\n",
    "plt.show()"
   ]
  },
  {
   "cell_type": "markdown",
   "metadata": {},
   "source": [
    "## And finally, the multi-class confusion matrix and metrics!"
   ]
  },
  {
   "cell_type": "code",
   "execution_count": 23,
   "metadata": {},
   "outputs": [
    {
     "name": "stdout",
     "output_type": "stream",
     "text": [
      "\n",
      "Precision: 75.2202957247%\n",
      "Recall: 76.9971126083%\n",
      "f1_score: 75.5165886308%\n",
      "\n",
      "Confusion Matrix:\n",
      "[[ 80   7  26  17  14   1]\n",
      " [ 66   4   5   0   0   0]\n",
      " [ 37   2  27   4   2   0]\n",
      " [  5   2   0 342   4  21]\n",
      " [  5   2   7   6 162   1]\n",
      " [  0   0   0   5   0 185]]\n",
      "\n",
      "Confusion matrix (normalised to % of total test data):\n",
      "[[0.55172414 0.04827586 0.17931034 0.11724138 0.09655172 0.00689655]\n",
      " [0.88       0.05333333 0.06666667 0.         0.         0.        ]\n",
      " [0.51388889 0.02777778 0.375      0.05555556 0.02777778 0.        ]\n",
      " [0.01336898 0.00534759 0.         0.9144385  0.01069519 0.05614973]\n",
      " [0.0273224  0.01092896 0.03825137 0.03278689 0.8852459  0.00546448]\n",
      " [0.         0.         0.         0.02631579 0.         0.97368421]]\n",
      "Note: training and testing data is not equally distributed amongst classes, \n",
      "so it is normal that more than a 6th of the data is correctly classifier in the last category.\n"
     ]
    },
    {
     "data": {
      "image/png": "[encoded data removed]",
      "text/plain": [
       "<matplotlib.figure.Figure at 0x7fce5dac7750>"
      ]
     },
     "metadata": {},
     "output_type": "display_data"
    }
   ],
   "source": [
    "# Results\n",
    "\n",
    "\n",
    "\n",
    "\n",
    "print(\"\")\n",
    "print(\"Precision: {}%\".format(100*metrics.precision_score(y_test, predictions, average=\"weighted\")))\n",
    "print(\"Recall: {}%\".format(100*metrics.recall_score(y_test, predictions, average=\"weighted\")))\n",
    "print(\"f1_score: {}%\".format(100*metrics.f1_score(y_test, predictions, average=\"weighted\")))\n",
    "\n",
    "print(\"\")\n",
    "print(\"Confusion Matrix:\")\n",
    "confusion_matrix = metrics.confusion_matrix(y_test, predictions)\n",
    "print(confusion_matrix)\n",
    "normalised_confusion_matrix = confusion_matrix.astype('float') / confusion_matrix.sum(axis=1)[:, np.newaxis]\n",
    "\n",
    "print(\"\")\n",
    "print(\"Confusion matrix (normalised to % of total test data):\")\n",
    "print(normalised_confusion_matrix)\n",
    "print(\"Note: training and testing data is not equally distributed amongst classes, \")\n",
    "print(\"so it is normal that more than a 6th of the data is correctly classifier in the last category.\")\n",
    "\n",
    "# Plot Results: \n",
    "width = 12\n",
    "height = 12\n",
    "plt.figure(figsize=(width, height))\n",
    "plt.imshow(\n",
    "    normalised_confusion_matrix, \n",
    "    interpolation='nearest', \n",
    "    \n",
    "    cmap=plt.cm.Blues\n",
    ")\n",
    "plt.title(\"Confusion matrix \\n(normalised to % of total test data)\")\n",
    "plt.colorbar()\n",
    "tick_marks = np.arange(n_classes)\n",
    "plt.xticks(tick_marks, LABELS, rotation=90)\n",
    "plt.yticks(tick_marks, LABELS)\n",
    "plt.ylabel('True label')\n",
    "plt.xlabel('Predicted label')\n",
    "# plt.savefig(\"Results/LSTM_loaded_data.jpg\")\n",
    "plt.show()"
   ]
  },
  {
   "cell_type": "code",
   "execution_count": 26,
   "metadata": {},
   "outputs": [
    {
     "name": "stdout",
     "output_type": "stream",
     "text": [
      "Normalized confusion matrix\n"
     ]
    },
    {
     "data": {
      "image/png": "[encoded data removed]",
      "text/plain": [
       "<matplotlib.figure.Figure at 0x7fce4c240350>"
      ]
     },
     "metadata": {},
     "output_type": "display_data"
    }
   ],
   "source": [
    "plot_cm(confusion_matrix, LABELS)"
   ]
  },
  {
   "cell_type": "code",
   "execution_count": 25,
   "metadata": {
    "collapsed": true
   },
   "outputs": [],
   "source": [
    "def plot_cm(cm, classes, normalize = True):\n",
    "    import seaborn as sns\n",
    "    if normalize:\n",
    "        cm = cm.astype('float') / cm.sum(axis=1)[:, np.newaxis]\n",
    "        print(\"Normalized confusion matrix\")\n",
    "    else:\n",
    "        print('Confusion matrix, without normalization')\n",
    "\n",
    "    ax= plt.subplot()\n",
    "    sns.heatmap(cm, annot=True, ax = ax, cmap=\"Blues\"); #annot=True to annotate cells\n",
    "\n",
    "    # labels, title and ticks\n",
    "    ax.set_xlabel('Predicted labels');ax.set_ylabel('True labels'); \n",
    "    ax.set_title('Confusion Matrix'); \n",
    "    ax.xaxis.set_ticklabels(classes); ax.yaxis.set_ticklabels(classes[::-1]);\n",
    "    plt.xticks(rotation='vertical')\n",
    "    plt.yticks(rotation='horizontal')\n",
    "    plt.show()"
   ]
  },
  {
   "cell_type": "code",
   "execution_count": 28,
   "metadata": {},
   "outputs": [
    {
     "name": "stdout",
     "output_type": "stream",
     "text": [
      "                    precision    recall  f1-score   support\n",
      "\n",
      "           walking       0.41      0.55      0.47       145\n",
      "  walking upstairs       0.24      0.05      0.09        75\n",
      "walking downstairs       0.42      0.38      0.39        72\n",
      "           sitting       0.91      0.91      0.91       374\n",
      "          standing       0.89      0.89      0.89       183\n",
      "            laying       0.89      0.97      0.93       190\n",
      "\n",
      "       avg / total       0.75      0.77      0.76      1039\n",
      "\n"
     ]
    }
   ],
   "source": [
    "from sklearn.metrics import classification_report\n",
    "print(classification_report(y_test, predictions,target_names=LABELS))"
   ]
  },
  {
   "cell_type": "code",
   "execution_count": 27,
   "metadata": {},
   "outputs": [
    {
     "name": "stdout",
     "output_type": "stream",
     "text": [
      "_________________________________________________________________\n",
      "Layer (type)                 Output Shape              Param #   \n",
      "=================================================================\n",
      "lstm_1 (LSTM)                (None, 128, 32)           4992      \n",
      "_________________________________________________________________\n",
      "lstm_2 (LSTM)                (None, 32)                8320      \n",
      "_________________________________________________________________\n",
      "dense_1 (Dense)              (None, 6)                 198       \n",
      "=================================================================\n",
      "Total params: 13,510\n",
      "Trainable params: 13,510\n",
      "Non-trainable params: 0\n",
      "_________________________________________________________________\n"
     ]
    }
   ],
   "source": [
    "model.summary()"
   ]
  },
  {
   "cell_type": "code",
   "execution_count": null,
   "metadata": {
    "collapsed": true
   },
   "outputs": [],
   "source": []
  }
 ],
 "metadata": {
  "kernelspec": {
   "display_name": "Python 3",
   "language": "python",
   "name": "python3"
  },
  "language_info": {
   "codemirror_mode": {
    "name": "ipython",
    "version": 3
   },
   "file_extension": ".py",
   "mimetype": "text/x-python",
   "name": "python",
   "nbconvert_exporter": "python",
   "pygments_lexer": "ipython3",
   "version": "3.5.4"
  }
 },
 "nbformat": 4,
 "nbformat_minor": 2
}
