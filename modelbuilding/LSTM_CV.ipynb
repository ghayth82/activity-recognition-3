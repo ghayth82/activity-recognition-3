{
 "cells": [
  {
   "cell_type": "code",
   "execution_count": 132,
   "metadata": {
    "collapsed": true
   },
   "outputs": [],
   "source": [
    "# All Includes\n",
    "\n",
    "import numpy as np\n",
    "import matplotlib\n",
    "import matplotlib.pyplot as plt\n",
    "import tensorflow as tf  # Version 1.0.0 (some previous versions are used in past commits)\n",
    "from sklearn import metrics\n",
    "import pandas as pd\n",
    "import itertools\n",
    "import os\n",
    "from sklearn.metrics import confusion_matrix\n",
    "\n",
    "import keras\n",
    "from keras.models import Sequential\n",
    "from keras.layers import Dense\n",
    "from keras.layers import LSTM,Dropout\n",
    "import keras.backend as K\n",
    "\n",
    "\n",
    "\n",
    "from sklearn.preprocessing import MinMaxScaler\n",
    "from sklearn.metrics import mean_squared_error\n",
    "from keras.callbacks import Callback"
   ]
  },
  {
   "cell_type": "code",
   "execution_count": 2,
   "metadata": {
    "collapsed": true
   },
   "outputs": [],
   "source": [
    "# Useful Constants\n",
    "\n",
    "# Those are separate normalised input features for the neural network\n",
    "INPUT_SIGNAL_TYPES = [\n",
    "    'AccX',\n",
    "    'AccY', \n",
    "    'AccZ', \n",
    "    'GyroX',\n",
    "    'GyroY', \n",
    "    'GyroZ'\n",
    "]\n",
    "\n",
    "# Output classes to learn how to classify\n",
    "LABELS = ['walking',\n",
    "        'walking upstairs',\n",
    "        'walking downstairs',\n",
    "        'sitting',\n",
    "        'standing',\n",
    "        'laying']\n",
    "RAW_DATA_PATH = \"../G9_data/snippets/\"\n",
    "SUBJECT_LIST = [  1,   3,   4,   5,   6,   7,   8,   9,  10,  11,  13,\n",
    "        14,  15,  16,  17,  18,  19,  20,  21,  22,  23,  24,\n",
    "        25,  26]\n",
    "seed = 7\n",
    "np.random.seed(seed)"
   ]
  },
  {
   "cell_type": "code",
   "execution_count": 3,
   "metadata": {
    "collapsed": true
   },
   "outputs": [],
   "source": [
    "def load_data(Snippet_paths):\n",
    "    X_signals = []\n",
    "    y_signals = []\n",
    "    usecols = INPUT_SIGNAL_TYPES + ['label']\n",
    "    for snippet_path in Snippet_paths:\n",
    "        df = pd.read_csv(snippet_path, usecols=usecols)\n",
    "        y_signals.append(np.array(df['label'][0].reshape(1), dtype=np.int32))\n",
    "        df = df[INPUT_SIGNAL_TYPES]\n",
    "        c = df.values#.reshape(df.shape[0], df.shape[1])\n",
    "        X_signals.append(c)\n",
    "        \n",
    "    return np.asarray(X_signals), np.asarray(y_signals)\n",
    "\n",
    "\n",
    "\n",
    "def extract_batch_size(_train, step, batch_size):\n",
    "    # Function to fetch a \"batch_size\" amount of data from \"(X|y)_train\" data. \n",
    "    \n",
    "    shape = list(_train.shape)\n",
    "    shape[0] = batch_size\n",
    "    batch_s = np.empty(shape)\n",
    "\n",
    "    for i in range(batch_size):\n",
    "        # Loop index\n",
    "        index = ((step-1)*batch_size + i) % len(_train)\n",
    "        batch_s[i] = _train[index] \n",
    "\n",
    "    return batch_s\n",
    "\n",
    "\n",
    "def one_hot(y_):\n",
    "    # Function to encode output labels from number indexes \n",
    "    # e.g.: [[5], [0], [3]] --> [[0, 0, 0, 0, 0, 1], [1, 0, 0, 0, 0, 0], [0, 0, 0, 1, 0, 0]]\n",
    "    \n",
    "    y_ = y_.reshape(len(y_))\n",
    "    n_values = 6\n",
    "    return np.eye(n_values)[np.array(y_, dtype=np.int32)]  # Returns FLOATS\n",
    "class TestCallback(Callback):\n",
    "    def __init__(self, test_data):\n",
    "        self.test_data = test_data\n",
    "\n",
    "    def on_epoch_end(self, epoch, logs={}):\n",
    "        x, y = self.test_data\n",
    "        loss, acc = self.model.evaluate(x, y, verbose=0)\n",
    "        print('\\nTesting loss: {}, acc: {}\\n'.format(loss, acc))\n",
    "def get_class_weights(y):\n",
    "    from sklearn.utils import class_weight\n",
    "    class_weight = class_weight.compute_class_weight('balanced'\n",
    "                                               ,np.unique(y_train.reshape(y_train.shape[0],))\n",
    "                                               ,y_train.reshape(y_train.shape[0],))\n",
    "    return  {cls: float(weight) for cls,weight in zip (np.unique(y_train.reshape(y_train.shape[0],)),class_weight)}\n",
    "\n"
   ]
  },
  {
   "cell_type": "code",
   "execution_count": 17,
   "metadata": {
    "collapsed": true
   },
   "outputs": [],
   "source": [
    "def plot_cm(cm, classes, normalize = True):\n",
    "    import seaborn as sns\n",
    "    if normalize:\n",
    "        cm = cm.astype('float') / cm.sum(axis=1)[:, np.newaxis]\n",
    "        print(\"Normalized confusion matrix\")\n",
    "    else:\n",
    "        print('Confusion matrix, without normalization')\n",
    "\n",
    "    ax= plt.subplot()\n",
    "    sns.heatmap(cm, annot=True, ax = ax, cmap=\"Blues\"); #annot=True to annotate cells\n",
    "\n",
    "    # labels, title and ticks\n",
    "    ax.set_xlabel('Predicted labels');ax.set_ylabel('True labels'); \n",
    "    ax.set_title('Confusion Matrix'); \n",
    "    ax.xaxis.set_ticklabels(classes); ax.yaxis.set_ticklabels(classes[::-1]);\n",
    "    plt.xticks(rotation='vertical')\n",
    "    plt.yticks(rotation='horizontal')\n",
    "    plt.show()"
   ]
  },
  {
   "cell_type": "markdown",
   "metadata": {},
   "source": [
    "## Utility functions for training:\n"
   ]
  },
  {
   "cell_type": "code",
   "execution_count": 10,
   "metadata": {
    "collapsed": true
   },
   "outputs": [],
   "source": [
    "def LSTM_fit_predict(subject_no):\n",
    "    \n",
    "    Snippet_paths_train =[]\n",
    "    Snippet_paths_test =[]\n",
    "    for fol in LABELS:\n",
    "        folder = RAW_DATA_PATH+'/'+fol+'/'  # folder = RAW_DATA_PATH+'/'+fol+'/'\n",
    "        for root,dirs,files in os.walk(folder):\n",
    "            for file_ in files:\n",
    "                if file_.endswith(\".csv\"):\n",
    "                    if int(file_.split(\"_\")[0]) != subject_no:\n",
    "                        Snippet_paths_train.append(folder+file_)\n",
    "                    elif int(file_.split(\"_\")[0]) == subject_no:\n",
    "                        Snippet_paths_test.append(folder+file_)\n",
    "                        \n",
    "                        \n",
    "    X_train,y_train = load_data(Snippet_paths_train)\n",
    "\n",
    "    X_test,y_test = load_data(Snippet_paths_test)\n",
    "\n",
    "    y_test = y_test - 1\n",
    "    y_train = y_train - 1\n",
    "    \n",
    "    X_train_padded = keras.preprocessing.sequence.pad_sequences(X_train, maxlen=128, dtype='float64',\n",
    "        padding='pre', truncating='pre', value=0.)\n",
    "    X_test_padded = keras.preprocessing.sequence.pad_sequences(X_test, maxlen=128, dtype='float64',\n",
    "        padding='pre', truncating='pre', value=0.)\n",
    "    \n",
    "    X_train_used = X_train_padded\n",
    "    X_test_used = X_test_padded\n",
    "    # Input Data \n",
    "\n",
    "    training_data_count = len(X_train_used)  # 7352 training series (with 50% overlap between each serie)\n",
    "    test_data_count = len(X_test_used)  # 2947 testing series\n",
    "\n",
    "    timesteps = len(X_train_used[0]) # 128 timesteps per series\n",
    "    input_dim = len(X_train_used[0][0]) # 6 input parameters per timestep\n",
    "\n",
    "    # LSTM Neural Network's internal structure\n",
    "\n",
    "    n_hidden = 32 # Hidden layer num of features\n",
    "    n_classes = 6 # Total classes (should go up, or should go down)\n",
    "\n",
    "\n",
    "    # Training \n",
    "\n",
    "    learning_rate = 0.0025\n",
    "    lambda_loss_amount = 0.0015\n",
    "    training_iters = training_data_count * 300  # Loop 300 times on the dataset\n",
    "    batch_size = 1500\n",
    "    display_iter = 30000  # To show test set accuracy during training\n",
    "\n",
    "    # Build model \n",
    "    model = Sequential()\n",
    "    model.add(LSTM(n_hidden, return_sequences=True, input_shape=(timesteps, input_dim)))\n",
    "    model.add(LSTM(n_hidden))\n",
    "    model.add(Dense(n_classes, activation='sigmoid'))\n",
    "\n",
    "    model.compile(loss='categorical_crossentropy',\n",
    "                  optimizer='rmsprop',\n",
    "                  metrics=['accuracy'])\n",
    "\n",
    "    history =model.fit(X_train_used,\n",
    "              one_hot(y_train),\n",
    "              batch_size=batch_size,\n",
    "              validation_data=(X_test_used, one_hot(y_test)),\n",
    "              epochs=100)\n",
    "\n",
    "\n",
    "    # Evaluate\n",
    "    predictions = model.predict(X_test_used).argmax(1)\n",
    "    return predictions , y_test"
   ]
  },
  {
   "cell_type": "code",
   "execution_count": 156,
   "metadata": {
    "collapsed": true
   },
   "outputs": [],
   "source": [
    "def top_2_acc(y_true, y_pred):\n",
    "    return keras.metrics.top_k_categorical_accuracy(y_true, y_pred, 2)"
   ]
  },
  {
   "cell_type": "code",
   "execution_count": null,
   "metadata": {
    "scrolled": false
   },
   "outputs": [
    {
     "name": "stdout",
     "output_type": "stream",
     "text": [
      "--------------------- subject id:  1  ---------------------\n",
      "Train on 23951 samples, validate on 1077 samples\n",
      "Epoch 1/50\n",
      "23951/23951 [==============================] - 24s 983us/step - loss: 1.6002 - acc: 0.3988 - val_loss: 1.3666 - val_acc: 0.2544\n",
      "Epoch 2/50\n",
      "23951/23951 [==============================] - 14s 587us/step - loss: 1.4248 - acc: 0.4485 - val_loss: 1.2932 - val_acc: 0.3370\n",
      "Epoch 3/50\n",
      "23951/23951 [==============================] - 14s 577us/step - loss: 1.3264 - acc: 0.5261 - val_loss: 1.2449 - val_acc: 0.4373\n",
      "Epoch 4/50\n",
      "23951/23951 [==============================] - 15s 611us/step - loss: 1.2415 - acc: 0.5648 - val_loss: 1.2300 - val_acc: 0.4475\n",
      "Epoch 5/50\n",
      "23951/23951 [==============================] - 14s 569us/step - loss: 1.1681 - acc: 0.5838 - val_loss: 1.1973 - val_acc: 0.4745\n",
      "Epoch 6/50\n",
      "23951/23951 [==============================] - 14s 573us/step - loss: 1.1117 - acc: 0.5980 - val_loss: 1.1528 - val_acc: 0.5070\n",
      "Epoch 7/50\n",
      "23951/23951 [==============================] - 14s 567us/step - loss: 1.0538 - acc: 0.6219 - val_loss: 1.1109 - val_acc: 0.4986\n",
      "Epoch 8/50\n",
      "23951/23951 [==============================] - 11s 473us/step - loss: 1.0105 - acc: 0.6275 - val_loss: 1.0911 - val_acc: 0.5014\n",
      "Epoch 9/50\n",
      "23951/23951 [==============================] - 8s 331us/step - loss: 0.9747 - acc: 0.6328 - val_loss: 1.0612 - val_acc: 0.5255\n",
      "Epoch 10/50\n",
      "23951/23951 [==============================] - 8s 326us/step - loss: 0.9412 - acc: 0.6441 - val_loss: 1.0663 - val_acc: 0.5283\n",
      "Epoch 11/50\n",
      "23951/23951 [==============================] - 8s 317us/step - loss: 0.9186 - acc: 0.6785 - val_loss: 1.1111 - val_acc: 0.5432\n",
      "Epoch 12/50\n",
      "23951/23951 [==============================] - 7s 308us/step - loss: 0.8947 - acc: 0.7070 - val_loss: 1.0346 - val_acc: 0.6806\n",
      "Epoch 13/50\n",
      "23951/23951 [==============================] - 7s 298us/step - loss: 0.8854 - acc: 0.7145 - val_loss: 0.9984 - val_acc: 0.6787\n",
      "Epoch 14/50\n",
      "23951/23951 [==============================] - 7s 307us/step - loss: 0.8667 - acc: 0.7154 - val_loss: 1.0588 - val_acc: 0.6676\n",
      "Epoch 15/50\n",
      "23951/23951 [==============================] - 7s 300us/step - loss: 0.8638 - acc: 0.7174 - val_loss: 1.0364 - val_acc: 0.6973\n",
      "Epoch 16/50\n",
      "23951/23951 [==============================] - 7s 300us/step - loss: 0.8470 - acc: 0.7282 - val_loss: 1.0321 - val_acc: 0.7001\n",
      "Epoch 17/50\n",
      "23951/23951 [==============================] - 7s 303us/step - loss: 0.8386 - acc: 0.7280 - val_loss: 1.1422 - val_acc: 0.7001\n",
      "Epoch 18/50\n",
      "23951/23951 [==============================] - 8s 321us/step - loss: 0.8325 - acc: 0.7250 - val_loss: 1.0840 - val_acc: 0.7057\n",
      "Epoch 19/50\n",
      "23951/23951 [==============================] - 7s 305us/step - loss: 0.8115 - acc: 0.7315 - val_loss: 1.1128 - val_acc: 0.6852\n",
      "Epoch 20/50\n",
      "23951/23951 [==============================] - 7s 313us/step - loss: 0.8120 - acc: 0.7336 - val_loss: 1.0872 - val_acc: 0.7057\n",
      "Epoch 21/50\n",
      "23951/23951 [==============================] - 7s 306us/step - loss: 0.8042 - acc: 0.7341 - val_loss: 1.1473 - val_acc: 0.6815\n",
      "Epoch 22/50\n",
      "23951/23951 [==============================] - 7s 313us/step - loss: 0.7969 - acc: 0.7389 - val_loss: 1.1324 - val_acc: 0.6973\n",
      "Epoch 23/50\n",
      "23951/23951 [==============================] - 7s 304us/step - loss: 0.7996 - acc: 0.7298 - val_loss: 1.1295 - val_acc: 0.6880\n",
      "Epoch 24/50\n",
      "23951/23951 [==============================] - 7s 305us/step - loss: 0.7806 - acc: 0.7376 - val_loss: 1.1209 - val_acc: 0.7057\n",
      "Epoch 25/50\n",
      "23951/23951 [==============================] - 7s 306us/step - loss: 0.7785 - acc: 0.7428 - val_loss: 1.1277 - val_acc: 0.7149\n",
      "Epoch 26/50\n",
      "23951/23951 [==============================] - 7s 306us/step - loss: 0.7657 - acc: 0.7454 - val_loss: 1.1396 - val_acc: 0.6973\n",
      "Epoch 27/50\n",
      "23951/23951 [==============================] - 7s 303us/step - loss: 0.7679 - acc: 0.7446 - val_loss: 1.1188 - val_acc: 0.7001\n",
      "Epoch 28/50\n",
      "23951/23951 [==============================] - 7s 298us/step - loss: 0.7502 - acc: 0.7491 - val_loss: 1.1460 - val_acc: 0.6927\n",
      "Epoch 29/50\n",
      "23951/23951 [==============================] - 7s 309us/step - loss: 0.7523 - acc: 0.7511 - val_loss: 1.1486 - val_acc: 0.6852\n",
      "Epoch 30/50\n",
      "23951/23951 [==============================] - 7s 302us/step - loss: 0.7494 - acc: 0.7568 - val_loss: 1.1290 - val_acc: 0.7196\n",
      "Epoch 31/50\n",
      "23951/23951 [==============================] - 7s 309us/step - loss: 0.7348 - acc: 0.7559 - val_loss: 1.1466 - val_acc: 0.6927\n",
      "Epoch 32/50\n",
      "23951/23951 [==============================] - 7s 305us/step - loss: 0.7351 - acc: 0.7627 - val_loss: 0.9810 - val_acc: 0.7317\n",
      "Epoch 33/50\n",
      "23951/23951 [==============================] - 7s 313us/step - loss: 0.7370 - acc: 0.7591 - val_loss: 1.1379 - val_acc: 0.7196\n",
      "Epoch 34/50\n",
      "23951/23951 [==============================] - 8s 323us/step - loss: 0.7231 - acc: 0.7638 - val_loss: 1.1449 - val_acc: 0.7075\n",
      "Epoch 35/50\n",
      "23951/23951 [==============================] - 7s 309us/step - loss: 0.7161 - acc: 0.7659 - val_loss: 1.1439 - val_acc: 0.7233\n",
      "Epoch 36/50\n",
      "23951/23951 [==============================] - 8s 319us/step - loss: 0.7097 - acc: 0.7707 - val_loss: 1.1373 - val_acc: 0.7187\n",
      "Epoch 37/50\n",
      "23951/23951 [==============================] - 7s 306us/step - loss: 0.7036 - acc: 0.7729 - val_loss: 0.9768 - val_acc: 0.7001\n",
      "Epoch 38/50\n",
      "23951/23951 [==============================] - 7s 305us/step - loss: 0.7076 - acc: 0.7697 - val_loss: 1.1505 - val_acc: 0.6119\n",
      "Epoch 39/50\n",
      "23951/23951 [==============================] - 7s 313us/step - loss: 0.6902 - acc: 0.7830 - val_loss: 1.1994 - val_acc: 0.5487\n",
      "Epoch 40/50\n",
      "23951/23951 [==============================] - 7s 297us/step - loss: 0.6828 - acc: 0.7881 - val_loss: 1.1612 - val_acc: 0.5608\n",
      "Epoch 41/50\n",
      "23951/23951 [==============================] - 13s 563us/step - loss: 0.6801 - acc: 0.7882 - val_loss: 1.1513 - val_acc: 0.5682\n",
      "Epoch 42/50\n",
      "23951/23951 [==============================] - 14s 579us/step - loss: 0.6846 - acc: 0.7882 - val_loss: 1.1496 - val_acc: 0.5701\n",
      "Epoch 43/50\n",
      "23951/23951 [==============================] - 14s 584us/step - loss: 0.6749 - acc: 0.7882 - val_loss: 1.1693 - val_acc: 0.5747\n",
      "Epoch 44/50\n",
      "23951/23951 [==============================] - 15s 605us/step - loss: 0.6655 - acc: 0.7909 - val_loss: 1.1420 - val_acc: 0.5822\n",
      "Epoch 45/50\n",
      "23951/23951 [==============================] - 15s 618us/step - loss: 0.6716 - acc: 0.7922 - val_loss: 1.1446 - val_acc: 0.5831\n",
      "Epoch 46/50\n",
      "23951/23951 [==============================] - 14s 571us/step - loss: 0.6615 - acc: 0.7984 - val_loss: 1.1262 - val_acc: 0.6286\n",
      "Epoch 47/50\n",
      "23951/23951 [==============================] - 14s 594us/step - loss: 0.6535 - acc: 0.7989 - val_loss: 1.1486 - val_acc: 0.5747\n",
      "Epoch 48/50\n",
      "23951/23951 [==============================] - 14s 577us/step - loss: 0.6572 - acc: 0.7965 - val_loss: 1.1548 - val_acc: 0.5859\n",
      "Epoch 49/50\n"
     ]
    }
   ],
   "source": [
    "\n",
    "\n",
    "#LOO-Validation on each subject\n",
    "y_test_all = []\n",
    "y_pred_all = []\n",
    "y_score_all = []\n",
    "\n",
    "for subject_no in SUBJECT_LIST[:5]: # one combination of tested subjects\n",
    "    print(\"--------------------- subject id: \",subject_no, ' ---------------------')\n",
    "    Snippet_paths_train =[]\n",
    "    Snippet_paths_test =[]\n",
    "    for fol in LABELS:\n",
    "        folder = RAW_DATA_PATH+'/'+fol+'/'  # folder = RAW_DATA_PATH+'/'+fol+'/'\n",
    "        for root,dirs,files in os.walk(folder):\n",
    "            for file_ in files:\n",
    "                if file_.endswith(\".csv\"):\n",
    "                    if int(file_.split(\"_\")[0]) != subject_no:\n",
    "                        Snippet_paths_train.append(folder+file_)\n",
    "                    elif int(file_.split(\"_\")[0]) == subject_no:\n",
    "                        Snippet_paths_test.append(folder+file_)\n",
    "                        \n",
    "                        \n",
    "    X_train,y_train = load_data(Snippet_paths_train)\n",
    "\n",
    "    X_test,y_test = load_data(Snippet_paths_test)\n",
    "\n",
    "    y_test = y_test - 1\n",
    "    y_train = y_train - 1\n",
    "    \n",
    "    X_train_padded = keras.preprocessing.sequence.pad_sequences(X_train, maxlen=128, dtype='float64',\n",
    "        padding='pre', truncating='pre', value=0.)\n",
    "    X_test_padded = keras.preprocessing.sequence.pad_sequences(X_test, maxlen=128, dtype='float64',\n",
    "        padding='pre', truncating='pre', value=0.)\n",
    "    \n",
    "    X_train_used = X_train_padded\n",
    "    X_test_used = X_test_padded\n",
    "    # Input Data \n",
    "\n",
    "    training_data_count = len(X_train_used)  # 7352 training series (with 50% overlap between each serie)\n",
    "    test_data_count = len(X_test_used)  # 2947 testing series\n",
    "\n",
    "    timesteps = len(X_train_used[0]) # 128 timesteps per series\n",
    "    input_dim = len(X_train_used[0][0]) # 6 input parameters per timestep\n",
    "\n",
    "    # LSTM Neural Network's internal structure\n",
    "\n",
    "    n_hidden = 32 # Hidden layer num of features\n",
    "    n_classes = 6 # Total classes (should go up, or should go down)\n",
    "\n",
    "\n",
    "    # Training \n",
    "\n",
    "    learning_rate = 0.0025\n",
    "    lambda_loss_amount = 0.0015\n",
    "    batch_size = 1500\n",
    "\n",
    "    # Build model \n",
    "    model = Sequential()\n",
    "    model.add(LSTM(n_hidden, return_sequences=True, input_shape=(timesteps, input_dim)))\n",
    "    model.add(Dropout(0.5))\n",
    "    model.add(LSTM(n_hidden))\n",
    "    \n",
    "    model.add(Dense(n_classes, activation='sigmoid'))\n",
    "\n",
    "    model.compile(loss='categorical_crossentropy',\n",
    "                  optimizer='rmsprop',\n",
    "                  metrics=['accuracy'])\n",
    "\n",
    "    history =model.fit(X_train_used,\n",
    "                       one_hot(y_train),\n",
    "                       batch_size=batch_size,\n",
    "                       validation_data=(X_test_used, one_hot(y_test)),\n",
    "                       epochs=50,\n",
    "                       class_weight = get_class_weights(y_train))\n",
    "\n",
    "\n",
    "    # Evaluate\n",
    "    y_score = model.predict(X_test_used)\n",
    "    y_score_all.extend(y_score)\n",
    "    predictions = y_score.argmax(1)\n",
    "    \n",
    "    y_test_all.extend(list(y_test))\n",
    "    y_pred_all.extend(list(predictions))\n",
    "y_pred_all = np.array(y_pred_all, dtype=np.int32)\n",
    "y_pred_all = y_pred_all.tolist()\n",
    "y_test_all = [l[0] for l in y_test_all]"
   ]
  },
  {
   "cell_type": "markdown",
   "metadata": {},
   "source": [
    "## And finally, the multi-class confusion matrix and metrics!"
   ]
  },
  {
   "cell_type": "code",
   "execution_count": 179,
   "metadata": {},
   "outputs": [
    {
     "name": "stdout",
     "output_type": "stream",
     "text": [
      "_________________________________________________________________\n",
      "Layer (type)                 Output Shape              Param #   \n",
      "=================================================================\n",
      "lstm_63 (LSTM)               (None, 128, 32)           4992      \n",
      "_________________________________________________________________\n",
      "dropout_32 (Dropout)         (None, 128, 32)           0         \n",
      "_________________________________________________________________\n",
      "lstm_64 (LSTM)               (None, 32)                8320      \n",
      "_________________________________________________________________\n",
      "dense_32 (Dense)             (None, 6)                 198       \n",
      "=================================================================\n",
      "Total params: 13,510\n",
      "Trainable params: 13,510\n",
      "Non-trainable params: 0\n",
      "_________________________________________________________________\n"
     ]
    }
   ],
   "source": [
    "model.summary()"
   ]
  },
  {
   "cell_type": "code",
   "execution_count": 180,
   "metadata": {},
   "outputs": [
    {
     "name": "stdout",
     "output_type": "stream",
     "text": [
      "\n",
      "Precision: 70.2903692377%\n",
      "Recall: 69.245142003%\n",
      "f1_score: 68.5706100045%\n",
      "Normalized confusion matrix\n"
     ]
    },
    {
     "data": {
      "image/png": "[encoded data removed]",
      "text/plain": [
       "<matplotlib.figure.Figure at 0x7ff95f1f1b10>"
      ]
     },
     "metadata": {},
     "output_type": "display_data"
    }
   ],
   "source": [
    "# Results\n",
    "\n",
    "# predictions = one_hot_predictions.argmax(1)\n",
    "\n",
    "predictions = y_pred_all\n",
    "y_test = y_test_all\n",
    "# print(\"Testing Accuracy: {}%\".format(100*accuracy))\n",
    "\n",
    "print(\"\")\n",
    "print(\"Precision: {}%\".format(100*metrics.precision_score(y_test, predictions, average=\"weighted\")))\n",
    "print(\"Recall: {}%\".format(100*metrics.recall_score(y_test, predictions, average=\"weighted\")))\n",
    "print(\"f1_score: {}%\".format(100*metrics.f1_score(y_test, predictions, average=\"weighted\")))\n",
    "\n",
    "cm =  confusion_matrix(y_test, predictions)\n",
    "plot_cm(cm, LABELS)"
   ]
  },
  {
   "cell_type": "code",
   "execution_count": 181,
   "metadata": {
    "collapsed": true
   },
   "outputs": [],
   "source": [
    "from sklearn.metrics import auc\n",
    "import numpy as np\n",
    "from sklearn import metrics"
   ]
  },
  {
   "cell_type": "code",
   "execution_count": 182,
   "metadata": {
    "collapsed": true
   },
   "outputs": [],
   "source": [
    "y_score = y_score_all\n",
    "y_score = np.array(y_score)\n",
    "y_test = one_hot(np.array(y_test_all))"
   ]
  },
  {
   "cell_type": "code",
   "execution_count": 183,
   "metadata": {
    "collapsed": true
   },
   "outputs": [],
   "source": [
    "best_n = np.argsort(y_score, axis=0)"
   ]
  },
  {
   "cell_type": "code",
   "execution_count": 184,
   "metadata": {},
   "outputs": [
    {
     "data": {
      "text/plain": [
       "array([[5151, 3746, 2571, 2212, 2409, 4306],\n",
       "       [ 932, 3583, 2519, 1221, 3302, 1091],\n",
       "       [4225, 3686, 2805, 2395, 2362, 1111],\n",
       "       ...,\n",
       "       [4289, 4487, 2848, 3858, 4037, 4292],\n",
       "       [3293, 4464, 2280,  335, 4019, 4142],\n",
       "       [3859, 4492, 4199,  646, 4021, 4245]])"
      ]
     },
     "execution_count": 184,
     "metadata": {},
     "output_type": "execute_result"
    }
   ],
   "source": [
    "best_n"
   ]
  },
  {
   "cell_type": "code",
   "execution_count": 1,
   "metadata": {
    "collapsed": true
   },
   "outputs": [],
   "source": [
    "def auc_roc_plot(y_test, y_score, classes  = 'all'):\n",
    "    from sklearn.metrics import roc_curve, auc\n",
    "    if classes is None:\n",
    "        classes = list(range(y_test.shape[1]))\n",
    "    # Compute ROC curve and ROC area for each class\n",
    "    fpr = dict()\n",
    "    tpr = dict()\n",
    "    roc_auc = dict()\n",
    "    for i in range(n_classes):\n",
    "        fpr[i], tpr[i], _ = roc_curve(y_test[:, i],y_score[:, i])\n",
    "        roc_auc[i] = auc(fpr[i], tpr[i])\n",
    "\n",
    "    # Compute micro-average ROC curve and ROC area\n",
    "    fpr[\"micro\"], tpr[\"micro\"], _ = roc_curve(y_test.ravel(), y_score.ravel())\n",
    "    roc_auc[\"micro\"] = auc(fpr[\"micro\"], tpr[\"micro\"])\n",
    "    \n",
    "    \n",
    "    \n",
    "\n",
    "    # First aggregate all false positive rates\n",
    "    all_fpr = np.unique(np.concatenate([fpr[i] for i in range(n_classes)]))\n",
    "\n",
    "    # Then interpolate all ROC curves at this points\n",
    "    mean_tpr = np.zeros_like(all_fpr)\n",
    "    for i in range(n_classes):\n",
    "        mean_tpr += np.interp(all_fpr, fpr[i], tpr[i])\n",
    "\n",
    "    # Finally average it and compute AUC\n",
    "    mean_tpr /= n_classes\n",
    "\n",
    "    fpr[\"macro\"] = all_fpr\n",
    "    tpr[\"macro\"] = mean_tpr\n",
    "    roc_auc[\"macro\"] = auc(fpr[\"macro\"], tpr[\"macro\"])\n",
    "    \n",
    "    # Plot all ROC curves\n",
    "    plt.figure()\n",
    "    plt.plot(fpr[\"micro\"], tpr[\"micro\"],\n",
    "             label='micro-average ROC curve (area = {0:0.2f})'\n",
    "                   ''.format(roc_auc[\"micro\"]),\n",
    "             color='deeppink', linestyle=':', linewidth=4)\n",
    "\n",
    "    plt.plot(fpr[\"macro\"], tpr[\"macro\"],\n",
    "             label='macro-average ROC curve (area = {0:0.2f})'\n",
    "                   ''.format(roc_auc[\"macro\"]),\n",
    "             color='navy', linestyle=':', linewidth=4)\n",
    "\n",
    "    colors = cycle(['aqua', 'darkorange', 'cornflowerblue'])\n",
    "    for i, color in zip(classes, colors):\n",
    "        plt.plot(fpr[i], tpr[i], color=color, lw=lw,\n",
    "                 label='ROC curve of class {0} (area = {1:0.2f})'\n",
    "                 ''.format(i, roc_auc[i]))\n",
    "\n",
    "    plt.plot([0, 1], [0, 1], 'k--', lw=lw)\n",
    "    plt.xlim([0.0, 1.0])\n",
    "    plt.ylim([0.0, 1.05])\n",
    "    plt.xlabel('False Positive Rate')\n",
    "    plt.ylabel('True Positive Rate')\n",
    "    plt.title('Some extension of Receiver operating characteristic to multi-class')\n",
    "    plt.legend(loc=\"lower right\")\n",
    "    plt.show()\n",
    "    "
   ]
  },
  {
   "cell_type": "code",
   "execution_count": 186,
   "metadata": {},
   "outputs": [
    {
     "data": {
      "text/plain": [
       "((5352, 6), (5352, 6))"
      ]
     },
     "execution_count": 186,
     "metadata": {},
     "output_type": "execute_result"
    }
   ],
   "source": [
    "y_test.shape, y_score.shape"
   ]
  },
  {
   "cell_type": "code",
   "execution_count": 187,
   "metadata": {},
   "outputs": [
    {
     "data": {
      "image/png": "[encoded data removed]",
      "text/plain": [
       "<matplotlib.figure.Figure at 0x7ff98d284650>"
      ]
     },
     "metadata": {},
     "output_type": "display_data"
    }
   ],
   "source": [
    "auc_roc_plot(y_test, y_score,classes=None)"
   ]
  },
  {
   "cell_type": "code",
   "execution_count": 191,
   "metadata": {},
   "outputs": [
    {
     "data": {
      "text/plain": [
       "PCA(copy=True, iterated_power='auto', n_components=6, random_state=None,\n",
       "  svd_solver='auto', tol=0.0, whiten=False)"
      ]
     },
     "execution_count": 191,
     "metadata": {},
     "output_type": "execute_result"
    }
   ],
   "source": [
    "from sklearn.decomposition import PCA\n",
    "pca = PCA(n_components=6)\n",
    "pca.fit(X_test_used[1,:,:])"
   ]
  },
  {
   "cell_type": "code",
   "execution_count": 192,
   "metadata": {
    "collapsed": true
   },
   "outputs": [],
   "source": [
    "pca_score = pca.explained_variance_ratio_\n",
    "V = pca.components_"
   ]
  },
  {
   "cell_type": "code",
   "execution_count": 193,
   "metadata": {},
   "outputs": [
    {
     "data": {
      "image/png": "[encoded data removed]",
      "text/plain": [
       "<matplotlib.figure.Figure at 0x7ff95035f610>"
      ]
     },
     "metadata": {},
     "output_type": "display_data"
    }
   ],
   "source": [
    "plt.plot(pca_score, '*')\n",
    "plt.show()"
   ]
  },
  {
   "cell_type": "code",
   "execution_count": 96,
   "metadata": {},
   "outputs": [
    {
     "data": {
      "text/plain": [
       "(128, 6)"
      ]
     },
     "execution_count": 96,
     "metadata": {},
     "output_type": "execute_result"
    }
   ],
   "source": [
    "X_test_used[1,:,:].shape"
   ]
  },
  {
   "cell_type": "code",
   "execution_count": 120,
   "metadata": {},
   "outputs": [
    {
     "data": {
      "text/plain": [
       "(1940, 6)"
      ]
     },
     "execution_count": 120,
     "metadata": {},
     "output_type": "execute_result"
    }
   ],
   "source": [
    "np.concatenate([model.predict(X_test_used), model.predict(X_test_used)]).shape"
   ]
  },
  {
   "cell_type": "code",
   "execution_count": 122,
   "metadata": {
    "collapsed": true
   },
   "outputs": [],
   "source": [
    "b = model.predict(X_test_used)"
   ]
  },
  {
   "cell_type": "code",
   "execution_count": 126,
   "metadata": {
    "collapsed": true
   },
   "outputs": [],
   "source": [
    "a = []"
   ]
  },
  {
   "cell_type": "code",
   "execution_count": 128,
   "metadata": {
    "collapsed": true
   },
   "outputs": [],
   "source": [
    "a.extend(b)"
   ]
  },
  {
   "cell_type": "code",
   "execution_count": 175,
   "metadata": {
    "collapsed": true
   },
   "outputs": [],
   "source": [
    "from __future__ import print_function\n",
    "import numpy as np\n",
    "np.random.seed(1337)  # for reproducibility\n",
    "from functools import partial\n",
    "from keras.datasets import mnist\n",
    "from keras.models import Sequential\n",
    "from keras.layers.core import Dense, Dropout, Activation\n",
    "from keras.optimizers import SGD, Adam, RMSprop\n",
    "from keras.utils import np_utils\n",
    "import keras.backend as K\n",
    "from itertools import product\n",
    "\n",
    "# Custom loss function with costs\n",
    "\n",
    "def w_categorical_crossentropy(y_true, y_pred, weights):\n",
    "    nb_cl = len(weights)\n",
    "    final_mask = K.zeros_like(y_pred[:, 0])\n",
    "    y_pred_max = K.max(y_pred, axis=1)\n",
    "    y_pred_max = K.reshape(y_pred_max, (K.shape(y_pred)[0], 1))\n",
    "    y_pred_max_mat = K.equal(y_pred, y_pred_max)\n",
    "    for c_p, c_t in product(range(nb_cl), range(nb_cl)):\n",
    "        final_mask += (weights[c_t, c_p] * y_pred_max_mat[:, c_p] * y_true[:, c_t])\n",
    "    return K.categorical_crossentropy(y_pred, y_true) * final_mask\n",
    "\n",
    "w_array = np.ones((6,6))\n",
    "w_array[3, 5] = 1.2\n",
    "w_array[5, 3] = 10\n",
    "\n",
    "ncce = partial(w_categorical_crossentropy, weights=w_array)"
   ]
  },
  {
   "cell_type": "code",
   "execution_count": 170,
   "metadata": {},
   "outputs": [
    {
     "data": {
      "text/plain": [
       "array([[ 1. ,  1. ,  1. ,  1. ,  1. ,  1. ],\n",
       "       [ 1. ,  1. ,  1. ,  1. ,  1. ,  1. ],\n",
       "       [ 1. ,  1. ,  1. ,  1. ,  1. ,  1. ],\n",
       "       [ 1. ,  1. ,  1. ,  1. ,  1. ,  1.2],\n",
       "       [ 1. ,  1. ,  1. ,  1. ,  1. ,  1. ],\n",
       "       [ 1. ,  1. ,  1. , 10. ,  1. ,  1. ]])"
      ]
     },
     "execution_count": 170,
     "metadata": {},
     "output_type": "execute_result"
    }
   ],
   "source": []
  },
  {
   "cell_type": "code",
   "execution_count": null,
   "metadata": {
    "collapsed": true
   },
   "outputs": [],
   "source": []
  }
 ],
 "metadata": {
  "kernelspec": {
   "display_name": "Python 2",
   "language": "python",
   "name": "python2"
  },
  "language_info": {
   "codemirror_mode": {
    "name": "ipython",
    "version": 2
   },
   "file_extension": ".py",
   "mimetype": "text/x-python",
   "name": "python",
   "nbconvert_exporter": "python",
   "pygments_lexer": "ipython2",
   "version": "2.7.11"
  }
 },
 "nbformat": 4,
 "nbformat_minor": 2
}
