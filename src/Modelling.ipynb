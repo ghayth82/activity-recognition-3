{
 "cells": [
  {
   "cell_type": "code",
   "execution_count": 1,
   "metadata": {},
   "outputs": [
    {
     "name": "stderr",
     "output_type": "stream",
     "text": [
      "/anaconda/envs/py35/lib/python3.5/site-packages/h5py/__init__.py:36: FutureWarning: Conversion of the second argument of issubdtype from `float` to `np.floating` is deprecated. In future, it will be treated as `np.float64 == np.dtype(float).type`.\n",
      "  from ._conv import register_converters as _register_converters\n",
      "Using TensorFlow backend.\n"
     ]
    }
   ],
   "source": [
    "%matplotlib inline\n",
    "import pandas as pd\n",
    "import matplotlib.pyplot as plt\n",
    "import numpy as np\n",
    "import itertools\n",
    "import datetime\n",
    "import os\n",
    "import glob\n",
    "import sys\n",
    "from utils import *\n",
    "\n",
    "\n",
    "from sklearn.metrics import confusion_matrix\n",
    "from sklearn.utils import shuffle\n",
    "from sklearn.linear_model import LogisticRegression\n",
    "from sklearn.ensemble import RandomForestClassifier\n",
    "from sklearn import svm, metrics\n",
    "\n",
    "\n",
    "import keras\n",
    "from keras.models import Sequential\n",
    "from keras.layers import Dense, Dropout, Activation,Flatten, Reshape\n",
    "from keras.layers import LSTM,GRU\n",
    "from sklearn.preprocessing import MinMaxScaler\n",
    "from keras.preprocessing import sequence\n",
    "from sklearn.metrics import mean_squared_error\n",
    "from keras.callbacks import Callback\n",
    "from keras.layers import Conv1D, MaxPooling1D, GlobalAveragePooling1D, Conv2D, AveragePooling1D, MaxPooling2D\n",
    "from keras.models import Model\n",
    "from keras.callbacks import EarlyStopping, ModelCheckpoint\n",
    "from keras.optimizers import Adam\n",
    "from keras.utils.vis_utils import plot_model\n",
    "from keras.utils import multi_gpu_model\n",
    "\n",
    "\n",
    "sns.set(style=\"darkgrid\")\n",
    "import dsmuc.io as io\n",
    "import dsmuc.preprocessing as pp\n",
    "import dsmuc.features as ff\n",
    "import dsmuc.custom as cs"
   ]
  },
  {
   "cell_type": "markdown",
   "metadata": {},
   "source": [
    "## Inputs"
   ]
  },
  {
   "cell_type": "code",
   "execution_count": 2,
   "metadata": {},
   "outputs": [],
   "source": [
    "raw_windows_path = \"/home/ahmet/notebooks/data/G9_data/Raw/snippets/\"\n",
    "processed_file_path = \"/home/ahmet/notebooks/data/G9_data/processed.csv\""
   ]
  },
  {
   "cell_type": "code",
   "execution_count": 3,
   "metadata": {},
   "outputs": [],
   "source": [
    "columns = ['accX', 'accY', 'accZ', 'gyroX', 'gyroY', 'gyroZ']"
   ]
  },
  {
   "cell_type": "code",
   "execution_count": 4,
   "metadata": {},
   "outputs": [
    {
     "name": "stdout",
     "output_type": "stream",
     "text": [
      "Found 34519 windows\n"
     ]
    }
   ],
   "source": [
    "win_paths = glob.glob(raw_windows_path+'*/*.csv')\n",
    "print(\"Found {} windows\".format(len(win_paths)))"
   ]
  },
  {
   "cell_type": "code",
   "execution_count": 5,
   "metadata": {},
   "outputs": [],
   "source": [
    "win_list = [pd.read_csv(win_paths[i], index_col='date', parse_dates=True) for i in range(len(win_paths))]"
   ]
  },
  {
   "cell_type": "code",
   "execution_count": 6,
   "metadata": {},
   "outputs": [
    {
     "data": {
      "text/plain": [
       "34519"
      ]
     },
     "execution_count": 6,
     "metadata": {},
     "output_type": "execute_result"
    }
   ],
   "source": [
    "len(win_list)"
   ]
  },
  {
   "cell_type": "code",
   "execution_count": 7,
   "metadata": {},
   "outputs": [
    {
     "data": {
      "text/html": [
       "<div>\n",
       "<style scoped>\n",
       "    .dataframe tbody tr th:only-of-type {\n",
       "        vertical-align: middle;\n",
       "    }\n",
       "\n",
       "    .dataframe tbody tr th {\n",
       "        vertical-align: top;\n",
       "    }\n",
       "\n",
       "    .dataframe thead th {\n",
       "        text-align: right;\n",
       "    }\n",
       "</style>\n",
       "<table border=\"1\" class=\"dataframe\">\n",
       "  <thead>\n",
       "    <tr style=\"text-align: right;\">\n",
       "      <th></th>\n",
       "      <th>accX</th>\n",
       "      <th>accY</th>\n",
       "      <th>accZ</th>\n",
       "      <th>gyroX</th>\n",
       "      <th>gyroY</th>\n",
       "      <th>gyroZ</th>\n",
       "      <th>subject_id</th>\n",
       "      <th>label</th>\n",
       "    </tr>\n",
       "    <tr>\n",
       "      <th>date</th>\n",
       "      <th></th>\n",
       "      <th></th>\n",
       "      <th></th>\n",
       "      <th></th>\n",
       "      <th></th>\n",
       "      <th></th>\n",
       "      <th></th>\n",
       "      <th></th>\n",
       "    </tr>\n",
       "  </thead>\n",
       "  <tbody>\n",
       "    <tr>\n",
       "      <th>2017-12-20 07:21:47.028</th>\n",
       "      <td>-9.797073</td>\n",
       "      <td>-2.552219</td>\n",
       "      <td>0.057461</td>\n",
       "      <td>0.044500</td>\n",
       "      <td>0.098412</td>\n",
       "      <td>0.390070</td>\n",
       "      <td>11</td>\n",
       "      <td>5</td>\n",
       "    </tr>\n",
       "    <tr>\n",
       "      <th>2017-12-20 07:21:47.051</th>\n",
       "      <td>-9.797073</td>\n",
       "      <td>-2.533065</td>\n",
       "      <td>0.071826</td>\n",
       "      <td>0.030651</td>\n",
       "      <td>0.086162</td>\n",
       "      <td>0.327219</td>\n",
       "      <td>11</td>\n",
       "      <td>5</td>\n",
       "    </tr>\n",
       "    <tr>\n",
       "      <th>2017-12-20 07:21:47.055</th>\n",
       "      <td>-9.619903</td>\n",
       "      <td>-2.542642</td>\n",
       "      <td>0.167594</td>\n",
       "      <td>0.001889</td>\n",
       "      <td>0.083498</td>\n",
       "      <td>0.255847</td>\n",
       "      <td>11</td>\n",
       "      <td>5</td>\n",
       "    </tr>\n",
       "    <tr>\n",
       "      <th>2017-12-20 07:21:47.081</th>\n",
       "      <td>-9.543288</td>\n",
       "      <td>-2.537854</td>\n",
       "      <td>0.177171</td>\n",
       "      <td>-0.018883</td>\n",
       "      <td>0.077107</td>\n",
       "      <td>0.180213</td>\n",
       "      <td>11</td>\n",
       "      <td>5</td>\n",
       "    </tr>\n",
       "    <tr>\n",
       "      <th>2017-12-20 07:21:47.095</th>\n",
       "      <td>-9.504981</td>\n",
       "      <td>-2.523489</td>\n",
       "      <td>0.215478</td>\n",
       "      <td>-0.023677</td>\n",
       "      <td>0.069650</td>\n",
       "      <td>0.108307</td>\n",
       "      <td>11</td>\n",
       "      <td>5</td>\n",
       "    </tr>\n",
       "  </tbody>\n",
       "</table>\n",
       "</div>"
      ],
      "text/plain": [
       "                             accX      accY      accZ     gyroX     gyroY  \\\n",
       "date                                                                        \n",
       "2017-12-20 07:21:47.028 -9.797073 -2.552219  0.057461  0.044500  0.098412   \n",
       "2017-12-20 07:21:47.051 -9.797073 -2.533065  0.071826  0.030651  0.086162   \n",
       "2017-12-20 07:21:47.055 -9.619903 -2.542642  0.167594  0.001889  0.083498   \n",
       "2017-12-20 07:21:47.081 -9.543288 -2.537854  0.177171 -0.018883  0.077107   \n",
       "2017-12-20 07:21:47.095 -9.504981 -2.523489  0.215478 -0.023677  0.069650   \n",
       "\n",
       "                            gyroZ  subject_id  label  \n",
       "date                                                  \n",
       "2017-12-20 07:21:47.028  0.390070          11      5  \n",
       "2017-12-20 07:21:47.051  0.327219          11      5  \n",
       "2017-12-20 07:21:47.055  0.255847          11      5  \n",
       "2017-12-20 07:21:47.081  0.180213          11      5  \n",
       "2017-12-20 07:21:47.095  0.108307          11      5  "
      ]
     },
     "execution_count": 7,
     "metadata": {},
     "output_type": "execute_result"
    }
   ],
   "source": [
    "win_list[1].head()"
   ]
  },
  {
   "cell_type": "code",
   "execution_count": 8,
   "metadata": {},
   "outputs": [],
   "source": [
    "def get_raw(win_list):\n",
    "    # Get data in raw format for models\n",
    "    \n",
    "    win_len = len(win_list)\n",
    "    X , y , s=[], [], []\n",
    "    for win in win_list:\n",
    "        # Append data, label and subject id \n",
    "        X.append(win[columns].values)\n",
    "        y.append(win['label'][0])\n",
    "        s.append(win['subject_id'][0])\n",
    "    return np.array(X), np.array(y), np.array(s)\n",
    "\n",
    "def get_processed(processed_file_path):\n",
    "    # Get Processed data to use in models\n",
    "    \n",
    "    df = pd.read_csv(processed_file_path)\n",
    "    df.dropna(axis=0, how='any', inplace=True)\n",
    "    X = df[df.columns[:-3]].values\n",
    "    y = df['label']\n",
    "    s = df['subject_id']\n",
    "    return X, y, s \n",
    "    "
   ]
  },
  {
   "cell_type": "code",
   "execution_count": 9,
   "metadata": {},
   "outputs": [],
   "source": [
    "X_raw, y_raw, s_raw = get_raw(win_list)"
   ]
  },
  {
   "cell_type": "code",
   "execution_count": 10,
   "metadata": {},
   "outputs": [],
   "source": [
    "X_prep, y_prep, s_prep = get_processed(processed_file_path)"
   ]
  },
  {
   "cell_type": "markdown",
   "metadata": {},
   "source": [
    "## CNN"
   ]
  },
  {
   "cell_type": "code",
   "execution_count": 11,
   "metadata": {},
   "outputs": [],
   "source": [
    "def CNN1():\n",
    "    # 77% accuracy\n",
    "    model = Sequential()\n",
    "    model.add(Conv1D(8,\n",
    "                    64,\n",
    "                     input_shape=(timesteps,1),\n",
    "                     padding='valid',\n",
    "                     activation='relu',\n",
    "                     strides=1))\n",
    "    model.add(MaxPooling1D(pool_size=9))\n",
    "    model.add(Conv1D(16,\n",
    "                    16,\n",
    "                     padding='valid',\n",
    "                     activation='relu',\n",
    "                     strides=1))\n",
    "    model.add(MaxPooling1D(pool_size = 7))\n",
    "    model.add(Conv1D(64,\n",
    "                    4,\n",
    "                     padding='valid',\n",
    "                     activation='relu',\n",
    "                     strides=1))\n",
    "    model.add(MaxPooling1D(pool_size = 2))\n",
    "    model.add(Flatten())\n",
    "    model.add(Dense(64,activation='relu'))\n",
    "    model.add(Dropout(0.5))\n",
    "    model.add(Dense(64,activation='relu'))\n",
    "    model.add(Dense(n_classes, activation='softmax'))\n",
    "    model.summary()\n",
    "    \n",
    "    return model\n",
    "\n",
    "def CNN2():\n",
    "    # 77% accuracy\n",
    "    model = Sequential()\n",
    "    model.add(Conv2D(8,\n",
    "                    (64,3),\n",
    "                     input_shape=(timesteps,6,1),\n",
    "                     padding='valid',\n",
    "                     activation='relu'))\n",
    "    model.add(MaxPooling2D(pool_size=(4,1)))\n",
    "    model.add(Conv2D(16,\n",
    "                    (16,3),\n",
    "                     padding='valid',\n",
    "                     activation='relu',\n",
    "                     strides=1))\n",
    "    model.add(MaxPooling2D(pool_size=(1,2)))\n",
    "    model.add(Flatten())\n",
    "    model.add(Dense(64,activation='relu'))\n",
    "    model.add(Dropout(0.5))\n",
    "    model.add(Dense(64,activation='relu'))\n",
    "    model.add(Dense(n_classes, activation='softmax'))\n",
    "    model.summary()\n",
    "    \n",
    "    return model"
   ]
  },
  {
   "cell_type": "markdown",
   "metadata": {},
   "source": [
    "## RNN"
   ]
  },
  {
   "cell_type": "code",
   "execution_count": 12,
   "metadata": {},
   "outputs": [],
   "source": [
    "def RNN1():\n",
    "    # 85% accuracy\n",
    "    model = Sequential()\n",
    "    model.add(Conv1D(8,\n",
    "                    64,\n",
    "                     input_shape=(timesteps,1),\n",
    "                     padding='valid',\n",
    "                     activation='relu',\n",
    "                     strides=1))\n",
    "    model.add(MaxPooling1D(pool_size=2))\n",
    "    model.add(Conv1D(16,\n",
    "                    16,\n",
    "                     padding='valid',\n",
    "                     activation='relu',\n",
    "                     strides=1))\n",
    "    model.add(MaxPooling1D(pool_size = 2))\n",
    "    model.add(Conv1D(64,\n",
    "                    4,\n",
    "                     padding='valid',\n",
    "                     activation='relu',\n",
    "                     strides=1))\n",
    "    model.add(MaxPooling1D(pool_size = 2))\n",
    "    model.add(LSTM(64))\n",
    "    model.add(Dense(n_classes, activation='softmax'))\n",
    "    model.summary()\n",
    "    \n",
    "    return model\n",
    "def RNN2():\n",
    "    # 85% accuracy\n",
    "    model = Sequential()\n",
    "    model.add(Conv2D(8,\n",
    "                    (64,3),\n",
    "                     input_shape=(timesteps,6,1),\n",
    "                     padding='valid',\n",
    "                     activation='relu'))\n",
    "    model.add(MaxPooling2D(pool_size=(4,1)))\n",
    "    model.add(Conv2D(16,\n",
    "                    (16,3),\n",
    "                     padding='valid',\n",
    "                     activation='relu',\n",
    "                     strides=1))\n",
    "    model.add(MaxPooling2D(pool_size=(1,2)))\n",
    "    model.add(Reshape(target_shape=(1,16)))   \n",
    "    model.add(LSTM(64))\n",
    "    model.add(Dense(n_classes, activation='softmax'))\n",
    "    model.summary()\n",
    "    \n",
    "    return model"
   ]
  },
  {
   "cell_type": "markdown",
   "metadata": {},
   "source": [
    "## MLP"
   ]
  },
  {
   "cell_type": "code",
   "execution_count": 13,
   "metadata": {},
   "outputs": [],
   "source": [
    "def MLP():\n",
    "    model = Sequential()\n",
    "    model.add(Dense(512, input_shape =(timesteps,)))\n",
    "    model.add(Dense(512,activation='relu'))\n",
    "    model.add(Dense(512, activation='relu'))\n",
    "    model.add(Dense(512, activation='relu'))\n",
    "    model.add(Dense(256))\n",
    "    model.add(Dense(256))\n",
    "    model.add(Dense(32))\n",
    "    model.add(Dense(n_classes, activation='softmax'))\n",
    "\n",
    "    model.summary()\n",
    "    return model"
   ]
  },
  {
   "cell_type": "code",
   "execution_count": 14,
   "metadata": {},
   "outputs": [],
   "source": [
    "os.environ[\"CUDA_VISIBLE_DEVICES\"] = \"1\""
   ]
  },
  {
   "cell_type": "code",
   "execution_count": null,
   "metadata": {
    "scrolled": false
   },
   "outputs": [
    {
     "name": "stdout",
     "output_type": "stream",
     "text": [
      "==================\n",
      "Model tested on subjects with no :  [114 115]\n",
      "Test set and training set proportion :  0.03541402148176109\n"
     ]
    },
    {
     "name": "stderr",
     "output_type": "stream",
     "text": [
      "/anaconda/envs/py35/lib/python3.5/site-packages/ipykernel_launcher.py:118: FutureWarning: pd.rolling_mean is deprecated for ndarrays and will be removed in a future version\n"
     ]
    },
    {
     "name": "stdout",
     "output_type": "stream",
     "text": [
      "==================\n",
      "Model tested on subjects with no :  [  7 102]\n",
      "Test set and training set proportion :  0.04289368173648555\n",
      "==================\n",
      "Model tested on subjects with no :  [  9 104]\n",
      "Test set and training set proportion :  0.028216050434486283\n"
     ]
    }
   ],
   "source": [
    "selected_model = 'LogReg'\n",
    "\n",
    "raw_models = ['CNN1', 'MLP', 'RNN1', 'CNN2', 'RNN2']\n",
    "#LOO-Validation on each subject\n",
    "if selected_model in raw_models:\n",
    "    X = X_raw\n",
    "    y = y_raw\n",
    "    s = s_raw\n",
    "else:\n",
    "    X = X_prep\n",
    "    y = y_prep\n",
    "    s = s_prep\n",
    "    \n",
    "subject_list = np.unique(s_raw)\n",
    "y_test_all = []\n",
    "y_pred_all = []\n",
    "y_score_all = []\n",
    "# np.random.seed(44)\n",
    "iterations = shuffle(np.array(list(itertools.combinations(subject_list, 2))))\n",
    "\n",
    "it_index = iterations[:40]\n",
    "for subject in it_index: # two combination of tested subjects\n",
    "    if os.path.exists('weights.hdf5'):\n",
    "        os.remove('weights.hdf5')\n",
    "    print(\"==================\")\n",
    "    print('Model tested on subjects with no : ', subject)\n",
    "    mask_test = np.logical_or(s==subject[0], s== subject[1])\n",
    "    mask_training = np.logical_and(s!=subject[0], s!= subject[1])\n",
    "    X_test = X[mask_test]\n",
    "    y_test = y[mask_test] -1\n",
    "    X_training = X[mask_training] \n",
    "    y_training = y[mask_training] -1\n",
    "    print(\"Test set and training set proportion : \",float(X_test.shape[0])/X_training.shape[0] )\n",
    "    \n",
    "    class_weight = get_class_weights(y_training)\n",
    "\n",
    "    if not selected_model in raw_models : # Models will train on processed features\n",
    "        if selected_model == \"LogReg\":\n",
    "            model = LogisticRegression(class_weight = class_weight)\n",
    "        elif selected_model == \"SVM\":\n",
    "            model = svm.SVC( class_weight = class_weight, probability=True)\n",
    "        elif selected_model == 'RForest':\n",
    "            model = RandomForestClassifier(max_depth=10, n_estimators=20, class_weight=class_weight)\n",
    "        \n",
    "        model.fit(X_training, y_training)\n",
    "        y_pred = model.predict(X_test)\n",
    "        y_score = model.predict_proba(X_test)\n",
    "    else: # Models will train on raw data\n",
    "        callbacks = [keras.callbacks.EarlyStopping(monitor='val_loss',\n",
    "                              min_delta=0,\n",
    "                              patience=25,\n",
    "                              verbose=0, mode='auto'),\n",
    "            keras.callbacks.ModelCheckpoint(filepath=\"weights.hdf5\", verbose=1, save_best_only=True)]\n",
    "        \n",
    "        X_training = keras.preprocessing.sequence.pad_sequences(X_training, maxlen=128, dtype='float64',\n",
    "            padding='pre', truncating='pre', value=0.)\n",
    "        X_test = keras.preprocessing.sequence.pad_sequences(X_test, maxlen=128, dtype='float64',\n",
    "            padding='pre', truncating='pre', value=0.)\n",
    "        \n",
    "        batch_size = 1500\n",
    "        n_classes = 6\n",
    "        \n",
    "        if selected_model =='CNN1':\n",
    "            train_shape = X_training.shape\n",
    "            test_shape = X_test.shape\n",
    "            X_training = X_training.reshape(train_shape[0], -1,1)\n",
    "            X_test = X_test.reshape(test_shape[0], -1,1)\n",
    "            timesteps = len(X_training[0])\n",
    "            model = CNN1()\n",
    "        elif selected_model =='CNN2':\n",
    "            train_shape = X_training.shape\n",
    "            test_shape = X_test.shape\n",
    "            X_training = X_training.reshape(train_shape+(1,))\n",
    "            X_test = X_test.reshape(test_shape+ (1,))\n",
    "            timesteps = len(X_training[0])\n",
    "            model = CNN2()\n",
    "        elif selected_model =='RNN1':\n",
    "            train_shape = X_training.shape\n",
    "            test_shape = X_test.shape\n",
    "            X_training = X_training.reshape(train_shape[0], -1,1)\n",
    "            X_test = X_test.reshape(test_shape[0], -1,1)\n",
    "            timesteps = len(X_training[0])\n",
    "            model = RNN1()\n",
    "        elif selected_model =='RNN2':\n",
    "            train_shape = X_training.shape\n",
    "            test_shape = X_test.shape\n",
    "            X_training = X_training.reshape(train_shape+(1,))\n",
    "            X_test = X_test.reshape(test_shape+ (1,))\n",
    "            timesteps = len(X_training[0])\n",
    "            model = RNN2()\n",
    "        elif selected_model =='MLP':\n",
    "            train_shape = X_training.shape\n",
    "            test_shape = X_test.shape\n",
    "            X_train = X_train.reshape(train_shape[0], -1)\n",
    "            X_test = X_test.reshape(test_shape[0], -1)\n",
    "            timesteps = len(X_training[0])\n",
    "            model = MLP()\n",
    "            \n",
    "        # Compile model\n",
    "#         multi_model = multi_gpu_model(model = model, gpus = 1)\n",
    "        model.compile(loss='categorical_crossentropy',\n",
    "                  optimizer='rmsprop',\n",
    "                  metrics=['accuracy'])\n",
    "        history =model.fit(X_training,\n",
    "                  one_hot(y_training),\n",
    "                  batch_size=batch_size,\n",
    "                  validation_data=(X_test, one_hot(y_test)),\n",
    "                  epochs=100,\n",
    "                  callbacks=callbacks)\n",
    "        \n",
    "        model.load_weights('weights.hdf5')\n",
    "        y_pred = model.predict(X_test).argmax(1)\n",
    "        y_score = model.predict(X_test)\n",
    "        print(\"\")\n",
    "        \n",
    "    y_score_all.extend(y_score)\n",
    "    y_test_all.extend(list(y_test))\n",
    "    y_pred_all.extend(list(np.argmax(pd.rolling_mean(y_score, 50,min_periods=1), axis=1)))\n",
    "    '''plt.figure()\n",
    "    plt.plot(pd.rolling_mean( y_score, 50,min_periods=1), \"-\")\n",
    "    plt.xlim([0, 1.5*len(y_score)])\n",
    "    plt.legend(['walking',\n",
    "            'walking upstairs',\n",
    "            'walking downstairs',\n",
    "            'sitting',\n",
    "            'standing',\n",
    "            'laying'], loc='upper_left')\n",
    "    a = np.asarray(y_test).astype(np.int)\n",
    "    y_ticks = np.asarray(['walking',\n",
    "            'walking upstairs',\n",
    "            'walking downstairs',\n",
    "            'sitting',\n",
    "            'standing',\n",
    "            'laying'])[a]\n",
    "    plt.plot(y_ticks)\n",
    "    plt.xlim([0, 1.5*len(y_score)])'''\n",
    "#     plt.savefig('Figures/'+str(subject[0])+'_'+str(subject[1])+'.png')"
   ]
  },
  {
   "cell_type": "code",
   "execution_count": 1,
   "metadata": {},
   "outputs": [
    {
     "ename": "NameError",
     "evalue": "name 'confusion_matrix' is not defined",
     "output_type": "error",
     "traceback": [
      "\u001b[0;31m---------------------------------------------------------------------------\u001b[0m",
      "\u001b[0;31mNameError\u001b[0m                                 Traceback (most recent call last)",
      "\u001b[0;32m<ipython-input-1-64a55d54635b>\u001b[0m in \u001b[0;36m<module>\u001b[0;34m()\u001b[0m\n\u001b[1;32m      8\u001b[0m \u001b[0;34m\u001b[0m\u001b[0m\n\u001b[1;32m      9\u001b[0m \u001b[0;34m\u001b[0m\u001b[0m\n\u001b[0;32m---> 10\u001b[0;31m \u001b[0mcnf_matrix\u001b[0m \u001b[0;34m=\u001b[0m \u001b[0mconfusion_matrix\u001b[0m\u001b[0;34m(\u001b[0m\u001b[0my_test_all\u001b[0m\u001b[0;34m,\u001b[0m \u001b[0my_pred_all\u001b[0m\u001b[0;34m)\u001b[0m\u001b[0;34m\u001b[0m\u001b[0m\n\u001b[0m\u001b[1;32m     11\u001b[0m \u001b[0mnp\u001b[0m\u001b[0;34m.\u001b[0m\u001b[0mset_printoptions\u001b[0m\u001b[0;34m(\u001b[0m\u001b[0mprecision\u001b[0m\u001b[0;34m=\u001b[0m\u001b[0;36m2\u001b[0m\u001b[0;34m)\u001b[0m\u001b[0;34m\u001b[0m\u001b[0m\n\u001b[1;32m     12\u001b[0m \u001b[0;34m\u001b[0m\u001b[0m\n",
      "\u001b[0;31mNameError\u001b[0m: name 'confusion_matrix' is not defined"
     ]
    }
   ],
   "source": [
    "label_dict = {1:'walking',\n",
    "             2:'walking_upstairs',\n",
    "             3:'walking_downstairs',\n",
    "             4:'sitting',\n",
    "             5:'standing',\n",
    "             6:'laying'}\n",
    "class_names = list(label_dict.values())\n",
    "\n",
    "\n",
    "cnf_matrix = confusion_matrix(y_test_all, y_pred_all)\n",
    "np.set_printoptions(precision=2)\n",
    "\n",
    "save_with_name = selected_model\n",
    "# Plot non-normalized confusion matrix\n",
    "plt.figure()\n",
    "plot_cm(cnf_matrix, class_names, normalize=False)\n",
    "\n",
    "# Plot normalized confusion matrix\n",
    "plt.figure()\n",
    "plot_cm(cnf_matrix, class_names, normalize=True)\n",
    "plt.savefig(save_with_name+'.png')\n",
    "plt.show()"
   ]
  },
  {
   "cell_type": "code",
   "execution_count": 114,
   "metadata": {},
   "outputs": [
    {
     "name": "stdout",
     "output_type": "stream",
     "text": [
      "Overall accuracy of the Model 0.7818883517854358\n"
     ]
    }
   ],
   "source": [
    "true_pos = np.diag(cnf_matrix).sum()\n",
    "accuracy = true_pos/float(cnf_matrix.sum())\n",
    "print('Overall accuracy of the Model', accuracy)"
   ]
  },
  {
   "cell_type": "code",
   "execution_count": 115,
   "metadata": {},
   "outputs": [
    {
     "name": "stdout",
     "output_type": "stream",
     "text": [
      "                    precision    recall  f1-score   support\n",
      "\n",
      "           walking       0.93      0.71      0.81      2686\n",
      "  walking_upstairs       0.72      0.78      0.75      4024\n",
      "walking_downstairs       0.80      0.75      0.78      3839\n",
      "           sitting       0.76      0.86      0.81      7360\n",
      "          standing       0.84      1.00      0.91      3624\n",
      "            laying       0.73      0.53      0.61      4119\n",
      "\n",
      "       avg / total       0.78      0.78      0.78     25652\n",
      "\n"
     ]
    }
   ],
   "source": [
    "from sklearn.metrics import classification_report\n",
    "print(classification_report(y_test_all, y_pred_all,target_names=class_names))"
   ]
  },
  {
   "cell_type": "code",
   "execution_count": 116,
   "metadata": {},
   "outputs": [
    {
     "data": {
      "image/png": "[encoded data removed]",
      "text/plain": [
       "<matplotlib.figure.Figure at 0x7f3c0ec17320>"
      ]
     },
     "metadata": {},
     "output_type": "display_data"
    }
   ],
   "source": [
    "auc_roc_plot(one_hot(np.array(y_test_all)), np.array(y_score_all), None)"
   ]
  }
 ],
 "metadata": {
  "anaconda-cloud": {},
  "kernelspec": {
   "display_name": "Python 3",
   "language": "python",
   "name": "python3"
  },
  "language_info": {
   "codemirror_mode": {
    "name": "ipython",
    "version": 3
   },
   "file_extension": ".py",
   "mimetype": "text/x-python",
   "name": "python",
   "nbconvert_exporter": "python",
   "pygments_lexer": "ipython3",
   "version": "3.5.4"
  }
 },
 "nbformat": 4,
 "nbformat_minor": 2
}
